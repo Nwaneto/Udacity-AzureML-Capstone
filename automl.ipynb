{
 "cells": [
  {
   "cell_type": "markdown",
   "metadata": {},
   "source": [
    "# Automated ML\n",
    "\n",
    "TODO: Import Dependencies. In the cell below, import all the dependencies that you will need to complete the project."
   ]
  },
  {
   "cell_type": "code",
   "execution_count": 1,
   "metadata": {
    "gather": {
     "logged": 1598423888013
    },
    "jupyter": {
     "outputs_hidden": false,
     "source_hidden": false
    },
    "nteract": {
     "transient": {
      "deleting": false
     }
    }
   },
   "outputs": [],
   "source": [
    "from azureml.core import Workspace, Experiment\n",
    "from azureml.core.compute import ComputeTarget, AmlCompute\n",
    "from azureml.core.compute_target import ComputeTargetException\n",
    "from azureml.data.dataset_factory import TabularDatasetFactory\n",
    "import pandas as pd\n",
    "from azureml.train.automl import AutoMLConfig\n",
    "from azureml.widgets import RunDetails\n",
    "from azureml.core.model import Model\n",
    "from azureml.core.model import InferenceConfig\n",
    "from azureml.core import Workspace, Environment\n",
    "from azureml.core import Model\n",
    "from azureml.core.webservice import AciWebservice, Webservice\n",
    "import json\n",
    "import joblib"
   ]
  },
  {
   "cell_type": "markdown",
   "metadata": {},
   "source": [
    "## Dataset\n",
    "\n",
    "### Overview\n",
    "TODO: In this markdown cell, give an overview of the dataset you are using. Also mention the task you will be performing.\n",
    "\n",
    "\n",
    "TODO: Get data. In the cell below, write code to access the data you will be using in this project. Remember that the dataset needs to be external."
   ]
  },
  {
   "cell_type": "code",
   "execution_count": 2,
   "metadata": {
    "gather": {
     "logged": 1598423890461
    },
    "jupyter": {
     "outputs_hidden": false,
     "source_hidden": false
    },
    "nteract": {
     "transient": {
      "deleting": false
     }
    }
   },
   "outputs": [
    {
     "name": "stdout",
     "output_type": "stream",
     "text": [
      "Workspace name: quick-starts-ws-137376\n",
      "Azure region: southcentralus\n",
      "Subscription id: 3e42d11f-d64d-4173-af9b-12ecaa1030b3\n",
      "Resource group: aml-quickstarts-137376\n"
     ]
    }
   ],
   "source": [
    "#Connection to the workspace and definition of the experiment \n",
    "ws = Workspace.from_config()\n",
    "experiment_name = 'Parkinson-classification'\n",
    "\n",
    "experiment=Experiment(workspace=ws, name=experiment_name)\n",
    "\n",
    "print('Workspace name: ' + ws.name, \n",
    "      'Azure region: ' + ws.location, \n",
    "      'Subscription id: ' + ws.subscription_id, \n",
    "      'Resource group: ' + ws.resource_group, sep = '\\n')\n",
    "\n",
    "run = experiment.start_logging()"
   ]
  },
  {
   "cell_type": "code",
   "execution_count": 3,
   "metadata": {},
   "outputs": [
    {
     "data": {
      "text/html": [
       "<div>\n",
       "<style scoped>\n",
       "    .dataframe tbody tr th:only-of-type {\n",
       "        vertical-align: middle;\n",
       "    }\n",
       "\n",
       "    .dataframe tbody tr th {\n",
       "        vertical-align: top;\n",
       "    }\n",
       "\n",
       "    .dataframe thead th {\n",
       "        text-align: right;\n",
       "    }\n",
       "</style>\n",
       "<table border=\"1\" class=\"dataframe\">\n",
       "  <thead>\n",
       "    <tr style=\"text-align: right;\">\n",
       "      <th></th>\n",
       "      <th>name</th>\n",
       "      <th>MDVP:Fo(Hz)</th>\n",
       "      <th>MDVP:Fhi(Hz)</th>\n",
       "      <th>MDVP:Flo(Hz)</th>\n",
       "      <th>MDVP:Jitter(%)</th>\n",
       "      <th>MDVP:Jitter(Abs)</th>\n",
       "      <th>MDVP:RAP</th>\n",
       "      <th>MDVP:PPQ</th>\n",
       "      <th>Jitter:DDP</th>\n",
       "      <th>MDVP:Shimmer</th>\n",
       "      <th>...</th>\n",
       "      <th>Shimmer:DDA</th>\n",
       "      <th>NHR</th>\n",
       "      <th>HNR</th>\n",
       "      <th>status</th>\n",
       "      <th>RPDE</th>\n",
       "      <th>DFA</th>\n",
       "      <th>spread1</th>\n",
       "      <th>spread2</th>\n",
       "      <th>D2</th>\n",
       "      <th>PPE</th>\n",
       "    </tr>\n",
       "  </thead>\n",
       "  <tbody>\n",
       "    <tr>\n",
       "      <th>0</th>\n",
       "      <td>phon_R01_S01_1</td>\n",
       "      <td>119.992</td>\n",
       "      <td>157.302</td>\n",
       "      <td>74.997</td>\n",
       "      <td>0.00784</td>\n",
       "      <td>0.00007</td>\n",
       "      <td>0.00370</td>\n",
       "      <td>0.00554</td>\n",
       "      <td>0.01109</td>\n",
       "      <td>0.04374</td>\n",
       "      <td>...</td>\n",
       "      <td>0.06545</td>\n",
       "      <td>0.02211</td>\n",
       "      <td>21.033</td>\n",
       "      <td>1</td>\n",
       "      <td>0.414783</td>\n",
       "      <td>0.815285</td>\n",
       "      <td>-4.813031</td>\n",
       "      <td>0.266482</td>\n",
       "      <td>2.301442</td>\n",
       "      <td>0.284654</td>\n",
       "    </tr>\n",
       "    <tr>\n",
       "      <th>1</th>\n",
       "      <td>phon_R01_S01_2</td>\n",
       "      <td>122.400</td>\n",
       "      <td>148.650</td>\n",
       "      <td>113.819</td>\n",
       "      <td>0.00968</td>\n",
       "      <td>0.00008</td>\n",
       "      <td>0.00465</td>\n",
       "      <td>0.00696</td>\n",
       "      <td>0.01394</td>\n",
       "      <td>0.06134</td>\n",
       "      <td>...</td>\n",
       "      <td>0.09403</td>\n",
       "      <td>0.01929</td>\n",
       "      <td>19.085</td>\n",
       "      <td>1</td>\n",
       "      <td>0.458359</td>\n",
       "      <td>0.819521</td>\n",
       "      <td>-4.075192</td>\n",
       "      <td>0.335590</td>\n",
       "      <td>2.486855</td>\n",
       "      <td>0.368674</td>\n",
       "    </tr>\n",
       "    <tr>\n",
       "      <th>2</th>\n",
       "      <td>phon_R01_S01_3</td>\n",
       "      <td>116.682</td>\n",
       "      <td>131.111</td>\n",
       "      <td>111.555</td>\n",
       "      <td>0.01050</td>\n",
       "      <td>0.00009</td>\n",
       "      <td>0.00544</td>\n",
       "      <td>0.00781</td>\n",
       "      <td>0.01633</td>\n",
       "      <td>0.05233</td>\n",
       "      <td>...</td>\n",
       "      <td>0.08270</td>\n",
       "      <td>0.01309</td>\n",
       "      <td>20.651</td>\n",
       "      <td>1</td>\n",
       "      <td>0.429895</td>\n",
       "      <td>0.825288</td>\n",
       "      <td>-4.443179</td>\n",
       "      <td>0.311173</td>\n",
       "      <td>2.342259</td>\n",
       "      <td>0.332634</td>\n",
       "    </tr>\n",
       "    <tr>\n",
       "      <th>3</th>\n",
       "      <td>phon_R01_S01_4</td>\n",
       "      <td>116.676</td>\n",
       "      <td>137.871</td>\n",
       "      <td>111.366</td>\n",
       "      <td>0.00997</td>\n",
       "      <td>0.00009</td>\n",
       "      <td>0.00502</td>\n",
       "      <td>0.00698</td>\n",
       "      <td>0.01505</td>\n",
       "      <td>0.05492</td>\n",
       "      <td>...</td>\n",
       "      <td>0.08771</td>\n",
       "      <td>0.01353</td>\n",
       "      <td>20.644</td>\n",
       "      <td>1</td>\n",
       "      <td>0.434969</td>\n",
       "      <td>0.819235</td>\n",
       "      <td>-4.117501</td>\n",
       "      <td>0.334147</td>\n",
       "      <td>2.405554</td>\n",
       "      <td>0.368975</td>\n",
       "    </tr>\n",
       "    <tr>\n",
       "      <th>4</th>\n",
       "      <td>phon_R01_S01_5</td>\n",
       "      <td>116.014</td>\n",
       "      <td>141.781</td>\n",
       "      <td>110.655</td>\n",
       "      <td>0.01284</td>\n",
       "      <td>0.00011</td>\n",
       "      <td>0.00655</td>\n",
       "      <td>0.00908</td>\n",
       "      <td>0.01966</td>\n",
       "      <td>0.06425</td>\n",
       "      <td>...</td>\n",
       "      <td>0.10470</td>\n",
       "      <td>0.01767</td>\n",
       "      <td>19.649</td>\n",
       "      <td>1</td>\n",
       "      <td>0.417356</td>\n",
       "      <td>0.823484</td>\n",
       "      <td>-3.747787</td>\n",
       "      <td>0.234513</td>\n",
       "      <td>2.332180</td>\n",
       "      <td>0.410335</td>\n",
       "    </tr>\n",
       "  </tbody>\n",
       "</table>\n",
       "<p>5 rows × 24 columns</p>\n",
       "</div>"
      ],
      "text/plain": [
       "             name  MDVP:Fo(Hz)  MDVP:Fhi(Hz)  MDVP:Flo(Hz)  MDVP:Jitter(%)  \\\n",
       "0  phon_R01_S01_1      119.992       157.302        74.997         0.00784   \n",
       "1  phon_R01_S01_2      122.400       148.650       113.819         0.00968   \n",
       "2  phon_R01_S01_3      116.682       131.111       111.555         0.01050   \n",
       "3  phon_R01_S01_4      116.676       137.871       111.366         0.00997   \n",
       "4  phon_R01_S01_5      116.014       141.781       110.655         0.01284   \n",
       "\n",
       "   MDVP:Jitter(Abs)  MDVP:RAP  MDVP:PPQ  Jitter:DDP  MDVP:Shimmer  ...  \\\n",
       "0           0.00007   0.00370   0.00554     0.01109       0.04374  ...   \n",
       "1           0.00008   0.00465   0.00696     0.01394       0.06134  ...   \n",
       "2           0.00009   0.00544   0.00781     0.01633       0.05233  ...   \n",
       "3           0.00009   0.00502   0.00698     0.01505       0.05492  ...   \n",
       "4           0.00011   0.00655   0.00908     0.01966       0.06425  ...   \n",
       "\n",
       "   Shimmer:DDA      NHR     HNR  status      RPDE       DFA   spread1  \\\n",
       "0      0.06545  0.02211  21.033       1  0.414783  0.815285 -4.813031   \n",
       "1      0.09403  0.01929  19.085       1  0.458359  0.819521 -4.075192   \n",
       "2      0.08270  0.01309  20.651       1  0.429895  0.825288 -4.443179   \n",
       "3      0.08771  0.01353  20.644       1  0.434969  0.819235 -4.117501   \n",
       "4      0.10470  0.01767  19.649       1  0.417356  0.823484 -3.747787   \n",
       "\n",
       "    spread2        D2       PPE  \n",
       "0  0.266482  2.301442  0.284654  \n",
       "1  0.335590  2.486855  0.368674  \n",
       "2  0.311173  2.342259  0.332634  \n",
       "3  0.334147  2.405554  0.368975  \n",
       "4  0.234513  2.332180  0.410335  \n",
       "\n",
       "[5 rows x 24 columns]"
      ]
     },
     "execution_count": 3,
     "metadata": {},
     "output_type": "execute_result"
    }
   ],
   "source": [
    "#Get the data from github\n",
    "path_url = 'https://gist.githubusercontent.com/Nwaneto/0d1477bd10c92f8b16ab19306d21a17f/raw/0af3078c0d174e26039ab31525487ceaceda77b0/parkinson-classification-data.csv'\n",
    "ds = TabularDatasetFactory.from_delimited_files(path = path_url)\n",
    "ds.to_pandas_dataframe().head()"
   ]
  },
  {
   "cell_type": "code",
   "execution_count": 4,
   "metadata": {},
   "outputs": [
    {
     "name": "stdout",
     "output_type": "stream",
     "text": [
      "Uploading an estimated of 6 files\n",
      "Uploading ./automl.ipynb\n",
      "Uploaded ./automl.ipynb, 1 files out of an estimated total of 6\n",
      "Uploading ./hyperparameter_tuning.ipynb\n",
      "Uploaded ./hyperparameter_tuning.ipynb, 2 files out of an estimated total of 6\n",
      "Uploading ./README.md\n",
      "Uploaded ./README.md, 3 files out of an estimated total of 6\n",
      "Uploading ./training_data.csv\n",
      "Uploaded ./training_data.csv, 4 files out of an estimated total of 6\n",
      "Uploading ./.ipynb_checkpoints/automl-checkpoint.ipynb\n",
      "Uploaded ./.ipynb_checkpoints/automl-checkpoint.ipynb, 5 files out of an estimated total of 6\n",
      "Uploading ./.ipynb_checkpoints/hyperparameter_tuning-checkpoint.ipynb\n",
      "Uploaded ./.ipynb_checkpoints/hyperparameter_tuning-checkpoint.ipynb, 6 files out of an estimated total of 6\n",
      "Uploaded 6 files\n"
     ]
    }
   ],
   "source": [
    "df=ds.to_pandas_dataframe()\n",
    "df.drop(\"name\", inplace=True, axis=1)  \n",
    "df.to_csv(\"./training_data.csv\")\n",
    "datastore = ws.get_default_datastore()\n",
    "datastore.upload(src_dir = \"./\", target_path = \"data/\")\n",
    "training_data = TabularDatasetFactory.from_delimited_files(path = [(datastore, (\"data/training_data.csv\"))])\n"
   ]
  },
  {
   "cell_type": "code",
   "execution_count": 5,
   "metadata": {
    "scrolled": true
   },
   "outputs": [
    {
     "data": {
      "text/html": [
       "<div>\n",
       "<style scoped>\n",
       "    .dataframe tbody tr th:only-of-type {\n",
       "        vertical-align: middle;\n",
       "    }\n",
       "\n",
       "    .dataframe tbody tr th {\n",
       "        vertical-align: top;\n",
       "    }\n",
       "\n",
       "    .dataframe thead th {\n",
       "        text-align: right;\n",
       "    }\n",
       "</style>\n",
       "<table border=\"1\" class=\"dataframe\">\n",
       "  <thead>\n",
       "    <tr style=\"text-align: right;\">\n",
       "      <th></th>\n",
       "      <th>MDVP:Fo(Hz)</th>\n",
       "      <th>MDVP:Fhi(Hz)</th>\n",
       "      <th>MDVP:Flo(Hz)</th>\n",
       "      <th>MDVP:Jitter(%)</th>\n",
       "      <th>MDVP:Jitter(Abs)</th>\n",
       "      <th>MDVP:RAP</th>\n",
       "      <th>MDVP:PPQ</th>\n",
       "      <th>Jitter:DDP</th>\n",
       "      <th>MDVP:Shimmer</th>\n",
       "      <th>MDVP:Shimmer(dB)</th>\n",
       "      <th>...</th>\n",
       "      <th>Shimmer:DDA</th>\n",
       "      <th>NHR</th>\n",
       "      <th>HNR</th>\n",
       "      <th>status</th>\n",
       "      <th>RPDE</th>\n",
       "      <th>DFA</th>\n",
       "      <th>spread1</th>\n",
       "      <th>spread2</th>\n",
       "      <th>D2</th>\n",
       "      <th>PPE</th>\n",
       "    </tr>\n",
       "  </thead>\n",
       "  <tbody>\n",
       "    <tr>\n",
       "      <th>0</th>\n",
       "      <td>119.992</td>\n",
       "      <td>157.302</td>\n",
       "      <td>74.997</td>\n",
       "      <td>0.00784</td>\n",
       "      <td>0.00007</td>\n",
       "      <td>0.00370</td>\n",
       "      <td>0.00554</td>\n",
       "      <td>0.01109</td>\n",
       "      <td>0.04374</td>\n",
       "      <td>0.426</td>\n",
       "      <td>...</td>\n",
       "      <td>0.06545</td>\n",
       "      <td>0.02211</td>\n",
       "      <td>21.033</td>\n",
       "      <td>1</td>\n",
       "      <td>0.414783</td>\n",
       "      <td>0.815285</td>\n",
       "      <td>-4.813031</td>\n",
       "      <td>0.266482</td>\n",
       "      <td>2.301442</td>\n",
       "      <td>0.284654</td>\n",
       "    </tr>\n",
       "    <tr>\n",
       "      <th>1</th>\n",
       "      <td>122.400</td>\n",
       "      <td>148.650</td>\n",
       "      <td>113.819</td>\n",
       "      <td>0.00968</td>\n",
       "      <td>0.00008</td>\n",
       "      <td>0.00465</td>\n",
       "      <td>0.00696</td>\n",
       "      <td>0.01394</td>\n",
       "      <td>0.06134</td>\n",
       "      <td>0.626</td>\n",
       "      <td>...</td>\n",
       "      <td>0.09403</td>\n",
       "      <td>0.01929</td>\n",
       "      <td>19.085</td>\n",
       "      <td>1</td>\n",
       "      <td>0.458359</td>\n",
       "      <td>0.819521</td>\n",
       "      <td>-4.075192</td>\n",
       "      <td>0.335590</td>\n",
       "      <td>2.486855</td>\n",
       "      <td>0.368674</td>\n",
       "    </tr>\n",
       "    <tr>\n",
       "      <th>2</th>\n",
       "      <td>116.682</td>\n",
       "      <td>131.111</td>\n",
       "      <td>111.555</td>\n",
       "      <td>0.01050</td>\n",
       "      <td>0.00009</td>\n",
       "      <td>0.00544</td>\n",
       "      <td>0.00781</td>\n",
       "      <td>0.01633</td>\n",
       "      <td>0.05233</td>\n",
       "      <td>0.482</td>\n",
       "      <td>...</td>\n",
       "      <td>0.08270</td>\n",
       "      <td>0.01309</td>\n",
       "      <td>20.651</td>\n",
       "      <td>1</td>\n",
       "      <td>0.429895</td>\n",
       "      <td>0.825288</td>\n",
       "      <td>-4.443179</td>\n",
       "      <td>0.311173</td>\n",
       "      <td>2.342259</td>\n",
       "      <td>0.332634</td>\n",
       "    </tr>\n",
       "    <tr>\n",
       "      <th>3</th>\n",
       "      <td>116.676</td>\n",
       "      <td>137.871</td>\n",
       "      <td>111.366</td>\n",
       "      <td>0.00997</td>\n",
       "      <td>0.00009</td>\n",
       "      <td>0.00502</td>\n",
       "      <td>0.00698</td>\n",
       "      <td>0.01505</td>\n",
       "      <td>0.05492</td>\n",
       "      <td>0.517</td>\n",
       "      <td>...</td>\n",
       "      <td>0.08771</td>\n",
       "      <td>0.01353</td>\n",
       "      <td>20.644</td>\n",
       "      <td>1</td>\n",
       "      <td>0.434969</td>\n",
       "      <td>0.819235</td>\n",
       "      <td>-4.117501</td>\n",
       "      <td>0.334147</td>\n",
       "      <td>2.405554</td>\n",
       "      <td>0.368975</td>\n",
       "    </tr>\n",
       "    <tr>\n",
       "      <th>4</th>\n",
       "      <td>116.014</td>\n",
       "      <td>141.781</td>\n",
       "      <td>110.655</td>\n",
       "      <td>0.01284</td>\n",
       "      <td>0.00011</td>\n",
       "      <td>0.00655</td>\n",
       "      <td>0.00908</td>\n",
       "      <td>0.01966</td>\n",
       "      <td>0.06425</td>\n",
       "      <td>0.584</td>\n",
       "      <td>...</td>\n",
       "      <td>0.10470</td>\n",
       "      <td>0.01767</td>\n",
       "      <td>19.649</td>\n",
       "      <td>1</td>\n",
       "      <td>0.417356</td>\n",
       "      <td>0.823484</td>\n",
       "      <td>-3.747787</td>\n",
       "      <td>0.234513</td>\n",
       "      <td>2.332180</td>\n",
       "      <td>0.410335</td>\n",
       "    </tr>\n",
       "  </tbody>\n",
       "</table>\n",
       "<p>5 rows × 23 columns</p>\n",
       "</div>"
      ],
      "text/plain": [
       "   MDVP:Fo(Hz)  MDVP:Fhi(Hz)  MDVP:Flo(Hz)  MDVP:Jitter(%)  MDVP:Jitter(Abs)  \\\n",
       "0      119.992       157.302        74.997         0.00784           0.00007   \n",
       "1      122.400       148.650       113.819         0.00968           0.00008   \n",
       "2      116.682       131.111       111.555         0.01050           0.00009   \n",
       "3      116.676       137.871       111.366         0.00997           0.00009   \n",
       "4      116.014       141.781       110.655         0.01284           0.00011   \n",
       "\n",
       "   MDVP:RAP  MDVP:PPQ  Jitter:DDP  MDVP:Shimmer  MDVP:Shimmer(dB)  ...  \\\n",
       "0   0.00370   0.00554     0.01109       0.04374             0.426  ...   \n",
       "1   0.00465   0.00696     0.01394       0.06134             0.626  ...   \n",
       "2   0.00544   0.00781     0.01633       0.05233             0.482  ...   \n",
       "3   0.00502   0.00698     0.01505       0.05492             0.517  ...   \n",
       "4   0.00655   0.00908     0.01966       0.06425             0.584  ...   \n",
       "\n",
       "   Shimmer:DDA      NHR     HNR  status      RPDE       DFA   spread1  \\\n",
       "0      0.06545  0.02211  21.033       1  0.414783  0.815285 -4.813031   \n",
       "1      0.09403  0.01929  19.085       1  0.458359  0.819521 -4.075192   \n",
       "2      0.08270  0.01309  20.651       1  0.429895  0.825288 -4.443179   \n",
       "3      0.08771  0.01353  20.644       1  0.434969  0.819235 -4.117501   \n",
       "4      0.10470  0.01767  19.649       1  0.417356  0.823484 -3.747787   \n",
       "\n",
       "    spread2        D2       PPE  \n",
       "0  0.266482  2.301442  0.284654  \n",
       "1  0.335590  2.486855  0.368674  \n",
       "2  0.311173  2.342259  0.332634  \n",
       "3  0.334147  2.405554  0.368975  \n",
       "4  0.234513  2.332180  0.410335  \n",
       "\n",
       "[5 rows x 23 columns]"
      ]
     },
     "execution_count": 5,
     "metadata": {},
     "output_type": "execute_result"
    }
   ],
   "source": [
    "df.head()"
   ]
  },
  {
   "cell_type": "code",
   "execution_count": 6,
   "metadata": {},
   "outputs": [
    {
     "name": "stdout",
     "output_type": "stream",
     "text": [
      "Creating\n",
      "Succeeded....................\n",
      "AmlCompute wait for completion finished\n",
      "\n",
      "Wait timeout has been reached\n",
      "Current provisioning state of AmlCompute is \"Succeeded\" and current node count is \"0\"\n"
     ]
    }
   ],
   "source": [
    "#Creation of the compute-cluster\n",
    "amlcompute_cluster_name = \"cpu-cluster\"\n",
    "\n",
    "try:\n",
    "    aml_compute = ComputeTarget(workspace=ws, name=amlcompute_cluster_name)\n",
    "    print('Found existing cluster, use it.')\n",
    "except ComputeTargetException:\n",
    "    compute_config = AmlCompute.provisioning_configuration(vm_size='STANDARD_DS3_V2',\n",
    "                                                           max_nodes=5)\n",
    "    aml_compute = ComputeTarget.create(ws, amlcompute_cluster_name, compute_config)\n",
    "\n",
    "aml_compute.wait_for_completion(show_output=True , min_node_count = 1, timeout_in_minutes = 2)"
   ]
  },
  {
   "cell_type": "markdown",
   "metadata": {},
   "source": [
    "## AutoML Configuration\n",
    "\n",
    "TODO: Explain why you chose the automl settings and cofiguration you used below."
   ]
  },
  {
   "cell_type": "code",
   "execution_count": 7,
   "metadata": {
    "gather": {
     "logged": 1598429217746
    },
    "jupyter": {
     "outputs_hidden": false,
     "source_hidden": false
    },
    "nteract": {
     "transient": {
      "deleting": false
     }
    }
   },
   "outputs": [],
   "source": [
    "# Automl settings \n",
    "automl_settings = {\n",
    "    \"experiment_timeout_minutes\" :15,\n",
    "    \"max_concurrent_iterations\": 4,\n",
    "    \"n_cross_validations\": 5,\n",
    "    \"primary_metric\": 'accuracy',\n",
    "}\n",
    "\n",
    "# Automl config \n",
    "automl_config = AutoMLConfig(\n",
    "    task=\"classification\",\n",
    "    compute_target=aml_compute,\n",
    "    training_data=training_data,\n",
    "    label_column_name=\"status\",\n",
    "    **automl_settings\n",
    ")"
   ]
  },
  {
   "cell_type": "code",
   "execution_count": 8,
   "metadata": {
    "gather": {
     "logged": 1598431107951
    },
    "jupyter": {
     "outputs_hidden": false,
     "source_hidden": false
    },
    "nteract": {
     "transient": {
      "deleting": false
     }
    }
   },
   "outputs": [
    {
     "name": "stdout",
     "output_type": "stream",
     "text": [
      "Running on remote.\n",
      "No run_configuration provided, running on cpu-cluster with default configuration\n",
      "Running on remote compute: cpu-cluster\n",
      "Parent Run ID: AutoML_52fec94b-7a74-459f-a9f9-315d832f9817\n",
      "\n",
      "Current status: FeaturesGeneration. Generating features for the dataset.\n",
      "Current status: ModelSelection. Beginning model selection.\n",
      "\n",
      "****************************************************************************************************\n",
      "DATA GUARDRAILS: \n",
      "\n",
      "TYPE:         Class balancing detection\n",
      "STATUS:       PASSED\n",
      "DESCRIPTION:  Your inputs were analyzed, and all classes are balanced in your training data.\n",
      "              Learn more about imbalanced data: https://aka.ms/AutomatedMLImbalancedData\n",
      "\n",
      "****************************************************************************************************\n",
      "\n",
      "TYPE:         Missing feature values imputation\n",
      "STATUS:       PASSED\n",
      "DESCRIPTION:  No feature missing values were detected in the training data.\n",
      "              Learn more about missing value imputation: https://aka.ms/AutomatedMLFeaturization\n",
      "\n",
      "****************************************************************************************************\n",
      "\n",
      "TYPE:         High cardinality feature detection\n",
      "STATUS:       PASSED\n",
      "DESCRIPTION:  Your inputs were analyzed, and no high cardinality features were detected.\n",
      "              Learn more about high cardinality feature handling: https://aka.ms/AutomatedMLFeaturization\n",
      "\n",
      "****************************************************************************************************\n",
      "\n",
      "****************************************************************************************************\n",
      "ITERATION: The iteration being evaluated.\n",
      "PIPELINE: A summary description of the pipeline being evaluated.\n",
      "DURATION: Time taken for the current iteration.\n",
      "METRIC: The result of computing score on the fitted pipeline.\n",
      "BEST: The best observed score thus far.\n",
      "****************************************************************************************************\n",
      "\n",
      " ITERATION   PIPELINE                                       DURATION      METRIC      BEST\n",
      "         2   MinMaxScaler RandomForest                      0:00:57       0.9026    0.9026\n",
      "         1   MaxAbsScaler XGBoostClassifier                 0:00:56       0.9641    0.9641\n",
      "         5   RobustScaler KNN                               0:00:49       0.8564    0.9641\n",
      "         3   MinMaxScaler RandomForest                      0:02:05       0.8718    0.9641\n",
      "         4   MinMaxScaler RandomForest                      0:02:01       0.9231    0.9641\n",
      "         0   MaxAbsScaler LightGBM                          0:02:18       0.9641    0.9641\n",
      "         6   SparseNormalizer XGBoostClassifier             0:01:07       0.9333    0.9641\n",
      "         7   RobustScaler SVM                               0:00:52       0.9590    0.9641\n",
      "         8   SparseNormalizer XGBoostClassifier             0:00:54       0.9436    0.9641\n",
      "         9   SparseNormalizer XGBoostClassifier             0:01:05       0.9333    0.9641\n",
      "        10   StandardScalerWrapper LogisticRegression       0:00:55       0.8410    0.9641\n",
      "        11   StandardScalerWrapper RandomForest             0:01:03       0.9385    0.9641\n",
      "        12   MaxAbsScaler LightGBM                          0:00:55       0.8615    0.9641\n",
      "        13   MaxAbsScaler LightGBM                          0:00:53       0.9128    0.9641\n",
      "        14   MaxAbsScaler ExtremeRandomTrees                0:00:53       0.9436    0.9641\n",
      "        15   StandardScalerWrapper LightGBM                 0:00:55       0.9026    0.9641\n",
      "        16   StandardScalerWrapper LightGBM                 0:00:53       0.8667    0.9641\n",
      "        17   SparseNormalizer XGBoostClassifier             0:00:52       0.9026    0.9641\n",
      "        18   StandardScalerWrapper LightGBM                 0:00:55       0.9282    0.9641\n",
      "        19   MaxAbsScaler LightGBM                          0:00:51       0.8974    0.9641\n",
      "        21   SparseNormalizer XGBoostClassifier             0:00:53       0.9231    0.9641\n",
      "        20   MinMaxScaler RandomForest                      0:01:17       0.9128    0.9641\n",
      "        22   MaxAbsScaler RandomForest                      0:00:55       0.9538    0.9641\n",
      "        23   RobustScaler LightGBM                          0:01:01       0.9487    0.9641\n",
      "        24   MaxAbsScaler ExtremeRandomTrees                0:01:01       0.8974    0.9641\n",
      "        25   SparseNormalizer XGBoostClassifier             0:00:55       0.9231    0.9641\n",
      "        26   MaxAbsScaler RandomForest                      0:01:06       0.8769    0.9641\n",
      "        27   StandardScalerWrapper XGBoostClassifier        0:00:56       0.9333    0.9641\n",
      "        28   StandardScalerWrapper XGBoostClassifier        0:00:52       0.9487    0.9641\n",
      "        29   SparseNormalizer XGBoostClassifier             0:00:44       0.9231    0.9641\n",
      "        30   SparseNormalizer XGBoostClassifier             0:00:55       0.8718    0.9641\n",
      "        31   SparseNormalizer XGBoostClassifier             0:00:55       0.9538    0.9641\n",
      "        32   SparseNormalizer XGBoostClassifier             0:00:52       0.9128    0.9641\n",
      "        33   StandardScalerWrapper LightGBM                 0:00:49       0.8205    0.9641\n",
      "        34   StandardScalerWrapper XGBoostClassifier        0:00:52       0.9590    0.9641\n",
      "        35   PCA XGBoostClassifier                          0:00:59       0.7538    0.9641\n",
      "        36   StandardScalerWrapper XGBoostClassifier        0:00:53       0.9538    0.9641\n",
      "        37   StandardScalerWrapper XGBoostClassifier        0:00:52       0.9641    0.9641\n",
      "        38   StandardScalerWrapper XGBoostClassifier        0:00:54       0.9590    0.9641\n",
      "        39   StandardScalerWrapper XGBoostClassifier        0:00:51       0.9077    0.9641\n",
      "        40   SparseNormalizer XGBoostClassifier             0:00:52       0.8872    0.9641\n",
      "        41   SparseNormalizer XGBoostClassifier             0:00:49       0.9026    0.9641\n",
      "        42   StandardScalerWrapper XGBoostClassifier        0:00:55       0.8974    0.9641\n",
      "        43   StandardScalerWrapper XGBoostClassifier        0:00:53       0.9436    0.9641\n",
      "ERROR: {\n",
      "    \"additional_properties\": {},\n",
      "    \"error\": {\n",
      "        \"additional_properties\": {\n",
      "            \"debugInfo\": null\n",
      "        },\n",
      "        \"code\": \"UserError\",\n",
      "        \"severity\": null,\n",
      "        \"message\": \"Experiment timeout reached, please consider increasing your experiment timeout.\",\n",
      "        \"message_format\": \"Experiment timeout reached, please consider increasing your experiment timeout.\",\n",
      "        \"message_parameters\": {},\n",
      "        \"reference_code\": null,\n",
      "        \"details_uri\": null,\n",
      "        \"target\": null,\n",
      "        \"details\": [],\n",
      "        \"inner_error\": {\n",
      "            \"additional_properties\": {},\n",
      "            \"code\": \"ResourceExhausted\",\n",
      "            \"inner_error\": {\n",
      "                \"additional_properties\": {},\n",
      "                \"code\": \"Timeout\",\n",
      "                \"inner_error\": {\n",
      "                    \"additional_properties\": {},\n",
      "                    \"code\": \"ExperimentTimeoutForIterations\",\n",
      "                    \"inner_error\": null\n",
      "                }\n",
      "            }\n",
      "        }\n",
      "    },\n",
      "    \"correlation\": null,\n",
      "    \"environment\": null,\n",
      "    \"location\": null,\n",
      "    \"time\": {},\n",
      "    \"component_name\": null\n",
      "}\n",
      "        44   StandardScalerWrapper XGBoostClassifier        0:00:46       0.9538    0.9641\n",
      "ERROR: {\n",
      "    \"additional_properties\": {},\n",
      "    \"error\": {\n",
      "        \"additional_properties\": {\n",
      "            \"debugInfo\": null\n",
      "        },\n",
      "        \"code\": \"UserError\",\n",
      "        \"severity\": null,\n",
      "        \"message\": \"Experiment timeout reached, please consider increasing your experiment timeout.\",\n",
      "        \"message_format\": \"Experiment timeout reached, please consider increasing your experiment timeout.\",\n",
      "        \"message_parameters\": {},\n",
      "        \"reference_code\": null,\n",
      "        \"details_uri\": null,\n",
      "        \"target\": null,\n",
      "        \"details\": [],\n",
      "        \"inner_error\": {\n",
      "            \"additional_properties\": {},\n",
      "            \"code\": \"ResourceExhausted\",\n",
      "            \"inner_error\": {\n",
      "                \"additional_properties\": {},\n",
      "                \"code\": \"Timeout\",\n",
      "                \"inner_error\": {\n",
      "                    \"additional_properties\": {},\n",
      "                    \"code\": \"ExperimentTimeoutForIterations\",\n",
      "                    \"inner_error\": null\n",
      "                }\n",
      "            }\n",
      "        }\n",
      "    },\n",
      "    \"correlation\": null,\n",
      "    \"environment\": null,\n",
      "    \"location\": null,\n",
      "    \"time\": {},\n",
      "    \"component_name\": null\n",
      "}\n"
     ]
    },
    {
     "name": "stdout",
     "output_type": "stream",
     "text": [
      "        45   StandardScalerWrapper XGBoostClassifier        0:00:41       0.9692    0.9692\n",
      "ERROR: {\n",
      "    \"additional_properties\": {},\n",
      "    \"error\": {\n",
      "        \"additional_properties\": {\n",
      "            \"debugInfo\": null\n",
      "        },\n",
      "        \"code\": \"UserError\",\n",
      "        \"severity\": null,\n",
      "        \"message\": \"Experiment timeout reached, please consider increasing your experiment timeout.\",\n",
      "        \"message_format\": \"Experiment timeout reached, please consider increasing your experiment timeout.\",\n",
      "        \"message_parameters\": {},\n",
      "        \"reference_code\": null,\n",
      "        \"details_uri\": null,\n",
      "        \"target\": null,\n",
      "        \"details\": [],\n",
      "        \"inner_error\": {\n",
      "            \"additional_properties\": {},\n",
      "            \"code\": \"ResourceExhausted\",\n",
      "            \"inner_error\": {\n",
      "                \"additional_properties\": {},\n",
      "                \"code\": \"Timeout\",\n",
      "                \"inner_error\": {\n",
      "                    \"additional_properties\": {},\n",
      "                    \"code\": \"ExperimentTimeoutForIterations\",\n",
      "                    \"inner_error\": null\n",
      "                }\n",
      "            }\n",
      "        }\n",
      "    },\n",
      "    \"correlation\": null,\n",
      "    \"environment\": null,\n",
      "    \"location\": null,\n",
      "    \"time\": {},\n",
      "    \"component_name\": null\n",
      "}\n",
      "        46    VotingEnsemble                                0:01:50       0.9641    0.9692\n",
      "        47    StackEnsemble                                 0:01:55       0.9436    0.9692\n"
     ]
    }
   ],
   "source": [
    "\n",
    "# Submit experiment\n",
    "auto_ml_run = experiment.submit(config = automl_config, show_output = True)\n"
   ]
  },
  {
   "cell_type": "markdown",
   "metadata": {},
   "source": [
    "## Run Details\n",
    "\n",
    "OPTIONAL: Write about the different models trained and their performance. Why do you think some models did better than others?\n",
    "\n",
    "TODO: In the cell below, use the `RunDetails` widget to show the different experiments."
   ]
  },
  {
   "cell_type": "code",
   "execution_count": 9,
   "metadata": {
    "gather": {
     "logged": 1598431121770
    },
    "jupyter": {
     "outputs_hidden": false,
     "source_hidden": false
    },
    "nteract": {
     "transient": {
      "deleting": false
     }
    }
   },
   "outputs": [
    {
     "data": {
      "application/vnd.jupyter.widget-view+json": {
       "model_id": "5b9c92176b0942fabd0367ef81ab69b8",
       "version_major": 2,
       "version_minor": 0
      },
      "text/plain": [
       "_AutoMLWidget(widget_settings={'childWidgetDisplay': 'popup', 'send_telemetry': False, 'log_level': 'INFO', 's…"
      ]
     },
     "metadata": {},
     "output_type": "display_data"
    },
    {
     "data": {
      "application/aml.mini.widget.v1": "{\"status\": \"Completed\", \"workbench_run_details_uri\": \"https://ml.azure.com/experiments/Parkinson-classification/runs/AutoML_52fec94b-7a74-459f-a9f9-315d832f9817?wsid=/subscriptions/3e42d11f-d64d-4173-af9b-12ecaa1030b3/resourcegroups/aml-quickstarts-137376/workspaces/quick-starts-ws-137376\", \"run_id\": \"AutoML_52fec94b-7a74-459f-a9f9-315d832f9817\", \"run_properties\": {\"run_id\": \"AutoML_52fec94b-7a74-459f-a9f9-315d832f9817\", \"created_utc\": \"2021-02-05T23:37:55.695138Z\", \"properties\": {\"num_iterations\": \"1000\", \"training_type\": \"TrainFull\", \"acquisition_function\": \"EI\", \"primary_metric\": \"accuracy\", \"train_split\": \"0\", \"acquisition_parameter\": \"0\", \"num_cross_validation\": \"5\", \"target\": \"cpu-cluster\", \"AMLSettingsJsonString\": \"{\\\"path\\\":null,\\\"name\\\":\\\"Parkinson-classification\\\",\\\"subscription_id\\\":\\\"3e42d11f-d64d-4173-af9b-12ecaa1030b3\\\",\\\"resource_group\\\":\\\"aml-quickstarts-137376\\\",\\\"workspace_name\\\":\\\"quick-starts-ws-137376\\\",\\\"region\\\":\\\"southcentralus\\\",\\\"compute_target\\\":\\\"cpu-cluster\\\",\\\"spark_service\\\":null,\\\"azure_service\\\":\\\"remote\\\",\\\"many_models\\\":false,\\\"pipeline_fetch_max_batch_size\\\":1,\\\"iterations\\\":1000,\\\"primary_metric\\\":\\\"accuracy\\\",\\\"task_type\\\":\\\"classification\\\",\\\"data_script\\\":null,\\\"validation_size\\\":0.0,\\\"n_cross_validations\\\":5,\\\"y_min\\\":null,\\\"y_max\\\":null,\\\"num_classes\\\":null,\\\"featurization\\\":\\\"auto\\\",\\\"_ignore_package_version_incompatibilities\\\":false,\\\"is_timeseries\\\":false,\\\"max_cores_per_iteration\\\":1,\\\"max_concurrent_iterations\\\":4,\\\"iteration_timeout_minutes\\\":null,\\\"mem_in_mb\\\":null,\\\"enforce_time_on_windows\\\":false,\\\"experiment_timeout_minutes\\\":15,\\\"experiment_exit_score\\\":null,\\\"whitelist_models\\\":null,\\\"blacklist_algos\\\":[\\\"TensorFlowLinearClassifier\\\",\\\"TensorFlowDNN\\\"],\\\"supported_models\\\":[\\\"TensorFlowDNN\\\",\\\"KNN\\\",\\\"RandomForest\\\",\\\"LogisticRegression\\\",\\\"GradientBoosting\\\",\\\"LinearSVM\\\",\\\"DecisionTree\\\",\\\"TensorFlowLinearClassifier\\\",\\\"MultinomialNaiveBayes\\\",\\\"ExtremeRandomTrees\\\",\\\"SGD\\\",\\\"AveragedPerceptronClassifier\\\",\\\"XGBoostClassifier\\\",\\\"BernoulliNaiveBayes\\\",\\\"LightGBM\\\",\\\"SVM\\\"],\\\"auto_blacklist\\\":true,\\\"blacklist_samples_reached\\\":false,\\\"exclude_nan_labels\\\":true,\\\"verbosity\\\":20,\\\"_debug_log\\\":\\\"azureml_automl.log\\\",\\\"show_warnings\\\":false,\\\"model_explainability\\\":true,\\\"service_url\\\":null,\\\"sdk_url\\\":null,\\\"sdk_packages\\\":null,\\\"enable_onnx_compatible_models\\\":false,\\\"enable_split_onnx_featurizer_estimator_models\\\":false,\\\"vm_type\\\":\\\"STANDARD_DS3_V2\\\",\\\"telemetry_verbosity\\\":20,\\\"send_telemetry\\\":true,\\\"enable_dnn\\\":false,\\\"scenario\\\":\\\"SDK-1.13.0\\\",\\\"environment_label\\\":null,\\\"force_text_dnn\\\":false,\\\"enable_feature_sweeping\\\":true,\\\"enable_early_stopping\\\":false,\\\"early_stopping_n_iters\\\":10,\\\"metrics\\\":null,\\\"enable_ensembling\\\":true,\\\"enable_stack_ensembling\\\":true,\\\"ensemble_iterations\\\":15,\\\"enable_tf\\\":false,\\\"enable_subsampling\\\":null,\\\"subsample_seed\\\":null,\\\"enable_nimbusml\\\":false,\\\"enable_streaming\\\":false,\\\"force_streaming\\\":false,\\\"track_child_runs\\\":true,\\\"allowed_private_models\\\":[],\\\"label_column_name\\\":\\\"status\\\",\\\"weight_column_name\\\":null,\\\"cv_split_column_names\\\":null,\\\"enable_local_managed\\\":false,\\\"_local_managed_run_id\\\":null,\\\"cost_mode\\\":1,\\\"lag_length\\\":0,\\\"metric_operation\\\":\\\"maximize\\\",\\\"preprocess\\\":true}\", \"DataPrepJsonString\": \"{\\\\\\\"training_data\\\\\\\": \\\\\\\"{\\\\\\\\\\\\\\\"blocks\\\\\\\\\\\\\\\": [{\\\\\\\\\\\\\\\"id\\\\\\\\\\\\\\\": \\\\\\\\\\\\\\\"656caccf-e846-41e1-9568-1f0289674bb8\\\\\\\\\\\\\\\", \\\\\\\\\\\\\\\"type\\\\\\\\\\\\\\\": \\\\\\\\\\\\\\\"Microsoft.DPrep.GetDatastoreFilesBlock\\\\\\\\\\\\\\\", \\\\\\\\\\\\\\\"arguments\\\\\\\\\\\\\\\": {\\\\\\\\\\\\\\\"datastores\\\\\\\\\\\\\\\": [{\\\\\\\\\\\\\\\"datastoreName\\\\\\\\\\\\\\\": \\\\\\\\\\\\\\\"workspaceblobstore\\\\\\\\\\\\\\\", \\\\\\\\\\\\\\\"path\\\\\\\\\\\\\\\": \\\\\\\\\\\\\\\"data/training_data.csv\\\\\\\\\\\\\\\", \\\\\\\\\\\\\\\"resourceGroup\\\\\\\\\\\\\\\": \\\\\\\\\\\\\\\"aml-quickstarts-137376\\\\\\\\\\\\\\\", \\\\\\\\\\\\\\\"subscription\\\\\\\\\\\\\\\": \\\\\\\\\\\\\\\"3e42d11f-d64d-4173-af9b-12ecaa1030b3\\\\\\\\\\\\\\\", \\\\\\\\\\\\\\\"workspaceName\\\\\\\\\\\\\\\": \\\\\\\\\\\\\\\"quick-starts-ws-137376\\\\\\\\\\\\\\\"}]}, \\\\\\\\\\\\\\\"localData\\\\\\\\\\\\\\\": {}, \\\\\\\\\\\\\\\"isEnabled\\\\\\\\\\\\\\\": true, \\\\\\\\\\\\\\\"name\\\\\\\\\\\\\\\": null, \\\\\\\\\\\\\\\"annotation\\\\\\\\\\\\\\\": null}, {\\\\\\\\\\\\\\\"id\\\\\\\\\\\\\\\": \\\\\\\\\\\\\\\"938e5fb7-8283-4c9e-815d-c98d40a36842\\\\\\\\\\\\\\\", \\\\\\\\\\\\\\\"type\\\\\\\\\\\\\\\": \\\\\\\\\\\\\\\"Microsoft.DPrep.ParseDelimitedBlock\\\\\\\\\\\\\\\", \\\\\\\\\\\\\\\"arguments\\\\\\\\\\\\\\\": {\\\\\\\\\\\\\\\"columnHeadersMode\\\\\\\\\\\\\\\": 3, \\\\\\\\\\\\\\\"fileEncoding\\\\\\\\\\\\\\\": 0, \\\\\\\\\\\\\\\"handleQuotedLineBreaks\\\\\\\\\\\\\\\": false, \\\\\\\\\\\\\\\"preview\\\\\\\\\\\\\\\": false, \\\\\\\\\\\\\\\"separator\\\\\\\\\\\\\\\": \\\\\\\\\\\\\\\",\\\\\\\\\\\\\\\", \\\\\\\\\\\\\\\"skipRows\\\\\\\\\\\\\\\": 0, \\\\\\\\\\\\\\\"skipRowsMode\\\\\\\\\\\\\\\": 0}, \\\\\\\\\\\\\\\"localData\\\\\\\\\\\\\\\": {}, \\\\\\\\\\\\\\\"isEnabled\\\\\\\\\\\\\\\": true, \\\\\\\\\\\\\\\"name\\\\\\\\\\\\\\\": null, \\\\\\\\\\\\\\\"annotation\\\\\\\\\\\\\\\": null}, {\\\\\\\\\\\\\\\"id\\\\\\\\\\\\\\\": \\\\\\\\\\\\\\\"d6dabf95-eceb-470d-80fd-6aad60d1be62\\\\\\\\\\\\\\\", \\\\\\\\\\\\\\\"type\\\\\\\\\\\\\\\": \\\\\\\\\\\\\\\"Microsoft.DPrep.DropColumnsBlock\\\\\\\\\\\\\\\", \\\\\\\\\\\\\\\"arguments\\\\\\\\\\\\\\\": {\\\\\\\\\\\\\\\"columns\\\\\\\\\\\\\\\": {\\\\\\\\\\\\\\\"type\\\\\\\\\\\\\\\": 0, \\\\\\\\\\\\\\\"details\\\\\\\\\\\\\\\": {\\\\\\\\\\\\\\\"selectedColumns\\\\\\\\\\\\\\\": [\\\\\\\\\\\\\\\"Path\\\\\\\\\\\\\\\"]}}}, \\\\\\\\\\\\\\\"localData\\\\\\\\\\\\\\\": {}, \\\\\\\\\\\\\\\"isEnabled\\\\\\\\\\\\\\\": true, \\\\\\\\\\\\\\\"name\\\\\\\\\\\\\\\": null, \\\\\\\\\\\\\\\"annotation\\\\\\\\\\\\\\\": null}, {\\\\\\\\\\\\\\\"id\\\\\\\\\\\\\\\": \\\\\\\\\\\\\\\"d2602c08-d38f-49d2-8922-1f2f4685a887\\\\\\\\\\\\\\\", \\\\\\\\\\\\\\\"type\\\\\\\\\\\\\\\": \\\\\\\\\\\\\\\"Microsoft.DPrep.SetColumnTypesBlock\\\\\\\\\\\\\\\", \\\\\\\\\\\\\\\"arguments\\\\\\\\\\\\\\\": {\\\\\\\\\\\\\\\"columnConversion\\\\\\\\\\\\\\\": [{\\\\\\\\\\\\\\\"column\\\\\\\\\\\\\\\": {\\\\\\\\\\\\\\\"type\\\\\\\\\\\\\\\": 2, \\\\\\\\\\\\\\\"details\\\\\\\\\\\\\\\": {\\\\\\\\\\\\\\\"selectedColumn\\\\\\\\\\\\\\\": \\\\\\\\\\\\\\\"Column1\\\\\\\\\\\\\\\"}}, \\\\\\\\\\\\\\\"typeProperty\\\\\\\\\\\\\\\": 2}, {\\\\\\\\\\\\\\\"column\\\\\\\\\\\\\\\": {\\\\\\\\\\\\\\\"type\\\\\\\\\\\\\\\": 2, \\\\\\\\\\\\\\\"details\\\\\\\\\\\\\\\": {\\\\\\\\\\\\\\\"selectedColumn\\\\\\\\\\\\\\\": \\\\\\\\\\\\\\\"MDVP:Fo(Hz)\\\\\\\\\\\\\\\"}}, \\\\\\\\\\\\\\\"typeProperty\\\\\\\\\\\\\\\": 3}, {\\\\\\\\\\\\\\\"column\\\\\\\\\\\\\\\": {\\\\\\\\\\\\\\\"type\\\\\\\\\\\\\\\": 2, \\\\\\\\\\\\\\\"details\\\\\\\\\\\\\\\": {\\\\\\\\\\\\\\\"selectedColumn\\\\\\\\\\\\\\\": \\\\\\\\\\\\\\\"MDVP:Fhi(Hz)\\\\\\\\\\\\\\\"}}, \\\\\\\\\\\\\\\"typeProperty\\\\\\\\\\\\\\\": 3}, {\\\\\\\\\\\\\\\"column\\\\\\\\\\\\\\\": {\\\\\\\\\\\\\\\"type\\\\\\\\\\\\\\\": 2, \\\\\\\\\\\\\\\"details\\\\\\\\\\\\\\\": {\\\\\\\\\\\\\\\"selectedColumn\\\\\\\\\\\\\\\": \\\\\\\\\\\\\\\"MDVP:Flo(Hz)\\\\\\\\\\\\\\\"}}, \\\\\\\\\\\\\\\"typeProperty\\\\\\\\\\\\\\\": 3}, {\\\\\\\\\\\\\\\"column\\\\\\\\\\\\\\\": {\\\\\\\\\\\\\\\"type\\\\\\\\\\\\\\\": 2, \\\\\\\\\\\\\\\"details\\\\\\\\\\\\\\\": {\\\\\\\\\\\\\\\"selectedColumn\\\\\\\\\\\\\\\": \\\\\\\\\\\\\\\"MDVP:Jitter(%)\\\\\\\\\\\\\\\"}}, \\\\\\\\\\\\\\\"typeProperty\\\\\\\\\\\\\\\": 3}, {\\\\\\\\\\\\\\\"column\\\\\\\\\\\\\\\": {\\\\\\\\\\\\\\\"type\\\\\\\\\\\\\\\": 2, \\\\\\\\\\\\\\\"details\\\\\\\\\\\\\\\": {\\\\\\\\\\\\\\\"selectedColumn\\\\\\\\\\\\\\\": \\\\\\\\\\\\\\\"MDVP:Jitter(Abs)\\\\\\\\\\\\\\\"}}, \\\\\\\\\\\\\\\"typeProperty\\\\\\\\\\\\\\\": 3}, {\\\\\\\\\\\\\\\"column\\\\\\\\\\\\\\\": {\\\\\\\\\\\\\\\"type\\\\\\\\\\\\\\\": 2, \\\\\\\\\\\\\\\"details\\\\\\\\\\\\\\\": {\\\\\\\\\\\\\\\"selectedColumn\\\\\\\\\\\\\\\": \\\\\\\\\\\\\\\"MDVP:RAP\\\\\\\\\\\\\\\"}}, \\\\\\\\\\\\\\\"typeProperty\\\\\\\\\\\\\\\": 3}, {\\\\\\\\\\\\\\\"column\\\\\\\\\\\\\\\": {\\\\\\\\\\\\\\\"type\\\\\\\\\\\\\\\": 2, \\\\\\\\\\\\\\\"details\\\\\\\\\\\\\\\": {\\\\\\\\\\\\\\\"selectedColumn\\\\\\\\\\\\\\\": \\\\\\\\\\\\\\\"MDVP:PPQ\\\\\\\\\\\\\\\"}}, \\\\\\\\\\\\\\\"typeProperty\\\\\\\\\\\\\\\": 3}, {\\\\\\\\\\\\\\\"column\\\\\\\\\\\\\\\": {\\\\\\\\\\\\\\\"type\\\\\\\\\\\\\\\": 2, \\\\\\\\\\\\\\\"details\\\\\\\\\\\\\\\": {\\\\\\\\\\\\\\\"selectedColumn\\\\\\\\\\\\\\\": \\\\\\\\\\\\\\\"Jitter:DDP\\\\\\\\\\\\\\\"}}, \\\\\\\\\\\\\\\"typeProperty\\\\\\\\\\\\\\\": 3}, {\\\\\\\\\\\\\\\"column\\\\\\\\\\\\\\\": {\\\\\\\\\\\\\\\"type\\\\\\\\\\\\\\\": 2, \\\\\\\\\\\\\\\"details\\\\\\\\\\\\\\\": {\\\\\\\\\\\\\\\"selectedColumn\\\\\\\\\\\\\\\": \\\\\\\\\\\\\\\"MDVP:Shimmer\\\\\\\\\\\\\\\"}}, \\\\\\\\\\\\\\\"typeProperty\\\\\\\\\\\\\\\": 3}, {\\\\\\\\\\\\\\\"column\\\\\\\\\\\\\\\": {\\\\\\\\\\\\\\\"type\\\\\\\\\\\\\\\": 2, \\\\\\\\\\\\\\\"details\\\\\\\\\\\\\\\": {\\\\\\\\\\\\\\\"selectedColumn\\\\\\\\\\\\\\\": \\\\\\\\\\\\\\\"MDVP:Shimmer(dB)\\\\\\\\\\\\\\\"}}, \\\\\\\\\\\\\\\"typeProperty\\\\\\\\\\\\\\\": 3}, {\\\\\\\\\\\\\\\"column\\\\\\\\\\\\\\\": {\\\\\\\\\\\\\\\"type\\\\\\\\\\\\\\\": 2, \\\\\\\\\\\\\\\"details\\\\\\\\\\\\\\\": {\\\\\\\\\\\\\\\"selectedColumn\\\\\\\\\\\\\\\": \\\\\\\\\\\\\\\"Shimmer:APQ3\\\\\\\\\\\\\\\"}}, \\\\\\\\\\\\\\\"typeProperty\\\\\\\\\\\\\\\": 3}, {\\\\\\\\\\\\\\\"column\\\\\\\\\\\\\\\": {\\\\\\\\\\\\\\\"type\\\\\\\\\\\\\\\": 2, \\\\\\\\\\\\\\\"details\\\\\\\\\\\\\\\": {\\\\\\\\\\\\\\\"selectedColumn\\\\\\\\\\\\\\\": \\\\\\\\\\\\\\\"Shimmer:APQ5\\\\\\\\\\\\\\\"}}, \\\\\\\\\\\\\\\"typeProperty\\\\\\\\\\\\\\\": 3}, {\\\\\\\\\\\\\\\"column\\\\\\\\\\\\\\\": {\\\\\\\\\\\\\\\"type\\\\\\\\\\\\\\\": 2, \\\\\\\\\\\\\\\"details\\\\\\\\\\\\\\\": {\\\\\\\\\\\\\\\"selectedColumn\\\\\\\\\\\\\\\": \\\\\\\\\\\\\\\"MDVP:APQ\\\\\\\\\\\\\\\"}}, \\\\\\\\\\\\\\\"typeProperty\\\\\\\\\\\\\\\": 3}, {\\\\\\\\\\\\\\\"column\\\\\\\\\\\\\\\": {\\\\\\\\\\\\\\\"type\\\\\\\\\\\\\\\": 2, \\\\\\\\\\\\\\\"details\\\\\\\\\\\\\\\": {\\\\\\\\\\\\\\\"selectedColumn\\\\\\\\\\\\\\\": \\\\\\\\\\\\\\\"Shimmer:DDA\\\\\\\\\\\\\\\"}}, \\\\\\\\\\\\\\\"typeProperty\\\\\\\\\\\\\\\": 3}, {\\\\\\\\\\\\\\\"column\\\\\\\\\\\\\\\": {\\\\\\\\\\\\\\\"type\\\\\\\\\\\\\\\": 2, \\\\\\\\\\\\\\\"details\\\\\\\\\\\\\\\": {\\\\\\\\\\\\\\\"selectedColumn\\\\\\\\\\\\\\\": \\\\\\\\\\\\\\\"NHR\\\\\\\\\\\\\\\"}}, \\\\\\\\\\\\\\\"typeProperty\\\\\\\\\\\\\\\": 3}, {\\\\\\\\\\\\\\\"column\\\\\\\\\\\\\\\": {\\\\\\\\\\\\\\\"type\\\\\\\\\\\\\\\": 2, \\\\\\\\\\\\\\\"details\\\\\\\\\\\\\\\": {\\\\\\\\\\\\\\\"selectedColumn\\\\\\\\\\\\\\\": \\\\\\\\\\\\\\\"HNR\\\\\\\\\\\\\\\"}}, \\\\\\\\\\\\\\\"typeProperty\\\\\\\\\\\\\\\": 3}, {\\\\\\\\\\\\\\\"column\\\\\\\\\\\\\\\": {\\\\\\\\\\\\\\\"type\\\\\\\\\\\\\\\": 2, \\\\\\\\\\\\\\\"details\\\\\\\\\\\\\\\": {\\\\\\\\\\\\\\\"selectedColumn\\\\\\\\\\\\\\\": \\\\\\\\\\\\\\\"status\\\\\\\\\\\\\\\"}}, \\\\\\\\\\\\\\\"typeProperty\\\\\\\\\\\\\\\": 2}, {\\\\\\\\\\\\\\\"column\\\\\\\\\\\\\\\": {\\\\\\\\\\\\\\\"type\\\\\\\\\\\\\\\": 2, \\\\\\\\\\\\\\\"details\\\\\\\\\\\\\\\": {\\\\\\\\\\\\\\\"selectedColumn\\\\\\\\\\\\\\\": \\\\\\\\\\\\\\\"RPDE\\\\\\\\\\\\\\\"}}, \\\\\\\\\\\\\\\"typeProperty\\\\\\\\\\\\\\\": 3}, {\\\\\\\\\\\\\\\"column\\\\\\\\\\\\\\\": {\\\\\\\\\\\\\\\"type\\\\\\\\\\\\\\\": 2, \\\\\\\\\\\\\\\"details\\\\\\\\\\\\\\\": {\\\\\\\\\\\\\\\"selectedColumn\\\\\\\\\\\\\\\": \\\\\\\\\\\\\\\"DFA\\\\\\\\\\\\\\\"}}, \\\\\\\\\\\\\\\"typeProperty\\\\\\\\\\\\\\\": 3}, {\\\\\\\\\\\\\\\"column\\\\\\\\\\\\\\\": {\\\\\\\\\\\\\\\"type\\\\\\\\\\\\\\\": 2, \\\\\\\\\\\\\\\"details\\\\\\\\\\\\\\\": {\\\\\\\\\\\\\\\"selectedColumn\\\\\\\\\\\\\\\": \\\\\\\\\\\\\\\"spread1\\\\\\\\\\\\\\\"}}, \\\\\\\\\\\\\\\"typeProperty\\\\\\\\\\\\\\\": 3}, {\\\\\\\\\\\\\\\"column\\\\\\\\\\\\\\\": {\\\\\\\\\\\\\\\"type\\\\\\\\\\\\\\\": 2, \\\\\\\\\\\\\\\"details\\\\\\\\\\\\\\\": {\\\\\\\\\\\\\\\"selectedColumn\\\\\\\\\\\\\\\": \\\\\\\\\\\\\\\"spread2\\\\\\\\\\\\\\\"}}, \\\\\\\\\\\\\\\"typeProperty\\\\\\\\\\\\\\\": 3}, {\\\\\\\\\\\\\\\"column\\\\\\\\\\\\\\\": {\\\\\\\\\\\\\\\"type\\\\\\\\\\\\\\\": 2, \\\\\\\\\\\\\\\"details\\\\\\\\\\\\\\\": {\\\\\\\\\\\\\\\"selectedColumn\\\\\\\\\\\\\\\": \\\\\\\\\\\\\\\"D2\\\\\\\\\\\\\\\"}}, \\\\\\\\\\\\\\\"typeProperty\\\\\\\\\\\\\\\": 3}, {\\\\\\\\\\\\\\\"column\\\\\\\\\\\\\\\": {\\\\\\\\\\\\\\\"type\\\\\\\\\\\\\\\": 2, \\\\\\\\\\\\\\\"details\\\\\\\\\\\\\\\": {\\\\\\\\\\\\\\\"selectedColumn\\\\\\\\\\\\\\\": \\\\\\\\\\\\\\\"PPE\\\\\\\\\\\\\\\"}}, \\\\\\\\\\\\\\\"typeProperty\\\\\\\\\\\\\\\": 3}]}, \\\\\\\\\\\\\\\"localData\\\\\\\\\\\\\\\": {}, \\\\\\\\\\\\\\\"isEnabled\\\\\\\\\\\\\\\": true, \\\\\\\\\\\\\\\"name\\\\\\\\\\\\\\\": null, \\\\\\\\\\\\\\\"annotation\\\\\\\\\\\\\\\": null}], \\\\\\\\\\\\\\\"inspectors\\\\\\\\\\\\\\\": [], \\\\\\\\\\\\\\\"meta\\\\\\\\\\\\\\\": {\\\\\\\\\\\\\\\"savedDatasetId\\\\\\\\\\\\\\\": \\\\\\\\\\\\\\\"36b0d706-f642-442e-813a-4ac68c3da8b4\\\\\\\\\\\\\\\", \\\\\\\\\\\\\\\"datasetType\\\\\\\\\\\\\\\": \\\\\\\\\\\\\\\"tabular\\\\\\\\\\\\\\\", \\\\\\\\\\\\\\\"subscriptionId\\\\\\\\\\\\\\\": \\\\\\\\\\\\\\\"3e42d11f-d64d-4173-af9b-12ecaa1030b3\\\\\\\\\\\\\\\", \\\\\\\\\\\\\\\"workspaceId\\\\\\\\\\\\\\\": \\\\\\\\\\\\\\\"25723a3a-4c82-4dae-84f2-db3c24853bf3\\\\\\\\\\\\\\\", \\\\\\\\\\\\\\\"workspaceLocation\\\\\\\\\\\\\\\": \\\\\\\\\\\\\\\"southcentralus\\\\\\\\\\\\\\\"}}\\\\\\\", \\\\\\\"activities\\\\\\\": 0}\", \"EnableSubsampling\": null, \"runTemplate\": \"AutoML\", \"azureml.runsource\": \"automl\", \"display_task_type\": \"classification\", \"dependencies_versions\": \"{\\\"azureml-widgets\\\": \\\"1.20.0\\\", \\\"azureml-train\\\": \\\"1.20.0\\\", \\\"azureml-train-restclients-hyperdrive\\\": \\\"1.20.0\\\", \\\"azureml-train-core\\\": \\\"1.20.0\\\", \\\"azureml-train-automl\\\": \\\"1.20.0\\\", \\\"azureml-train-automl-runtime\\\": \\\"1.20.0\\\", \\\"azureml-train-automl-client\\\": \\\"1.20.0\\\", \\\"azureml-tensorboard\\\": \\\"1.20.0\\\", \\\"azureml-telemetry\\\": \\\"1.20.0\\\", \\\"azureml-sdk\\\": \\\"1.20.0\\\", \\\"azureml-samples\\\": \\\"0+unknown\\\", \\\"azureml-pipeline\\\": \\\"1.20.0\\\", \\\"azureml-pipeline-steps\\\": \\\"1.20.0\\\", \\\"azureml-pipeline-core\\\": \\\"1.20.0\\\", \\\"azureml-opendatasets\\\": \\\"1.20.0\\\", \\\"azureml-model-management-sdk\\\": \\\"1.0.1b6.post1\\\", \\\"azureml-mlflow\\\": \\\"1.20.0.post1\\\", \\\"azureml-interpret\\\": \\\"1.20.0\\\", \\\"azureml-explain-model\\\": \\\"1.20.0\\\", \\\"azureml-defaults\\\": \\\"1.20.0\\\", \\\"azureml-dataset-runtime\\\": \\\"1.20.0\\\", \\\"azureml-dataprep\\\": \\\"2.7.3\\\", \\\"azureml-dataprep-rslex\\\": \\\"1.5.0\\\", \\\"azureml-dataprep-native\\\": \\\"27.0.0\\\", \\\"azureml-datadrift\\\": \\\"1.20.0\\\", \\\"azureml-core\\\": \\\"1.20.0\\\", \\\"azureml-contrib-services\\\": \\\"1.20.0\\\", \\\"azureml-contrib-server\\\": \\\"1.20.0\\\", \\\"azureml-contrib-reinforcementlearning\\\": \\\"1.20.0\\\", \\\"azureml-contrib-pipeline-steps\\\": \\\"1.20.0\\\", \\\"azureml-contrib-notebook\\\": \\\"1.20.0\\\", \\\"azureml-contrib-interpret\\\": \\\"1.20.0\\\", \\\"azureml-contrib-gbdt\\\": \\\"1.20.0\\\", \\\"azureml-contrib-fairness\\\": \\\"1.20.0\\\", \\\"azureml-contrib-dataset\\\": \\\"1.20.0\\\", \\\"azureml-cli-common\\\": \\\"1.20.0\\\", \\\"azureml-automl-runtime\\\": \\\"1.20.0\\\", \\\"azureml-automl-core\\\": \\\"1.20.0\\\", \\\"azureml-accel-models\\\": \\\"1.20.0\\\"}\", \"_aml_system_scenario_identification\": \"Remote.Parent\", \"ClientType\": \"SDK\", \"environment_cpu_name\": \"AzureML-AutoML\", \"environment_cpu_label\": \"prod\", \"environment_gpu_name\": \"AzureML-AutoML-GPU\", \"environment_gpu_label\": \"prod\", \"root_attribution\": \"automl\", \"attribution\": \"AutoML\", \"Orchestrator\": \"AutoML\", \"CancelUri\": \"https://southcentralus.experiments.azureml.net/jasmine/v1.0/subscriptions/3e42d11f-d64d-4173-af9b-12ecaa1030b3/resourceGroups/aml-quickstarts-137376/providers/Microsoft.MachineLearningServices/workspaces/quick-starts-ws-137376/experimentids/efc6f414-30be-427b-8cb5-9e0fc1587271/cancel/AutoML_52fec94b-7a74-459f-a9f9-315d832f9817\", \"ClientSdkVersion\": \"1.21.0\", \"snapshotId\": \"00000000-0000-0000-0000-000000000000\", \"SetupRunId\": \"AutoML_52fec94b-7a74-459f-a9f9-315d832f9817_setup\", \"SetupRunContainerId\": \"dcid.AutoML_52fec94b-7a74-459f-a9f9-315d832f9817_setup\", \"FeaturizationRunJsonPath\": \"featurizer_container.json\", \"FeaturizationRunId\": \"AutoML_52fec94b-7a74-459f-a9f9-315d832f9817_featurize\", \"ProblemInfoJsonString\": \"{\\\"dataset_num_categorical\\\": 0, \\\"is_sparse\\\": false, \\\"subsampling\\\": false, \\\"dataset_classes\\\": 2, \\\"dataset_features\\\": 23, \\\"dataset_samples\\\": 195, \\\"single_frequency_class_detected\\\": false}\", \"ModelExplainRunId\": \"AutoML_52fec94b-7a74-459f-a9f9-315d832f9817_ModelExplain\"}, \"tags\": {\"model_explain_run\": \"best_run\", \"_aml_system_azureml.automlComponent\": \"AutoML\", \"pipeline_id\": \"\", \"score\": \"\", \"predicted_cost\": \"\", \"fit_time\": \"\", \"training_percent\": \"\", \"iteration\": \"\", \"run_preprocessor\": \"\", \"run_algorithm\": \"\", \"dynamic_whitelisting_iterations\": \"<25>;<30>;<35>;<40>;<45>;\", \"automl_best_child_run_id\": \"AutoML_52fec94b-7a74-459f-a9f9-315d832f9817_0\", \"model_explain_best_run_child_id\": \"AutoML_52fec94b-7a74-459f-a9f9-315d832f9817_0\"}, \"end_time_utc\": \"2021-02-06T00:03:41.838678Z\", \"status\": \"Completed\", \"log_files\": {}, \"log_groups\": [], \"run_duration\": \"0:25:46\"}, \"child_runs\": [{\"run_id\": \"AutoML_52fec94b-7a74-459f-a9f9-315d832f9817_0\", \"run_number\": 6, \"metric\": null, \"status\": \"Completed\", \"run_type\": \"azureml.scriptrun\", \"training_percent\": \"100\", \"start_time\": \"2021-02-05T23:47:34.579448Z\", \"end_time\": \"2021-02-05T23:49:52.504991Z\", \"created_time\": \"2021-02-05T23:46:01.04543Z\", \"created_time_dt\": \"2021-02-05T23:46:01.04543Z\", \"duration\": \"0:03:51\", \"iteration\": \"0\", \"goal\": \"accuracy_max\", \"run_name\": \"MaxAbsScaler, LightGBM\", \"run_properties\": \"copy=True\", \"primary_metric\": 0.96410256, \"best_metric\": 0.96410256}, {\"run_id\": \"AutoML_52fec94b-7a74-459f-a9f9-315d832f9817_1\", \"run_number\": 7, \"metric\": null, \"status\": \"Completed\", \"run_type\": \"azureml.scriptrun\", \"training_percent\": \"100\", \"start_time\": \"2021-02-05T23:47:12.736896Z\", \"end_time\": \"2021-02-05T23:48:09.118244Z\", \"created_time\": \"2021-02-05T23:46:01.167035Z\", \"created_time_dt\": \"2021-02-05T23:46:01.167035Z\", \"duration\": \"0:02:07\", \"iteration\": \"1\", \"goal\": \"accuracy_max\", \"run_name\": \"MaxAbsScaler, XGBoostClassifier\", \"run_properties\": \"copy=True\", \"primary_metric\": 0.96410256, \"best_metric\": 0.96410256}, {\"run_id\": \"AutoML_52fec94b-7a74-459f-a9f9-315d832f9817_2\", \"run_number\": 8, \"metric\": null, \"status\": \"Completed\", \"run_type\": \"azureml.scriptrun\", \"training_percent\": \"100\", \"start_time\": \"2021-02-05T23:46:12.083441Z\", \"end_time\": \"2021-02-05T23:47:08.946904Z\", \"created_time\": \"2021-02-05T23:46:01.163783Z\", \"created_time_dt\": \"2021-02-05T23:46:01.163783Z\", \"duration\": \"0:01:07\", \"iteration\": \"2\", \"goal\": \"accuracy_max\", \"run_name\": \"MinMaxScaler, RandomForest\", \"run_properties\": \"copy=True, feature_range=(0, 1\", \"primary_metric\": 0.9025641, \"best_metric\": 0.96410256}, {\"run_id\": \"AutoML_52fec94b-7a74-459f-a9f9-315d832f9817_3\", \"run_number\": 9, \"metric\": null, \"status\": \"Completed\", \"run_type\": \"azureml.scriptrun\", \"training_percent\": \"100\", \"start_time\": \"2021-02-05T23:47:32.787958Z\", \"end_time\": \"2021-02-05T23:49:37.934988Z\", \"created_time\": \"2021-02-05T23:46:01.198186Z\", \"created_time_dt\": \"2021-02-05T23:46:01.198186Z\", \"duration\": \"0:03:36\", \"iteration\": \"3\", \"goal\": \"accuracy_max\", \"run_name\": \"MinMaxScaler, RandomForest\", \"run_properties\": \"copy=True, feature_range=(0, 1\", \"primary_metric\": 0.87179487, \"best_metric\": 0.96410256}, {\"run_id\": \"AutoML_52fec94b-7a74-459f-a9f9-315d832f9817_4\", \"run_number\": 10, \"metric\": null, \"status\": \"Completed\", \"run_type\": \"azureml.scriptrun\", \"training_percent\": \"100\", \"start_time\": \"2021-02-05T23:47:33.457785Z\", \"end_time\": \"2021-02-05T23:49:34.477969Z\", \"created_time\": \"2021-02-05T23:47:12.370712Z\", \"created_time_dt\": \"2021-02-05T23:47:12.370712Z\", \"duration\": \"0:02:22\", \"iteration\": \"4\", \"goal\": \"accuracy_max\", \"run_name\": \"MinMaxScaler, RandomForest\", \"run_properties\": \"copy=True, feature_range=(0, 1\", \"primary_metric\": 0.92307692, \"best_metric\": 0.96410256}, {\"run_id\": \"AutoML_52fec94b-7a74-459f-a9f9-315d832f9817_5\", \"run_number\": 11, \"metric\": null, \"status\": \"Completed\", \"run_type\": \"azureml.scriptrun\", \"training_percent\": \"100\", \"start_time\": \"2021-02-05T23:48:25.796023Z\", \"end_time\": \"2021-02-05T23:49:14.306542Z\", \"created_time\": \"2021-02-05T23:48:12.571435Z\", \"created_time_dt\": \"2021-02-05T23:48:12.571435Z\", \"duration\": \"0:01:01\", \"iteration\": \"5\", \"goal\": \"accuracy_max\", \"run_name\": \"RobustScaler, KNN\", \"run_properties\": \"copy=True, quantile_range=[25, 75], with_centering=True,\\n             with_scaling=True\", \"primary_metric\": 0.85641026, \"best_metric\": 0.96410256}, {\"run_id\": \"AutoML_52fec94b-7a74-459f-a9f9-315d832f9817_6\", \"run_number\": 12, \"metric\": null, \"status\": \"Completed\", \"run_type\": \"azureml.scriptrun\", \"training_percent\": \"100\", \"start_time\": \"2021-02-05T23:49:28.61773Z\", \"end_time\": \"2021-02-05T23:50:35.927886Z\", \"created_time\": \"2021-02-05T23:49:16.742002Z\", \"created_time_dt\": \"2021-02-05T23:49:16.742002Z\", \"duration\": \"0:01:19\", \"iteration\": \"6\", \"goal\": \"accuracy_max\", \"run_name\": \"SparseNormalizer, XGBoostClassifier\", \"run_properties\": \"<azureml.automl.runtime.shared.model_wrappers.SparseNormalizer object at 0x7f14ec7bde48\", \"primary_metric\": 0.93333333, \"best_metric\": 0.96410256}, {\"run_id\": \"AutoML_52fec94b-7a74-459f-a9f9-315d832f9817_7\", \"run_number\": 13, \"metric\": null, \"status\": \"Completed\", \"run_type\": \"azureml.scriptrun\", \"training_percent\": \"100\", \"start_time\": \"2021-02-05T23:49:49.741745Z\", \"end_time\": \"2021-02-05T23:50:41.839233Z\", \"created_time\": \"2021-02-05T23:49:36.822509Z\", \"created_time_dt\": \"2021-02-05T23:49:36.822509Z\", \"duration\": \"0:01:05\", \"iteration\": \"7\", \"goal\": \"accuracy_max\", \"run_name\": \"RobustScaler, SVM\", \"run_properties\": \"copy=True, quantile_range=[10, 90], with_centering=True,\\n             with_scaling=True\", \"primary_metric\": 0.95897436, \"best_metric\": 0.96410256}, {\"run_id\": \"AutoML_52fec94b-7a74-459f-a9f9-315d832f9817_8\", \"run_number\": 14, \"metric\": null, \"status\": \"Completed\", \"run_type\": \"azureml.scriptrun\", \"training_percent\": \"100\", \"start_time\": \"2021-02-05T23:49:50.302369Z\", \"end_time\": \"2021-02-05T23:50:44.211211Z\", \"created_time\": \"2021-02-05T23:49:40.319213Z\", \"created_time_dt\": \"2021-02-05T23:49:40.319213Z\", \"duration\": \"0:01:03\", \"iteration\": \"8\", \"goal\": \"accuracy_max\", \"run_name\": \"SparseNormalizer, XGBoostClassifier\", \"run_properties\": \"<azureml.automl.runtime.shared.model_wrappers.SparseNormalizer object at 0x7fa47512a9b0\", \"primary_metric\": 0.94358974, \"best_metric\": 0.96410256}, {\"run_id\": \"AutoML_52fec94b-7a74-459f-a9f9-315d832f9817_9\", \"run_number\": 15, \"metric\": null, \"status\": \"Completed\", \"run_type\": \"azureml.scriptrun\", \"training_percent\": \"100\", \"start_time\": \"2021-02-05T23:50:08.414725Z\", \"end_time\": \"2021-02-05T23:51:13.001354Z\", \"created_time\": \"2021-02-05T23:49:55.366342Z\", \"created_time_dt\": \"2021-02-05T23:49:55.366342Z\", \"duration\": \"0:01:17\", \"iteration\": \"9\", \"goal\": \"accuracy_max\", \"run_name\": \"SparseNormalizer, XGBoostClassifier\", \"run_properties\": \"<azureml.automl.runtime.shared.model_wrappers.SparseNormalizer object at 0x7fb9fcd47898\", \"primary_metric\": 0.93333333, \"best_metric\": 0.96410256}, {\"run_id\": \"AutoML_52fec94b-7a74-459f-a9f9-315d832f9817_10\", \"run_number\": 16, \"metric\": null, \"status\": \"Completed\", \"run_type\": \"azureml.scriptrun\", \"training_percent\": \"100\", \"start_time\": \"2021-02-05T23:50:49.794718Z\", \"end_time\": \"2021-02-05T23:51:45.074986Z\", \"created_time\": \"2021-02-05T23:50:37.704423Z\", \"created_time_dt\": \"2021-02-05T23:50:37.704423Z\", \"duration\": \"0:01:07\", \"iteration\": \"10\", \"goal\": \"accuracy_max\", \"run_name\": \"StandardScalerWrapper, LogisticRegression\", \"run_properties\": \"<azureml.automl.runtime.shared.model_wrappers.StandardScalerWrapper object at 0x7f52f92f8748\", \"primary_metric\": 0.84102564, \"best_metric\": 0.96410256}, {\"run_id\": \"AutoML_52fec94b-7a74-459f-a9f9-315d832f9817_11\", \"run_number\": 17, \"metric\": null, \"status\": \"Completed\", \"run_type\": \"azureml.scriptrun\", \"training_percent\": \"100\", \"start_time\": \"2021-02-05T23:50:54.034501Z\", \"end_time\": \"2021-02-05T23:51:57.103274Z\", \"created_time\": \"2021-02-05T23:50:43.694099Z\", \"created_time_dt\": \"2021-02-05T23:50:43.694099Z\", \"duration\": \"0:01:13\", \"iteration\": \"11\", \"goal\": \"accuracy_max\", \"run_name\": \"StandardScalerWrapper, RandomForest\", \"run_properties\": \"<azureml.automl.runtime.shared.model_wrappers.StandardScalerWrapper object at 0x7f4ae461f748\", \"primary_metric\": 0.93846154, \"best_metric\": 0.96410256}, {\"run_id\": \"AutoML_52fec94b-7a74-459f-a9f9-315d832f9817_12\", \"run_number\": 18, \"metric\": null, \"status\": \"Completed\", \"run_type\": \"azureml.scriptrun\", \"training_percent\": \"100\", \"start_time\": \"2021-02-05T23:51:00.322779Z\", \"end_time\": \"2021-02-05T23:51:55.544995Z\", \"created_time\": \"2021-02-05T23:50:47.250967Z\", \"created_time_dt\": \"2021-02-05T23:50:47.250967Z\", \"duration\": \"0:01:08\", \"iteration\": \"12\", \"goal\": \"accuracy_max\", \"run_name\": \"MaxAbsScaler, LightGBM\", \"run_properties\": \"copy=True\", \"primary_metric\": 0.86153846, \"best_metric\": 0.96410256}, {\"run_id\": \"AutoML_52fec94b-7a74-459f-a9f9-315d832f9817_13\", \"run_number\": 19, \"metric\": null, \"status\": \"Completed\", \"run_type\": \"azureml.scriptrun\", \"training_percent\": \"100\", \"start_time\": \"2021-02-05T23:51:25.589849Z\", \"end_time\": \"2021-02-05T23:52:19.045357Z\", \"created_time\": \"2021-02-05T23:51:15.021275Z\", \"created_time_dt\": \"2021-02-05T23:51:15.021275Z\", \"duration\": \"0:01:04\", \"iteration\": \"13\", \"goal\": \"accuracy_max\", \"run_name\": \"MaxAbsScaler, LightGBM\", \"run_properties\": \"copy=True\", \"primary_metric\": 0.91282051, \"best_metric\": 0.96410256}, {\"run_id\": \"AutoML_52fec94b-7a74-459f-a9f9-315d832f9817_14\", \"run_number\": 20, \"metric\": null, \"status\": \"Completed\", \"run_type\": \"azureml.scriptrun\", \"training_percent\": \"100\", \"start_time\": \"2021-02-05T23:51:58.903034Z\", \"end_time\": \"2021-02-05T23:52:52.25446Z\", \"created_time\": \"2021-02-05T23:51:46.857282Z\", \"created_time_dt\": \"2021-02-05T23:51:46.857282Z\", \"duration\": \"0:01:05\", \"iteration\": \"14\", \"goal\": \"accuracy_max\", \"run_name\": \"MaxAbsScaler, ExtremeRandomTrees\", \"run_properties\": \"copy=True\", \"primary_metric\": 0.94358974, \"best_metric\": 0.96410256}, {\"run_id\": \"AutoML_52fec94b-7a74-459f-a9f9-315d832f9817_15\", \"run_number\": 21, \"metric\": null, \"status\": \"Completed\", \"run_type\": \"azureml.scriptrun\", \"training_percent\": \"100\", \"start_time\": \"2021-02-05T23:52:09.559378Z\", \"end_time\": \"2021-02-05T23:53:04.443059Z\", \"created_time\": \"2021-02-05T23:51:57.329433Z\", \"created_time_dt\": \"2021-02-05T23:51:57.329433Z\", \"duration\": \"0:01:07\", \"iteration\": \"15\", \"goal\": \"accuracy_max\", \"run_name\": \"StandardScalerWrapper, LightGBM\", \"run_properties\": \"<azureml.automl.runtime.shared.model_wrappers.StandardScalerWrapper object at 0x7f6d812ebc88\", \"primary_metric\": 0.9025641, \"best_metric\": 0.96410256}, {\"run_id\": \"AutoML_52fec94b-7a74-459f-a9f9-315d832f9817_16\", \"run_number\": 22, \"metric\": null, \"status\": \"Completed\", \"run_type\": \"azureml.scriptrun\", \"training_percent\": \"100\", \"start_time\": \"2021-02-05T23:52:13.815456Z\", \"end_time\": \"2021-02-05T23:53:06.383397Z\", \"created_time\": \"2021-02-05T23:52:00.764634Z\", \"created_time_dt\": \"2021-02-05T23:52:00.764634Z\", \"duration\": \"0:01:05\", \"iteration\": \"16\", \"goal\": \"accuracy_max\", \"run_name\": \"StandardScalerWrapper, LightGBM\", \"run_properties\": \"<azureml.automl.runtime.shared.model_wrappers.StandardScalerWrapper object at 0x7f12d195a6a0\", \"primary_metric\": 0.86666667, \"best_metric\": 0.96410256}, {\"run_id\": \"AutoML_52fec94b-7a74-459f-a9f9-315d832f9817_17\", \"run_number\": 23, \"metric\": null, \"status\": \"Completed\", \"run_type\": \"azureml.scriptrun\", \"training_percent\": \"100\", \"start_time\": \"2021-02-05T23:52:36.854383Z\", \"end_time\": \"2021-02-05T23:53:28.750995Z\", \"created_time\": \"2021-02-05T23:52:20.906435Z\", \"created_time_dt\": \"2021-02-05T23:52:20.906435Z\", \"duration\": \"0:01:07\", \"iteration\": \"17\", \"goal\": \"accuracy_max\", \"run_name\": \"SparseNormalizer, XGBoostClassifier\", \"run_properties\": \"<azureml.automl.runtime.shared.model_wrappers.SparseNormalizer object at 0x7fe14ce2a898\", \"primary_metric\": 0.9025641, \"best_metric\": 0.96410256}, {\"run_id\": \"AutoML_52fec94b-7a74-459f-a9f9-315d832f9817_18\", \"run_number\": 24, \"metric\": null, \"status\": \"Completed\", \"run_type\": \"azureml.scriptrun\", \"training_percent\": \"100\", \"start_time\": \"2021-02-05T23:53:08.018102Z\", \"end_time\": \"2021-02-05T23:54:03.069494Z\", \"created_time\": \"2021-02-05T23:52:53.922103Z\", \"created_time_dt\": \"2021-02-05T23:52:53.922103Z\", \"duration\": \"0:01:09\", \"iteration\": \"18\", \"goal\": \"accuracy_max\", \"run_name\": \"StandardScalerWrapper, LightGBM\", \"run_properties\": \"<azureml.automl.runtime.shared.model_wrappers.StandardScalerWrapper object at 0x7f79eaa6f128\", \"primary_metric\": 0.92820513, \"best_metric\": 0.96410256}, {\"run_id\": \"AutoML_52fec94b-7a74-459f-a9f9-315d832f9817_19\", \"run_number\": 25, \"metric\": null, \"status\": \"Completed\", \"run_type\": \"azureml.scriptrun\", \"training_percent\": \"100\", \"start_time\": \"2021-02-05T23:53:19.065933Z\", \"end_time\": \"2021-02-05T23:54:10.328069Z\", \"created_time\": \"2021-02-05T23:53:06.11766Z\", \"created_time_dt\": \"2021-02-05T23:53:06.11766Z\", \"duration\": \"0:01:04\", \"iteration\": \"19\", \"goal\": \"accuracy_max\", \"run_name\": \"MaxAbsScaler, LightGBM\", \"run_properties\": \"copy=True\", \"primary_metric\": 0.8974359, \"best_metric\": 0.96410256}, {\"run_id\": \"AutoML_52fec94b-7a74-459f-a9f9-315d832f9817_20\", \"run_number\": 26, \"metric\": null, \"status\": \"Completed\", \"run_type\": \"azureml.scriptrun\", \"training_percent\": \"100\", \"start_time\": \"2021-02-05T23:53:24.467886Z\", \"end_time\": \"2021-02-05T23:54:41.867025Z\", \"created_time\": \"2021-02-05T23:53:11.383403Z\", \"created_time_dt\": \"2021-02-05T23:53:11.383403Z\", \"duration\": \"0:01:30\", \"iteration\": \"20\", \"goal\": \"accuracy_max\", \"run_name\": \"MinMaxScaler, RandomForest\", \"run_properties\": \"copy=True, feature_range=(0, 1\", \"primary_metric\": 0.91282051, \"best_metric\": 0.96410256}, {\"run_id\": \"AutoML_52fec94b-7a74-459f-a9f9-315d832f9817_21\", \"run_number\": 27, \"metric\": null, \"status\": \"Completed\", \"run_type\": \"azureml.scriptrun\", \"training_percent\": \"100\", \"start_time\": \"2021-02-05T23:53:42.316892Z\", \"end_time\": \"2021-02-05T23:54:35.74579Z\", \"created_time\": \"2021-02-05T23:53:30.877601Z\", \"created_time_dt\": \"2021-02-05T23:53:30.877601Z\", \"duration\": \"0:01:04\", \"iteration\": \"21\", \"goal\": \"accuracy_max\", \"run_name\": \"SparseNormalizer, XGBoostClassifier\", \"run_properties\": \"<azureml.automl.runtime.shared.model_wrappers.SparseNormalizer object at 0x7f99026b5f98\", \"primary_metric\": 0.92307692, \"best_metric\": 0.96410256}, {\"run_id\": \"AutoML_52fec94b-7a74-459f-a9f9-315d832f9817_22\", \"run_number\": 28, \"metric\": null, \"status\": \"Completed\", \"run_type\": \"azureml.scriptrun\", \"training_percent\": \"100\", \"start_time\": \"2021-02-05T23:54:17.133163Z\", \"end_time\": \"2021-02-05T23:55:11.878669Z\", \"created_time\": \"2021-02-05T23:54:04.952441Z\", \"created_time_dt\": \"2021-02-05T23:54:04.952441Z\", \"duration\": \"0:01:06\", \"iteration\": \"22\", \"goal\": \"accuracy_max\", \"run_name\": \"MaxAbsScaler, RandomForest\", \"run_properties\": \"copy=True\", \"primary_metric\": 0.95384615, \"best_metric\": 0.96410256}, {\"run_id\": \"AutoML_52fec94b-7a74-459f-a9f9-315d832f9817_23\", \"run_number\": 29, \"metric\": null, \"status\": \"Completed\", \"run_type\": \"azureml.scriptrun\", \"training_percent\": \"100\", \"start_time\": \"2021-02-05T23:54:24.074381Z\", \"end_time\": \"2021-02-05T23:55:25.309072Z\", \"created_time\": \"2021-02-05T23:54:12.265478Z\", \"created_time_dt\": \"2021-02-05T23:54:12.265478Z\", \"duration\": \"0:01:13\", \"iteration\": \"23\", \"goal\": \"accuracy_max\", \"run_name\": \"RobustScaler, LightGBM\", \"run_properties\": \"copy=True, quantile_range=[10, 90], with_centering=False,\\n             with_scaling=True\", \"primary_metric\": 0.94871795, \"best_metric\": 0.96410256}, {\"run_id\": \"AutoML_52fec94b-7a74-459f-a9f9-315d832f9817_24\", \"run_number\": 30, \"metric\": null, \"status\": \"Completed\", \"run_type\": \"azureml.scriptrun\", \"training_percent\": \"100\", \"start_time\": \"2021-02-05T23:54:49.546273Z\", \"end_time\": \"2021-02-05T23:55:50.452951Z\", \"created_time\": \"2021-02-05T23:54:37.685834Z\", \"created_time_dt\": \"2021-02-05T23:54:37.685834Z\", \"duration\": \"0:01:12\", \"iteration\": \"24\", \"goal\": \"accuracy_max\", \"run_name\": \"MaxAbsScaler, ExtremeRandomTrees\", \"run_properties\": \"copy=True\", \"primary_metric\": 0.8974359, \"best_metric\": 0.96410256}, {\"run_id\": \"AutoML_52fec94b-7a74-459f-a9f9-315d832f9817_25\", \"run_number\": 31, \"metric\": null, \"status\": \"Completed\", \"run_type\": \"azureml.scriptrun\", \"training_percent\": \"100\", \"start_time\": \"2021-02-05T23:54:56.65428Z\", \"end_time\": \"2021-02-05T23:55:51.282801Z\", \"created_time\": \"2021-02-05T23:54:44.558044Z\", \"created_time_dt\": \"2021-02-05T23:54:44.558044Z\", \"duration\": \"0:01:06\", \"iteration\": \"25\", \"goal\": \"accuracy_max\", \"run_name\": \"SparseNormalizer, XGBoostClassifier\", \"run_properties\": \"<azureml.automl.runtime.shared.model_wrappers.SparseNormalizer object at 0x7f3c783a33c8\", \"primary_metric\": 0.92307692, \"best_metric\": 0.96410256}, {\"run_id\": \"AutoML_52fec94b-7a74-459f-a9f9-315d832f9817_26\", \"run_number\": 32, \"metric\": null, \"status\": \"Completed\", \"run_type\": \"azureml.scriptrun\", \"training_percent\": \"100\", \"start_time\": \"2021-02-05T23:55:27.158017Z\", \"end_time\": \"2021-02-05T23:56:32.96142Z\", \"created_time\": \"2021-02-05T23:55:14.96354Z\", \"created_time_dt\": \"2021-02-05T23:55:14.96354Z\", \"duration\": \"0:01:17\", \"iteration\": \"26\", \"goal\": \"accuracy_max\", \"run_name\": \"MaxAbsScaler, RandomForest\", \"run_properties\": \"copy=True\", \"primary_metric\": 0.87692308, \"best_metric\": 0.96410256}, {\"run_id\": \"AutoML_52fec94b-7a74-459f-a9f9-315d832f9817_27\", \"run_number\": 33, \"metric\": null, \"status\": \"Completed\", \"run_type\": \"azureml.scriptrun\", \"training_percent\": \"100\", \"start_time\": \"2021-02-05T23:55:39.536623Z\", \"end_time\": \"2021-02-05T23:56:35.850742Z\", \"created_time\": \"2021-02-05T23:55:27.839672Z\", \"created_time_dt\": \"2021-02-05T23:55:27.839672Z\", \"duration\": \"0:01:08\", \"iteration\": \"27\", \"goal\": \"accuracy_max\", \"run_name\": \"StandardScalerWrapper, XGBoostClassifier\", \"run_properties\": \"<azureml.automl.runtime.shared.model_wrappers.StandardScalerWrapper object at 0x7f1cc1535860\", \"primary_metric\": 0.93333333, \"best_metric\": 0.96410256}, {\"run_id\": \"AutoML_52fec94b-7a74-459f-a9f9-315d832f9817_28\", \"run_number\": 34, \"metric\": null, \"status\": \"Completed\", \"run_type\": \"azureml.scriptrun\", \"training_percent\": \"100\", \"start_time\": \"2021-02-05T23:56:06.311074Z\", \"end_time\": \"2021-02-05T23:56:58.336697Z\", \"created_time\": \"2021-02-05T23:55:52.707646Z\", \"created_time_dt\": \"2021-02-05T23:55:52.707646Z\", \"duration\": \"0:01:05\", \"iteration\": \"28\", \"goal\": \"accuracy_max\", \"run_name\": \"StandardScalerWrapper, XGBoostClassifier\", \"run_properties\": \"<azureml.automl.runtime.shared.model_wrappers.StandardScalerWrapper object at 0x7fdda26a3e80\", \"primary_metric\": 0.94871795, \"best_metric\": 0.96410256}, {\"run_id\": \"AutoML_52fec94b-7a74-459f-a9f9-315d832f9817_29\", \"run_number\": 35, \"metric\": null, \"status\": \"Completed\", \"run_type\": \"azureml.scriptrun\", \"training_percent\": \"100\", \"start_time\": \"2021-02-05T23:56:09.809214Z\", \"end_time\": \"2021-02-05T23:56:53.467589Z\", \"created_time\": \"2021-02-05T23:55:57.617878Z\", \"created_time_dt\": \"2021-02-05T23:55:57.617878Z\", \"duration\": \"0:00:55\", \"iteration\": \"29\", \"goal\": \"accuracy_max\", \"run_name\": \"SparseNormalizer, XGBoostClassifier\", \"run_properties\": \"<azureml.automl.runtime.shared.model_wrappers.SparseNormalizer object at 0x7fd86839a828\", \"primary_metric\": 0.92307692, \"best_metric\": 0.96410256}, {\"run_id\": \"AutoML_52fec94b-7a74-459f-a9f9-315d832f9817_30\", \"run_number\": 36, \"metric\": null, \"status\": \"Completed\", \"run_type\": \"azureml.scriptrun\", \"training_percent\": \"100\", \"start_time\": \"2021-02-05T23:56:49.630072Z\", \"end_time\": \"2021-02-05T23:57:44.799273Z\", \"created_time\": \"2021-02-05T23:56:35.718188Z\", \"created_time_dt\": \"2021-02-05T23:56:35.718188Z\", \"duration\": \"0:01:09\", \"iteration\": \"30\", \"goal\": \"accuracy_max\", \"run_name\": \"SparseNormalizer, XGBoostClassifier\", \"run_properties\": \"<azureml.automl.runtime.shared.model_wrappers.SparseNormalizer object at 0x7fa799c7c9e8\", \"primary_metric\": 0.87179487, \"best_metric\": 0.96410256}, {\"run_id\": \"AutoML_52fec94b-7a74-459f-a9f9-315d832f9817_31\", \"run_number\": 37, \"metric\": null, \"status\": \"Completed\", \"run_type\": \"azureml.scriptrun\", \"training_percent\": \"100\", \"start_time\": \"2021-02-05T23:56:52.72062Z\", \"end_time\": \"2021-02-05T23:57:47.92785Z\", \"created_time\": \"2021-02-05T23:56:40.547572Z\", \"created_time_dt\": \"2021-02-05T23:56:40.547572Z\", \"duration\": \"0:01:07\", \"iteration\": \"31\", \"goal\": \"accuracy_max\", \"run_name\": \"SparseNormalizer, XGBoostClassifier\", \"run_properties\": \"<azureml.automl.runtime.shared.model_wrappers.SparseNormalizer object at 0x7f2c01d8e128\", \"primary_metric\": 0.95384615, \"best_metric\": 0.96410256}, {\"run_id\": \"AutoML_52fec94b-7a74-459f-a9f9-315d832f9817_32\", \"run_number\": 38, \"metric\": null, \"status\": \"Completed\", \"run_type\": \"azureml.scriptrun\", \"training_percent\": \"100\", \"start_time\": \"2021-02-05T23:57:08.211802Z\", \"end_time\": \"2021-02-05T23:58:00.610955Z\", \"created_time\": \"2021-02-05T23:56:55.225189Z\", \"created_time_dt\": \"2021-02-05T23:56:55.225189Z\", \"duration\": \"0:01:05\", \"iteration\": \"32\", \"goal\": \"accuracy_max\", \"run_name\": \"SparseNormalizer, XGBoostClassifier\", \"run_properties\": \"<azureml.automl.runtime.shared.model_wrappers.SparseNormalizer object at 0x7f068a6dd4a8\", \"primary_metric\": 0.91282051, \"best_metric\": 0.96410256}, {\"run_id\": \"AutoML_52fec94b-7a74-459f-a9f9-315d832f9817_33\", \"run_number\": 39, \"metric\": null, \"status\": \"Completed\", \"run_type\": \"azureml.scriptrun\", \"training_percent\": \"100\", \"start_time\": \"2021-02-05T23:57:13.154445Z\", \"end_time\": \"2021-02-05T23:58:02.501169Z\", \"created_time\": \"2021-02-05T23:57:00.369033Z\", \"created_time_dt\": \"2021-02-05T23:57:00.369033Z\", \"duration\": \"0:01:02\", \"iteration\": \"33\", \"goal\": \"accuracy_max\", \"run_name\": \"StandardScalerWrapper, LightGBM\", \"run_properties\": \"<azureml.automl.runtime.shared.model_wrappers.StandardScalerWrapper object at 0x7f06da5800f0\", \"primary_metric\": 0.82051282, \"best_metric\": 0.96410256}, {\"run_id\": \"AutoML_52fec94b-7a74-459f-a9f9-315d832f9817_34\", \"run_number\": 40, \"metric\": null, \"status\": \"Completed\", \"run_type\": \"azureml.scriptrun\", \"training_percent\": \"100\", \"start_time\": \"2021-02-05T23:58:00.232186Z\", \"end_time\": \"2021-02-05T23:58:52.01597Z\", \"created_time\": \"2021-02-05T23:57:46.595765Z\", \"created_time_dt\": \"2021-02-05T23:57:46.595765Z\", \"duration\": \"0:01:05\", \"iteration\": \"34\", \"goal\": \"accuracy_max\", \"run_name\": \"StandardScalerWrapper, XGBoostClassifier\", \"run_properties\": \"<azureml.automl.runtime.shared.model_wrappers.StandardScalerWrapper object at 0x7fdfb9ea8a90\", \"primary_metric\": 0.95897436, \"best_metric\": 0.96410256}, {\"run_id\": \"AutoML_52fec94b-7a74-459f-a9f9-315d832f9817_35\", \"run_number\": 41, \"metric\": null, \"status\": \"Completed\", \"run_type\": \"azureml.scriptrun\", \"training_percent\": \"100\", \"start_time\": \"2021-02-05T23:58:04.656551Z\", \"end_time\": \"2021-02-05T23:59:03.185313Z\", \"created_time\": \"2021-02-05T23:57:52.123877Z\", \"created_time_dt\": \"2021-02-05T23:57:52.123877Z\", \"duration\": \"0:01:11\", \"iteration\": \"35\", \"goal\": \"accuracy_max\", \"run_name\": \"PCA, XGBoostClassifier\", \"run_properties\": \"copy=True, iterated_power='auto', n_components=0.45526315789473687,\\n    random_state=None, svd_solver='auto', tol=0.0, whiten=True\", \"primary_metric\": 0.75384615, \"best_metric\": 0.96410256}, {\"run_id\": \"AutoML_52fec94b-7a74-459f-a9f9-315d832f9817_36\", \"run_number\": 42, \"metric\": null, \"status\": \"Completed\", \"run_type\": \"azureml.scriptrun\", \"training_percent\": \"100\", \"start_time\": \"2021-02-05T23:58:12.49919Z\", \"end_time\": \"2021-02-05T23:59:05.786579Z\", \"created_time\": \"2021-02-05T23:58:02.410328Z\", \"created_time_dt\": \"2021-02-05T23:58:02.410328Z\", \"duration\": \"0:01:03\", \"iteration\": \"36\", \"goal\": \"accuracy_max\", \"run_name\": \"StandardScalerWrapper, XGBoostClassifier\", \"run_properties\": \"<azureml.automl.runtime.shared.model_wrappers.StandardScalerWrapper object at 0x7f9792923c18\", \"primary_metric\": 0.95384615, \"best_metric\": 0.96410256}, {\"run_id\": \"AutoML_52fec94b-7a74-459f-a9f9-315d832f9817_37\", \"run_number\": 43, \"metric\": null, \"status\": \"Completed\", \"run_type\": \"azureml.scriptrun\", \"training_percent\": \"100\", \"start_time\": \"2021-02-05T23:58:17.401591Z\", \"end_time\": \"2021-02-05T23:59:09.362677Z\", \"created_time\": \"2021-02-05T23:58:05.571883Z\", \"created_time_dt\": \"2021-02-05T23:58:05.571883Z\", \"duration\": \"0:01:03\", \"iteration\": \"37\", \"goal\": \"accuracy_max\", \"run_name\": \"StandardScalerWrapper, XGBoostClassifier\", \"run_properties\": \"<azureml.automl.runtime.shared.model_wrappers.StandardScalerWrapper object at 0x7f7539fefb38\", \"primary_metric\": 0.96410256, \"best_metric\": 0.96410256}, {\"run_id\": \"AutoML_52fec94b-7a74-459f-a9f9-315d832f9817_38\", \"run_number\": 44, \"metric\": null, \"status\": \"Completed\", \"run_type\": \"azureml.scriptrun\", \"training_percent\": \"100\", \"start_time\": \"2021-02-05T23:59:04.666262Z\", \"end_time\": \"2021-02-05T23:59:58.377272Z\", \"created_time\": \"2021-02-05T23:58:54.273095Z\", \"created_time_dt\": \"2021-02-05T23:58:54.273095Z\", \"duration\": \"0:01:04\", \"iteration\": \"38\", \"goal\": \"accuracy_max\", \"run_name\": \"StandardScalerWrapper, XGBoostClassifier\", \"run_properties\": \"<azureml.automl.runtime.shared.model_wrappers.StandardScalerWrapper object at 0x7fc91d807390\", \"primary_metric\": 0.95897436, \"best_metric\": 0.96410256}, {\"run_id\": \"AutoML_52fec94b-7a74-459f-a9f9-315d832f9817_39\", \"run_number\": 45, \"metric\": null, \"status\": \"Completed\", \"run_type\": \"azureml.scriptrun\", \"training_percent\": \"100\", \"start_time\": \"2021-02-05T23:59:18.093619Z\", \"end_time\": \"2021-02-06T00:00:08.797019Z\", \"created_time\": \"2021-02-05T23:59:05.508426Z\", \"created_time_dt\": \"2021-02-05T23:59:05.508426Z\", \"duration\": \"0:01:03\", \"iteration\": \"39\", \"goal\": \"accuracy_max\", \"run_name\": \"StandardScalerWrapper, XGBoostClassifier\", \"run_properties\": \"<azureml.automl.runtime.shared.model_wrappers.StandardScalerWrapper object at 0x7f9470726710\", \"primary_metric\": 0.90769231, \"best_metric\": 0.96410256}, {\"run_id\": \"AutoML_52fec94b-7a74-459f-a9f9-315d832f9817_40\", \"run_number\": 46, \"metric\": null, \"status\": \"Completed\", \"run_type\": \"azureml.scriptrun\", \"training_percent\": \"100\", \"start_time\": \"2021-02-05T23:59:23.876716Z\", \"end_time\": \"2021-02-06T00:00:15.807011Z\", \"created_time\": \"2021-02-05T23:59:10.943082Z\", \"created_time_dt\": \"2021-02-05T23:59:10.943082Z\", \"duration\": \"0:01:04\", \"iteration\": \"40\", \"goal\": \"accuracy_max\", \"run_name\": \"SparseNormalizer, XGBoostClassifier\", \"run_properties\": \"<azureml.automl.runtime.shared.model_wrappers.SparseNormalizer object at 0x7fb1ba69fe48\", \"primary_metric\": 0.88717949, \"best_metric\": 0.96410256}, {\"run_id\": \"AutoML_52fec94b-7a74-459f-a9f9-315d832f9817_41\", \"run_number\": 47, \"metric\": null, \"status\": \"Completed\", \"run_type\": \"azureml.scriptrun\", \"training_percent\": \"100\", \"start_time\": \"2021-02-05T23:59:25.701406Z\", \"end_time\": \"2021-02-06T00:00:14.539831Z\", \"created_time\": \"2021-02-05T23:59:14.209865Z\", \"created_time_dt\": \"2021-02-05T23:59:14.209865Z\", \"duration\": \"0:01:00\", \"iteration\": \"41\", \"goal\": \"accuracy_max\", \"run_name\": \"SparseNormalizer, XGBoostClassifier\", \"run_properties\": \"<azureml.automl.runtime.shared.model_wrappers.SparseNormalizer object at 0x7f869c8c86d8\", \"primary_metric\": 0.9025641, \"best_metric\": 0.96410256}, {\"run_id\": \"AutoML_52fec94b-7a74-459f-a9f9-315d832f9817_42\", \"run_number\": 48, \"metric\": null, \"status\": \"Completed\", \"run_type\": \"azureml.scriptrun\", \"training_percent\": \"100\", \"start_time\": \"2021-02-06T00:00:12.340622Z\", \"end_time\": \"2021-02-06T00:01:07.205855Z\", \"created_time\": \"2021-02-06T00:00:00.156924Z\", \"created_time_dt\": \"2021-02-06T00:00:00.156924Z\", \"duration\": \"0:01:07\", \"iteration\": \"42\", \"goal\": \"accuracy_max\", \"run_name\": \"StandardScalerWrapper, XGBoostClassifier\", \"run_properties\": \"<azureml.automl.runtime.shared.model_wrappers.StandardScalerWrapper object at 0x7f4eed8b4940\", \"primary_metric\": 0.8974359, \"best_metric\": 0.96410256}, {\"run_id\": \"AutoML_52fec94b-7a74-459f-a9f9-315d832f9817_43\", \"run_number\": 49, \"metric\": null, \"status\": \"Canceled\", \"run_type\": \"azureml.scriptrun\", \"training_percent\": \"100\", \"start_time\": \"2021-02-06T00:00:22.177968Z\", \"end_time\": \"2021-02-06T00:01:15.574358Z\", \"created_time\": \"2021-02-06T00:00:10.385581Z\", \"created_time_dt\": \"2021-02-06T00:00:10.385581Z\", \"duration\": \"0:01:05\", \"iteration\": \"43\", \"goal\": \"accuracy_max\", \"run_name\": \"StandardScalerWrapper, XGBoostClassifier\", \"run_properties\": \"<azureml.automl.runtime.shared.model_wrappers.StandardScalerWrapper object at 0x7fb146ef4e80\", \"primary_metric\": 0.94358974, \"best_metric\": 0.96410256}, {\"run_id\": \"AutoML_52fec94b-7a74-459f-a9f9-315d832f9817_44\", \"run_number\": 50, \"metric\": null, \"status\": \"Canceled\", \"run_type\": \"azureml.scriptrun\", \"training_percent\": \"100\", \"start_time\": \"2021-02-06T00:00:29.530837Z\", \"end_time\": \"2021-02-06T00:01:15.726675Z\", \"created_time\": \"2021-02-06T00:00:16.249761Z\", \"created_time_dt\": \"2021-02-06T00:00:16.249761Z\", \"duration\": \"0:00:59\", \"iteration\": \"44\", \"goal\": \"accuracy_max\", \"run_name\": \"StandardScalerWrapper, XGBoostClassifier\", \"run_properties\": \"<azureml.automl.runtime.shared.model_wrappers.StandardScalerWrapper object at 0x7fce212478d0\", \"primary_metric\": 0.95384615, \"best_metric\": 0.96410256}, {\"run_id\": \"AutoML_52fec94b-7a74-459f-a9f9-315d832f9817_45\", \"run_number\": 51, \"metric\": null, \"status\": \"Canceled\", \"run_type\": \"azureml.scriptrun\", \"training_percent\": \"100\", \"start_time\": \"2021-02-06T00:00:33.454242Z\", \"end_time\": \"2021-02-06T00:01:14.374507Z\", \"created_time\": \"2021-02-06T00:00:20.693979Z\", \"created_time_dt\": \"2021-02-06T00:00:20.693979Z\", \"duration\": \"0:00:53\", \"iteration\": \"45\", \"goal\": \"accuracy_max\", \"run_name\": \"StandardScalerWrapper, XGBoostClassifier\", \"run_properties\": \"<azureml.automl.runtime.shared.model_wrappers.StandardScalerWrapper object at 0x7f7440713eb8\", \"primary_metric\": 0.96923077, \"best_metric\": 0.96923077}, {\"run_id\": \"AutoML_52fec94b-7a74-459f-a9f9-315d832f9817_46\", \"run_number\": 52, \"metric\": null, \"status\": \"Completed\", \"run_type\": \"azureml.scriptrun\", \"training_percent\": \"100\", \"start_time\": \"2021-02-06T00:01:30.314307Z\", \"end_time\": \"2021-02-06T00:03:20.118956Z\", \"created_time\": \"2021-02-06T00:01:18.083518Z\", \"created_time_dt\": \"2021-02-06T00:01:18.083518Z\", \"duration\": \"0:02:02\", \"iteration\": \"46\", \"goal\": \"accuracy_max\", \"run_name\": \"VotingEnsemble\", \"run_properties\": \"classification_labels=None,\\n                              estimators=[('45',\\n                                           Pipeline(memory=None,\\n                                                    steps=[('standardscalerwrapper',\\n                                                            <azureml.automl.runtime.shared.model_wrappers.StandardScalerWrapper object at 0x7f3d9834c7f0>\", \"primary_metric\": 0.96410256, \"best_metric\": 0.96923077}, {\"run_id\": \"AutoML_52fec94b-7a74-459f-a9f9-315d832f9817_47\", \"run_number\": 53, \"metric\": null, \"status\": \"Completed\", \"run_type\": \"azureml.scriptrun\", \"training_percent\": \"100\", \"start_time\": \"2021-02-06T00:01:31.977573Z\", \"end_time\": \"2021-02-06T00:03:26.554517Z\", \"created_time\": \"2021-02-06T00:01:18.143158Z\", \"created_time_dt\": \"2021-02-06T00:01:18.143158Z\", \"duration\": \"0:02:08\", \"iteration\": \"47\", \"goal\": \"accuracy_max\", \"run_name\": \"StackEnsemble\", \"run_properties\": \"base_learners=[('45',\\n                                        Pipeline(memory=None,\\n                                                 steps=[('standardscalerwrapper',\\n                                                         <azureml.automl.runtime.shared.model_wrappers.StandardScalerWrapper object at 0x7f7284256358>\", \"primary_metric\": 0.94358974, \"best_metric\": 0.96923077}], \"children_metrics\": {\"categories\": [0], \"series\": {\"accuracy\": [{\"categories\": [\"0\", \"1\", \"2\", \"3\", \"4\", \"5\", \"6\", \"7\", \"8\", \"9\", \"10\", \"11\", \"12\", \"13\", \"14\", \"15\", \"16\", \"17\", \"18\", \"19\", \"20\", \"21\", \"22\", \"23\", \"24\", \"25\", \"26\", \"27\", \"28\", \"29\", \"30\", \"31\", \"32\", \"33\", \"34\", \"35\", \"36\", \"37\", \"38\", \"39\", \"40\", \"41\", \"42\", \"43\", \"44\", \"45\", \"46\", \"47\"], \"mode\": \"markers\", \"name\": \"accuracy\", \"stepped\": false, \"type\": \"scatter\", \"data\": [0.964102564102564, 0.964102564102564, 0.9025641025641026, 0.8717948717948719, 0.923076923076923, 0.8564102564102564, 0.9333333333333333, 0.9589743589743589, 0.9435897435897436, 0.9333333333333333, 0.8410256410256409, 0.9384615384615385, 0.8615384615384615, 0.9128205128205128, 0.9435897435897436, 0.9025641025641026, 0.8666666666666666, 0.9025641025641026, 0.9282051282051282, 0.8974358974358975, 0.9128205128205129, 0.9230769230769231, 0.9538461538461538, 0.9487179487179487, 0.8974358974358975, 0.9230769230769231, 0.876923076923077, 0.9333333333333333, 0.9487179487179487, 0.9230769230769231, 0.8717948717948717, 0.9538461538461538, 0.9128205128205128, 0.8205128205128206, 0.9589743589743589, 0.7538461538461538, 0.9538461538461538, 0.964102564102564, 0.9589743589743589, 0.9076923076923077, 0.8871794871794872, 0.9025641025641026, 0.8974358974358975, 0.9435897435897436, 0.9538461538461538, 0.9692307692307691, 0.964102564102564, 0.9435897435897436]}, {\"categories\": [\"0\", \"1\", \"2\", \"3\", \"4\", \"5\", \"6\", \"7\", \"8\", \"9\", \"10\", \"11\", \"12\", \"13\", \"14\", \"15\", \"16\", \"17\", \"18\", \"19\", \"20\", \"21\", \"22\", \"23\", \"24\", \"25\", \"26\", \"27\", \"28\", \"29\", \"30\", \"31\", \"32\", \"33\", \"34\", \"35\", \"36\", \"37\", \"38\", \"39\", \"40\", \"41\", \"42\", \"43\", \"44\", \"45\", \"46\", \"47\"], \"mode\": \"lines\", \"name\": \"accuracy_max\", \"stepped\": true, \"type\": \"scatter\", \"data\": [0.964102564102564, 0.964102564102564, 0.964102564102564, 0.964102564102564, 0.964102564102564, 0.964102564102564, 0.964102564102564, 0.964102564102564, 0.964102564102564, 0.964102564102564, 0.964102564102564, 0.964102564102564, 0.964102564102564, 0.964102564102564, 0.964102564102564, 0.964102564102564, 0.964102564102564, 0.964102564102564, 0.964102564102564, 0.964102564102564, 0.964102564102564, 0.964102564102564, 0.964102564102564, 0.964102564102564, 0.964102564102564, 0.964102564102564, 0.964102564102564, 0.964102564102564, 0.964102564102564, 0.964102564102564, 0.964102564102564, 0.964102564102564, 0.964102564102564, 0.964102564102564, 0.964102564102564, 0.964102564102564, 0.964102564102564, 0.964102564102564, 0.964102564102564, 0.964102564102564, 0.964102564102564, 0.964102564102564, 0.964102564102564, 0.964102564102564, 0.964102564102564, 0.9692307692307691, 0.9692307692307691, 0.9692307692307691]}], \"average_precision_score_micro\": [{\"categories\": [\"0\", \"1\", \"2\", \"3\", \"4\", \"5\", \"6\", \"7\", \"8\", \"9\", \"10\", \"11\", \"12\", \"13\", \"14\", \"15\", \"16\", \"17\", \"18\", \"19\", \"20\", \"21\", \"22\", \"23\", \"24\", \"25\", \"26\", \"27\", \"28\", \"29\", \"30\", \"31\", \"32\", \"33\", \"34\", \"35\", \"36\", \"37\", \"38\", \"39\", \"40\", \"41\", \"42\", \"43\", \"44\", \"45\", \"46\", \"47\"], \"mode\": \"markers\", \"name\": \"average_precision_score_micro\", \"stepped\": false, \"type\": \"scatter\", \"data\": [0.993843075058092, 0.9918968830352352, 0.9702424181902172, 0.9655747939858017, 0.9765678794009176, 0.9428470825236349, 0.9781276121522892, 0.9886536091733085, 0.9822594259925612, 0.9693754305923518, 0.9410040524885609, 0.9829717461456193, 0.9561928969457835, 0.974788978826429, 0.9879901930778111, 0.965722745483049, 0.9468824915225145, 0.969760563278709, 0.9803221161452935, 0.9688631036079464, 0.9764494018281459, 0.969566614631525, 0.9859906396825068, 0.9897993909116583, 0.9712169888566752, 0.9749073541167341, 0.9651350748086207, 0.9722243939174942, 0.9749222500455961, 0.9775572478923529, 0.9215240977061281, 0.9822066335950039, 0.9675347798226472, 0.9355526630819988, 0.9879761572844323, 0.6952005259697568, 0.989182158440167, 0.9911318262790555, 0.990259527447952, 0.9770112938015391, 0.9131311502239366, 0.9659820364151479, 0.9683360048652829, 0.9829661128581471, 0.9845468465792955, 0.9902255273932153, 0.9941183594490545, 0.9880162715540678]}, {\"categories\": [\"0\", \"1\", \"2\", \"3\", \"4\", \"5\", \"6\", \"7\", \"8\", \"9\", \"10\", \"11\", \"12\", \"13\", \"14\", \"15\", \"16\", \"17\", \"18\", \"19\", \"20\", \"21\", \"22\", \"23\", \"24\", \"25\", \"26\", \"27\", \"28\", \"29\", \"30\", \"31\", \"32\", \"33\", \"34\", \"35\", \"36\", \"37\", \"38\", \"39\", \"40\", \"41\", \"42\", \"43\", \"44\", \"45\", \"46\", \"47\"], \"mode\": \"lines\", \"name\": \"average_precision_score_micro_max\", \"stepped\": true, \"type\": \"scatter\", \"data\": [0.993843075058092, 0.993843075058092, 0.993843075058092, 0.993843075058092, 0.993843075058092, 0.993843075058092, 0.993843075058092, 0.993843075058092, 0.993843075058092, 0.993843075058092, 0.993843075058092, 0.993843075058092, 0.993843075058092, 0.993843075058092, 0.993843075058092, 0.993843075058092, 0.993843075058092, 0.993843075058092, 0.993843075058092, 0.993843075058092, 0.993843075058092, 0.993843075058092, 0.993843075058092, 0.993843075058092, 0.993843075058092, 0.993843075058092, 0.993843075058092, 0.993843075058092, 0.993843075058092, 0.993843075058092, 0.993843075058092, 0.993843075058092, 0.993843075058092, 0.993843075058092, 0.993843075058092, 0.993843075058092, 0.993843075058092, 0.993843075058092, 0.993843075058092, 0.993843075058092, 0.993843075058092, 0.993843075058092, 0.993843075058092, 0.993843075058092, 0.993843075058092, 0.993843075058092, 0.9941183594490545, 0.9941183594490545]}], \"precision_score_weighted\": [{\"categories\": [\"0\", \"1\", \"2\", \"3\", \"4\", \"5\", \"6\", \"7\", \"8\", \"9\", \"10\", \"11\", \"12\", \"13\", \"14\", \"15\", \"16\", \"17\", \"18\", \"19\", \"20\", \"21\", \"22\", \"23\", \"24\", \"25\", \"26\", \"27\", \"28\", \"29\", \"30\", \"31\", \"32\", \"33\", \"34\", \"35\", \"36\", \"37\", \"38\", \"39\", \"40\", \"41\", \"42\", \"43\", \"44\", \"45\", \"46\", \"47\"], \"mode\": \"markers\", \"name\": \"precision_score_weighted\", \"stepped\": false, \"type\": \"scatter\", \"data\": [0.9661716419780937, 0.9671144133644134, 0.9110382007053832, 0.8750091575091575, 0.9301593422916952, 0.8583956783956784, 0.9332514707514707, 0.9628269878269877, 0.9494033744033743, 0.933442945942946, 0.8450450504749147, 0.9432165057165058, 0.8717423507864683, 0.924184530066883, 0.946602501441211, 0.9079831932773109, 0.8717885254841775, 0.9095131992190815, 0.9337275345427519, 0.9061588810608419, 0.9207096790971029, 0.9253205128205128, 0.9601343563843564, 0.9537490287490288, 0.906036926036926, 0.9232941595441595, 0.8935042735042735, 0.9417827406797995, 0.9571953850243323, 0.9244535661471144, 0.8799672005554358, 0.9579370629370629, 0.9216970568505095, 0.8227475658244888, 0.9624769719527784, 0.5721236028928336, 0.9601343563843564, 0.9671144133644134, 0.9624769719527784, 0.9135833963632825, 0.8979337655808244, 0.9090790865854805, 0.9075734722793545, 0.9522225800515274, 0.9581293706293706, 0.9713024475524474, 0.9666650061408125, 0.9503499360117008]}, {\"categories\": [\"0\", \"1\", \"2\", \"3\", \"4\", \"5\", \"6\", \"7\", \"8\", \"9\", \"10\", \"11\", \"12\", \"13\", \"14\", \"15\", \"16\", \"17\", \"18\", \"19\", \"20\", \"21\", \"22\", \"23\", \"24\", \"25\", \"26\", \"27\", \"28\", \"29\", \"30\", \"31\", \"32\", \"33\", \"34\", \"35\", \"36\", \"37\", \"38\", \"39\", \"40\", \"41\", \"42\", \"43\", \"44\", \"45\", \"46\", \"47\"], \"mode\": \"lines\", \"name\": \"precision_score_weighted_max\", \"stepped\": true, \"type\": \"scatter\", \"data\": [0.9661716419780937, 0.9671144133644134, 0.9671144133644134, 0.9671144133644134, 0.9671144133644134, 0.9671144133644134, 0.9671144133644134, 0.9671144133644134, 0.9671144133644134, 0.9671144133644134, 0.9671144133644134, 0.9671144133644134, 0.9671144133644134, 0.9671144133644134, 0.9671144133644134, 0.9671144133644134, 0.9671144133644134, 0.9671144133644134, 0.9671144133644134, 0.9671144133644134, 0.9671144133644134, 0.9671144133644134, 0.9671144133644134, 0.9671144133644134, 0.9671144133644134, 0.9671144133644134, 0.9671144133644134, 0.9671144133644134, 0.9671144133644134, 0.9671144133644134, 0.9671144133644134, 0.9671144133644134, 0.9671144133644134, 0.9671144133644134, 0.9671144133644134, 0.9671144133644134, 0.9671144133644134, 0.9671144133644134, 0.9671144133644134, 0.9671144133644134, 0.9671144133644134, 0.9671144133644134, 0.9671144133644134, 0.9671144133644134, 0.9671144133644134, 0.9713024475524474, 0.9713024475524474, 0.9713024475524474]}], \"weighted_accuracy\": [{\"categories\": [\"0\", \"1\", \"2\", \"3\", \"4\", \"5\", \"6\", \"7\", \"8\", \"9\", \"10\", \"11\", \"12\", \"13\", \"14\", \"15\", \"16\", \"17\", \"18\", \"19\", \"20\", \"21\", \"22\", \"23\", \"24\", \"25\", \"26\", \"27\", \"28\", \"29\", \"30\", \"31\", \"32\", \"33\", \"34\", \"35\", \"36\", \"37\", \"38\", \"39\", \"40\", \"41\", \"42\", \"43\", \"44\", \"45\", \"46\", \"47\"], \"mode\": \"markers\", \"name\": \"weighted_accuracy\", \"stepped\": false, \"type\": \"scatter\", \"data\": [0.9745738642316095, 0.9786287707561643, 0.9311045607985143, 0.9154645081280947, 0.9597182229892471, 0.9117862422979834, 0.9630995569716735, 0.9804751476637777, 0.9754946447585017, 0.9616889317454265, 0.8859055366212264, 0.9646428191219403, 0.928436430229497, 0.9472817324424867, 0.9666533424365251, 0.9562206457215462, 0.9138040577784438, 0.9488882898258728, 0.9554826279022818, 0.9483545340203973, 0.9232628363226345, 0.9508638075029335, 0.9664485027902691, 0.9725264619950662, 0.9497152775798046, 0.9419045894914966, 0.8831485069724148, 0.9592976635811452, 0.9603583688073215, 0.9510448377137959, 0.9314755898148117, 0.9786165959780139, 0.9549294239626226, 0.9212206371263078, 0.9765033722439433, 0.892864526903305, 0.9664485027902691, 0.9786287707561643, 0.9765033722439433, 0.929274737888481, 0.9462851260386925, 0.9470457810894966, 0.9321393776890605, 0.9590536157784305, 0.9743779737317222, 0.9847189047391118, 0.9825935062268909, 0.9661624412365535]}, {\"categories\": [\"0\", \"1\", \"2\", \"3\", \"4\", \"5\", \"6\", \"7\", \"8\", \"9\", \"10\", \"11\", \"12\", \"13\", \"14\", \"15\", \"16\", \"17\", \"18\", \"19\", \"20\", \"21\", \"22\", \"23\", \"24\", \"25\", \"26\", \"27\", \"28\", \"29\", \"30\", \"31\", \"32\", \"33\", \"34\", \"35\", \"36\", \"37\", \"38\", \"39\", \"40\", \"41\", \"42\", \"43\", \"44\", \"45\", \"46\", \"47\"], \"mode\": \"lines\", \"name\": \"weighted_accuracy_max\", \"stepped\": true, \"type\": \"scatter\", \"data\": [0.9745738642316095, 0.9786287707561643, 0.9786287707561643, 0.9786287707561643, 0.9786287707561643, 0.9786287707561643, 0.9786287707561643, 0.9804751476637777, 0.9804751476637777, 0.9804751476637777, 0.9804751476637777, 0.9804751476637777, 0.9804751476637777, 0.9804751476637777, 0.9804751476637777, 0.9804751476637777, 0.9804751476637777, 0.9804751476637777, 0.9804751476637777, 0.9804751476637777, 0.9804751476637777, 0.9804751476637777, 0.9804751476637777, 0.9804751476637777, 0.9804751476637777, 0.9804751476637777, 0.9804751476637777, 0.9804751476637777, 0.9804751476637777, 0.9804751476637777, 0.9804751476637777, 0.9804751476637777, 0.9804751476637777, 0.9804751476637777, 0.9804751476637777, 0.9804751476637777, 0.9804751476637777, 0.9804751476637777, 0.9804751476637777, 0.9804751476637777, 0.9804751476637777, 0.9804751476637777, 0.9804751476637777, 0.9804751476637777, 0.9804751476637777, 0.9847189047391118, 0.9847189047391118, 0.9847189047391118]}], \"norm_macro_recall\": [{\"categories\": [\"0\", \"1\", \"2\", \"3\", \"4\", \"5\", \"6\", \"7\", \"8\", \"9\", \"10\", \"11\", \"12\", \"13\", \"14\", \"15\", \"16\", \"17\", \"18\", \"19\", \"20\", \"21\", \"22\", \"23\", \"24\", \"25\", \"26\", \"27\", \"28\", \"29\", \"30\", \"31\", \"32\", \"33\", \"34\", \"35\", \"36\", \"37\", \"38\", \"39\", \"40\", \"41\", \"42\", \"43\", \"44\", \"45\", \"46\", \"47\"], \"mode\": \"markers\", \"name\": \"norm_macro_recall\", \"stepped\": false, \"type\": \"scatter\", \"data\": [0.8848812260536398, 0.8723333333333333, 0.6929415179123188, 0.5848261648745521, 0.7067182539682539, 0.5232825140809012, 0.7573859623567633, 0.8405325140809012, 0.7675555555555555, 0.761350248071049, 0.5262431052139062, 0.7808817204301075, 0.4858253968253968, 0.6942896825396825, 0.8004367816091953, 0.6092145593869732, 0.5567428315412186, 0.6253772577996715, 0.7552261904761906, 0.6108253968253969, 0.7872605143280894, 0.7505010417218425, 0.8563333333333333, 0.8095555555555556, 0.6080087045570916, 0.7803663947596094, 0.7258716784081077, 0.7614126984126984, 0.8483333333333334, 0.7431359623567633, 0.5263023553507425, 0.8175555555555555, 0.6642539682539683, 0.2695238095238095, 0.8523333333333334, 0.0, 0.8563333333333333, 0.8723333333333333, 0.8523333333333334, 0.7379415179123188, 0.5594372759856631, 0.6355801331285202, 0.6702539682539683, 0.8197619047619048, 0.8323333333333334, 0.8803333333333333, 0.8603333333333332, 0.8043333333333333]}, {\"categories\": [\"0\", \"1\", \"2\", \"3\", \"4\", \"5\", \"6\", \"7\", \"8\", \"9\", \"10\", \"11\", \"12\", \"13\", \"14\", \"15\", \"16\", \"17\", \"18\", \"19\", \"20\", \"21\", \"22\", \"23\", \"24\", \"25\", \"26\", \"27\", \"28\", \"29\", \"30\", \"31\", \"32\", \"33\", \"34\", \"35\", \"36\", \"37\", \"38\", \"39\", \"40\", \"41\", \"42\", \"43\", \"44\", \"45\", \"46\", \"47\"], \"mode\": \"lines\", \"name\": \"norm_macro_recall_max\", \"stepped\": true, \"type\": \"scatter\", \"data\": [0.8848812260536398, 0.8848812260536398, 0.8848812260536398, 0.8848812260536398, 0.8848812260536398, 0.8848812260536398, 0.8848812260536398, 0.8848812260536398, 0.8848812260536398, 0.8848812260536398, 0.8848812260536398, 0.8848812260536398, 0.8848812260536398, 0.8848812260536398, 0.8848812260536398, 0.8848812260536398, 0.8848812260536398, 0.8848812260536398, 0.8848812260536398, 0.8848812260536398, 0.8848812260536398, 0.8848812260536398, 0.8848812260536398, 0.8848812260536398, 0.8848812260536398, 0.8848812260536398, 0.8848812260536398, 0.8848812260536398, 0.8848812260536398, 0.8848812260536398, 0.8848812260536398, 0.8848812260536398, 0.8848812260536398, 0.8848812260536398, 0.8848812260536398, 0.8848812260536398, 0.8848812260536398, 0.8848812260536398, 0.8848812260536398, 0.8848812260536398, 0.8848812260536398, 0.8848812260536398, 0.8848812260536398, 0.8848812260536398, 0.8848812260536398, 0.8848812260536398, 0.8848812260536398, 0.8848812260536398]}], \"AUC_micro\": [{\"categories\": [\"0\", \"1\", \"2\", \"3\", \"4\", \"5\", \"6\", \"7\", \"8\", \"9\", \"10\", \"11\", \"12\", \"13\", \"14\", \"15\", \"16\", \"17\", \"18\", \"19\", \"20\", \"21\", \"22\", \"23\", \"24\", \"25\", \"26\", \"27\", \"28\", \"29\", \"30\", \"31\", \"32\", \"33\", \"34\", \"35\", \"36\", \"37\", \"38\", \"39\", \"40\", \"41\", \"42\", \"43\", \"44\", \"45\", \"46\", \"47\"], \"mode\": \"markers\", \"name\": \"AUC_micro\", \"stepped\": false, \"type\": \"scatter\", \"data\": [0.9935568704799473, 0.9914529914529915, 0.9685733070348455, 0.9627876397107166, 0.9750821827744904, 0.9442472057856672, 0.9769888231426693, 0.9884286653517422, 0.9817225509533202, 0.9692307692307691, 0.937015121630506, 0.9818540433925049, 0.9520052596975674, 0.9731755424063117, 0.9877054569362261, 0.9633136094674557, 0.9431952662721894, 0.9688362919132152, 0.9789612097304404, 0.9663379355687048, 0.974621959237344, 0.968310322156476, 0.9851413543721236, 0.9892176199868509, 0.9689677843523997, 0.9730440499671268, 0.962130177514793, 0.9708086785009862, 0.977251808021039, 0.9759368836291913, 0.9172912557527942, 0.9819855358316897, 0.96620644312952, 0.9278106508875739, 0.9873767258382642, 0.7538461538461538, 0.988560157790927, 0.990664036817883, 0.9897435897435898, 0.9750164365548981, 0.9296515450361605, 0.9644970414201183, 0.9652859960552268, 0.9819855358316897, 0.9838264299802763, 0.9897435897435898, 0.9938198553583169, 0.9872452333990795]}, {\"categories\": [\"0\", \"1\", \"2\", \"3\", \"4\", \"5\", \"6\", \"7\", \"8\", \"9\", \"10\", \"11\", \"12\", \"13\", \"14\", \"15\", \"16\", \"17\", \"18\", \"19\", \"20\", \"21\", \"22\", \"23\", \"24\", \"25\", \"26\", \"27\", \"28\", \"29\", \"30\", \"31\", \"32\", \"33\", \"34\", \"35\", \"36\", \"37\", \"38\", \"39\", \"40\", \"41\", \"42\", \"43\", \"44\", \"45\", \"46\", \"47\"], \"mode\": \"lines\", \"name\": \"AUC_micro_max\", \"stepped\": true, \"type\": \"scatter\", \"data\": [0.9935568704799473, 0.9935568704799473, 0.9935568704799473, 0.9935568704799473, 0.9935568704799473, 0.9935568704799473, 0.9935568704799473, 0.9935568704799473, 0.9935568704799473, 0.9935568704799473, 0.9935568704799473, 0.9935568704799473, 0.9935568704799473, 0.9935568704799473, 0.9935568704799473, 0.9935568704799473, 0.9935568704799473, 0.9935568704799473, 0.9935568704799473, 0.9935568704799473, 0.9935568704799473, 0.9935568704799473, 0.9935568704799473, 0.9935568704799473, 0.9935568704799473, 0.9935568704799473, 0.9935568704799473, 0.9935568704799473, 0.9935568704799473, 0.9935568704799473, 0.9935568704799473, 0.9935568704799473, 0.9935568704799473, 0.9935568704799473, 0.9935568704799473, 0.9935568704799473, 0.9935568704799473, 0.9935568704799473, 0.9935568704799473, 0.9935568704799473, 0.9935568704799473, 0.9935568704799473, 0.9935568704799473, 0.9935568704799473, 0.9935568704799473, 0.9935568704799473, 0.9938198553583169, 0.9938198553583169]}], \"AUC_weighted\": [{\"categories\": [\"0\", \"1\", \"2\", \"3\", \"4\", \"5\", \"6\", \"7\", \"8\", \"9\", \"10\", \"11\", \"12\", \"13\", \"14\", \"15\", \"16\", \"17\", \"18\", \"19\", \"20\", \"21\", \"22\", \"23\", \"24\", \"25\", \"26\", \"27\", \"28\", \"29\", \"30\", \"31\", \"32\", \"33\", \"34\", \"35\", \"36\", \"37\", \"38\", \"39\", \"40\", \"41\", \"42\", \"43\", \"44\", \"45\", \"46\", \"47\"], \"mode\": \"markers\", \"name\": \"AUC_weighted\", \"stepped\": false, \"type\": \"scatter\", \"data\": [0.9929244427965228, 0.9948905956647891, 0.95743276038632, 0.9465591118291339, 0.9647603892626139, 0.9311543594882027, 0.9617171489779943, 0.9846232439335887, 0.9751130650752453, 0.9490649928491977, 0.9161417418530877, 0.977620548404753, 0.963581332285726, 0.9754507448016903, 0.9892694322321685, 0.9552350892526089, 0.9309451300975216, 0.9530447469557591, 0.9748362422091565, 0.9642316698153739, 0.9717528044093673, 0.9506362227872238, 0.9841567879654644, 0.9903497595800154, 0.9632349700725673, 0.953810946613227, 0.9587649857866765, 0.9627954487937803, 0.9716338318296049, 0.9604096218020022, 0.8729910732677697, 0.977298827032976, 0.9544001727374919, 0.9636583711472477, 0.9885201075857359, 0.5, 0.9926026625704045, 0.9903155181241946, 0.9912255710342472, 0.9767632466408885, 0.8541996405471097, 0.9481468018550888, 0.9646902378303934, 0.9812053251408092, 0.9845479280329114, 0.9902490186038573, 0.9961648745519713, 0.9977120669056152]}, {\"categories\": [\"0\", \"1\", \"2\", \"3\", \"4\", \"5\", \"6\", \"7\", \"8\", \"9\", \"10\", \"11\", \"12\", \"13\", \"14\", \"15\", \"16\", \"17\", \"18\", \"19\", \"20\", \"21\", \"22\", \"23\", \"24\", \"25\", \"26\", \"27\", \"28\", \"29\", \"30\", \"31\", \"32\", \"33\", \"34\", \"35\", \"36\", \"37\", \"38\", \"39\", \"40\", \"41\", \"42\", \"43\", \"44\", \"45\", \"46\", \"47\"], \"mode\": \"lines\", \"name\": \"AUC_weighted_max\", \"stepped\": true, \"type\": \"scatter\", \"data\": [0.9929244427965228, 0.9948905956647891, 0.9948905956647891, 0.9948905956647891, 0.9948905956647891, 0.9948905956647891, 0.9948905956647891, 0.9948905956647891, 0.9948905956647891, 0.9948905956647891, 0.9948905956647891, 0.9948905956647891, 0.9948905956647891, 0.9948905956647891, 0.9948905956647891, 0.9948905956647891, 0.9948905956647891, 0.9948905956647891, 0.9948905956647891, 0.9948905956647891, 0.9948905956647891, 0.9948905956647891, 0.9948905956647891, 0.9948905956647891, 0.9948905956647891, 0.9948905956647891, 0.9948905956647891, 0.9948905956647891, 0.9948905956647891, 0.9948905956647891, 0.9948905956647891, 0.9948905956647891, 0.9948905956647891, 0.9948905956647891, 0.9948905956647891, 0.9948905956647891, 0.9948905956647891, 0.9948905956647891, 0.9948905956647891, 0.9948905956647891, 0.9948905956647891, 0.9948905956647891, 0.9948905956647891, 0.9948905956647891, 0.9948905956647891, 0.9948905956647891, 0.9961648745519713, 0.9977120669056152]}], \"average_precision_score_macro\": [{\"categories\": [\"0\", \"1\", \"2\", \"3\", \"4\", \"5\", \"6\", \"7\", \"8\", \"9\", \"10\", \"11\", \"12\", \"13\", \"14\", \"15\", \"16\", \"17\", \"18\", \"19\", \"20\", \"21\", \"22\", \"23\", \"24\", \"25\", \"26\", \"27\", \"28\", \"29\", \"30\", \"31\", \"32\", \"33\", \"34\", \"35\", \"36\", \"37\", \"38\", \"39\", \"40\", \"41\", \"42\", \"43\", \"44\", \"45\", \"46\", \"47\"], \"mode\": \"markers\", \"name\": \"average_precision_score_macro\", \"stepped\": false, \"type\": \"scatter\", \"data\": [0.9911416177596116, 0.9929083781751883, 0.9532773238271215, 0.9245299138822297, 0.9594845653518927, 0.8913195518613172, 0.9586747378360126, 0.9846484237291013, 0.9714146798905586, 0.9460351032171956, 0.8949213394363934, 0.9700461373631877, 0.9540896241311947, 0.9679670287944309, 0.9847198766267147, 0.9399838376226745, 0.9149993512244301, 0.9466034573037765, 0.9655786880132687, 0.9541697288220095, 0.9628055147267649, 0.9484355713981983, 0.9778766799326141, 0.9871784695495226, 0.9523847767609549, 0.9435802530884715, 0.9516406998038109, 0.9547240989709878, 0.9703610813168874, 0.9536489696474544, 0.8666222424419979, 0.9762935013924132, 0.9499959981450814, 0.952987993882512, 0.9861286162961495, 0.5, 0.9897965687878413, 0.9869507329446536, 0.988021640655161, 0.971903820250885, 0.8613601200484119, 0.9438467017219647, 0.9542928766642087, 0.977786656977317, 0.9771328449357467, 0.987654865683958, 0.9941837769764094, 0.9962714646464645]}, {\"categories\": [\"0\", \"1\", \"2\", \"3\", \"4\", \"5\", \"6\", \"7\", \"8\", \"9\", \"10\", \"11\", \"12\", \"13\", \"14\", \"15\", \"16\", \"17\", \"18\", \"19\", \"20\", \"21\", \"22\", \"23\", \"24\", \"25\", \"26\", \"27\", \"28\", \"29\", \"30\", \"31\", \"32\", \"33\", \"34\", \"35\", \"36\", \"37\", \"38\", \"39\", \"40\", \"41\", \"42\", \"43\", \"44\", \"45\", \"46\", \"47\"], \"mode\": \"lines\", \"name\": \"average_precision_score_macro_max\", \"stepped\": true, \"type\": \"scatter\", \"data\": [0.9911416177596116, 0.9929083781751883, 0.9929083781751883, 0.9929083781751883, 0.9929083781751883, 0.9929083781751883, 0.9929083781751883, 0.9929083781751883, 0.9929083781751883, 0.9929083781751883, 0.9929083781751883, 0.9929083781751883, 0.9929083781751883, 0.9929083781751883, 0.9929083781751883, 0.9929083781751883, 0.9929083781751883, 0.9929083781751883, 0.9929083781751883, 0.9929083781751883, 0.9929083781751883, 0.9929083781751883, 0.9929083781751883, 0.9929083781751883, 0.9929083781751883, 0.9929083781751883, 0.9929083781751883, 0.9929083781751883, 0.9929083781751883, 0.9929083781751883, 0.9929083781751883, 0.9929083781751883, 0.9929083781751883, 0.9929083781751883, 0.9929083781751883, 0.9929083781751883, 0.9929083781751883, 0.9929083781751883, 0.9929083781751883, 0.9929083781751883, 0.9929083781751883, 0.9929083781751883, 0.9929083781751883, 0.9929083781751883, 0.9929083781751883, 0.9929083781751883, 0.9941837769764094, 0.9962714646464645]}], \"log_loss\": [{\"categories\": [\"0\", \"1\", \"2\", \"3\", \"4\", \"5\", \"6\", \"7\", \"8\", \"9\", \"10\", \"11\", \"12\", \"13\", \"14\", \"15\", \"16\", \"17\", \"18\", \"19\", \"20\", \"21\", \"22\", \"23\", \"24\", \"25\", \"26\", \"27\", \"28\", \"29\", \"30\", \"31\", \"32\", \"33\", \"34\", \"35\", \"36\", \"37\", \"38\", \"39\", \"40\", \"41\", \"42\", \"43\", \"44\", \"45\", \"46\", \"47\"], \"mode\": \"markers\", \"name\": \"log_loss\", \"stepped\": false, \"type\": \"scatter\", \"data\": [0.09697701271279814, 0.1254761327246973, 0.235555192996686, 0.2759296990187196, 0.23207069003950442, 0.2730686375542231, 0.18944367561705783, 0.14770667384699138, 0.17069630858165902, 0.23064248015025118, 0.31590652981909106, 0.2128631320882049, 0.328795765880306, 0.26278519995598104, 0.180055208984585, 0.28461813369349565, 0.29654044805585195, 0.2496695855356157, 0.19921180053422632, 0.2900093626109266, 0.21841509373579737, 0.23474177500720464, 0.17254345334987295, 0.14291305500170082, 0.2666175010584234, 0.1983988201644556, 0.2748645219754626, 0.3693876492893168, 0.2062869651294481, 0.19976297710701876, 0.37943862837525294, 0.1635776035655999, 0.26962567087247896, 0.3823605385555826, 0.14007861585896494, 0.5640215097421517, 0.15323298488003495, 0.1293763255489422, 0.12782078064736513, 0.24237021280204898, 0.392698854155438, 0.2696226838356222, 0.3017863576384243, 0.21285320535588714, 0.1699650204654223, 0.1272472849403878, 0.11164410520611714, 0.1473087921653496]}, {\"categories\": [\"0\", \"1\", \"2\", \"3\", \"4\", \"5\", \"6\", \"7\", \"8\", \"9\", \"10\", \"11\", \"12\", \"13\", \"14\", \"15\", \"16\", \"17\", \"18\", \"19\", \"20\", \"21\", \"22\", \"23\", \"24\", \"25\", \"26\", \"27\", \"28\", \"29\", \"30\", \"31\", \"32\", \"33\", \"34\", \"35\", \"36\", \"37\", \"38\", \"39\", \"40\", \"41\", \"42\", \"43\", \"44\", \"45\", \"46\", \"47\"], \"mode\": \"lines\", \"name\": \"log_loss_min\", \"stepped\": true, \"type\": \"scatter\", \"data\": [0.09697701271279814, 0.09697701271279814, 0.09697701271279814, 0.09697701271279814, 0.09697701271279814, 0.09697701271279814, 0.09697701271279814, 0.09697701271279814, 0.09697701271279814, 0.09697701271279814, 0.09697701271279814, 0.09697701271279814, 0.09697701271279814, 0.09697701271279814, 0.09697701271279814, 0.09697701271279814, 0.09697701271279814, 0.09697701271279814, 0.09697701271279814, 0.09697701271279814, 0.09697701271279814, 0.09697701271279814, 0.09697701271279814, 0.09697701271279814, 0.09697701271279814, 0.09697701271279814, 0.09697701271279814, 0.09697701271279814, 0.09697701271279814, 0.09697701271279814, 0.09697701271279814, 0.09697701271279814, 0.09697701271279814, 0.09697701271279814, 0.09697701271279814, 0.09697701271279814, 0.09697701271279814, 0.09697701271279814, 0.09697701271279814, 0.09697701271279814, 0.09697701271279814, 0.09697701271279814, 0.09697701271279814, 0.09697701271279814, 0.09697701271279814, 0.09697701271279814, 0.09697701271279814, 0.09697701271279814]}], \"precision_score_macro\": [{\"categories\": [\"0\", \"1\", \"2\", \"3\", \"4\", \"5\", \"6\", \"7\", \"8\", \"9\", \"10\", \"11\", \"12\", \"13\", \"14\", \"15\", \"16\", \"17\", \"18\", \"19\", \"20\", \"21\", \"22\", \"23\", \"24\", \"25\", \"26\", \"27\", \"28\", \"29\", \"30\", \"31\", \"32\", \"33\", \"34\", \"35\", \"36\", \"37\", \"38\", \"39\", \"40\", \"41\", \"42\", \"43\", \"44\", \"45\", \"46\", \"47\"], \"mode\": \"markers\", \"name\": \"precision_score_macro\", \"stepped\": false, \"type\": \"scatter\", \"data\": [0.9647653116257121, 0.9719507575757576, 0.8971873617868201, 0.8530000000000001, 0.9351771390374333, 0.8456484487734489, 0.9239853896103897, 0.9674873737373737, 0.9635335497835499, 0.9322554112554112, 0.800623004446534, 0.9457521645021647, 0.8970010504201682, 0.9278358691961633, 0.9501710654936462, 0.9251680672268907, 0.861290937323546, 0.9124968169085816, 0.935154338415208, 0.927667996491526, 0.8930098653881615, 0.91051267281106, 0.9622285353535354, 0.9630681818181819, 0.9203391053391055, 0.891934523809524, 0.8369775058707205, 0.9503992127153891, 0.9581349681020732, 0.9065036307778243, 0.8772324081147611, 0.9689015151515152, 0.9385573814506039, 0.8039560439560439, 0.968832478005865, 0.3769230769230769, 0.9622285353535354, 0.9719507575757576, 0.968832478005865, 0.8993293945144041, 0.9151854681266446, 0.9157002385934611, 0.9185383244206774, 0.9551046650717703, 0.965909090909091, 0.9777840909090909, 0.9746658113391984, 0.9580158199643494]}, {\"categories\": [\"0\", \"1\", \"2\", \"3\", \"4\", \"5\", \"6\", \"7\", \"8\", \"9\", \"10\", \"11\", \"12\", \"13\", \"14\", \"15\", \"16\", \"17\", \"18\", \"19\", \"20\", \"21\", \"22\", \"23\", \"24\", \"25\", \"26\", \"27\", \"28\", \"29\", \"30\", \"31\", \"32\", \"33\", \"34\", \"35\", \"36\", \"37\", \"38\", \"39\", \"40\", \"41\", \"42\", \"43\", \"44\", \"45\", \"46\", \"47\"], \"mode\": \"lines\", \"name\": \"precision_score_macro_max\", \"stepped\": true, \"type\": \"scatter\", \"data\": [0.9647653116257121, 0.9719507575757576, 0.9719507575757576, 0.9719507575757576, 0.9719507575757576, 0.9719507575757576, 0.9719507575757576, 0.9719507575757576, 0.9719507575757576, 0.9719507575757576, 0.9719507575757576, 0.9719507575757576, 0.9719507575757576, 0.9719507575757576, 0.9719507575757576, 0.9719507575757576, 0.9719507575757576, 0.9719507575757576, 0.9719507575757576, 0.9719507575757576, 0.9719507575757576, 0.9719507575757576, 0.9719507575757576, 0.9719507575757576, 0.9719507575757576, 0.9719507575757576, 0.9719507575757576, 0.9719507575757576, 0.9719507575757576, 0.9719507575757576, 0.9719507575757576, 0.9719507575757576, 0.9719507575757576, 0.9719507575757576, 0.9719507575757576, 0.9719507575757576, 0.9719507575757576, 0.9719507575757576, 0.9719507575757576, 0.9719507575757576, 0.9719507575757576, 0.9719507575757576, 0.9719507575757576, 0.9719507575757576, 0.9719507575757576, 0.9777840909090909, 0.9777840909090909, 0.9777840909090909]}], \"recall_score_weighted\": [{\"categories\": [\"0\", \"1\", \"2\", \"3\", \"4\", \"5\", \"6\", \"7\", \"8\", \"9\", \"10\", \"11\", \"12\", \"13\", \"14\", \"15\", \"16\", \"17\", \"18\", \"19\", \"20\", \"21\", \"22\", \"23\", \"24\", \"25\", \"26\", \"27\", \"28\", \"29\", \"30\", \"31\", \"32\", \"33\", \"34\", \"35\", \"36\", \"37\", \"38\", \"39\", \"40\", \"41\", \"42\", \"43\", \"44\", \"45\", \"46\", \"47\"], \"mode\": \"markers\", \"name\": \"recall_score_weighted\", \"stepped\": false, \"type\": \"scatter\", \"data\": [0.964102564102564, 0.964102564102564, 0.9025641025641026, 0.8717948717948719, 0.923076923076923, 0.8564102564102564, 0.9333333333333333, 0.9589743589743589, 0.9435897435897436, 0.9333333333333333, 0.8410256410256409, 0.9384615384615385, 0.8615384615384615, 0.9128205128205128, 0.9435897435897436, 0.9025641025641026, 0.8666666666666666, 0.9025641025641026, 0.9282051282051282, 0.8974358974358975, 0.9128205128205129, 0.9230769230769231, 0.9538461538461538, 0.9487179487179487, 0.8974358974358975, 0.9230769230769231, 0.876923076923077, 0.9333333333333333, 0.9487179487179487, 0.9230769230769231, 0.8717948717948717, 0.9538461538461538, 0.9128205128205128, 0.8205128205128206, 0.9589743589743589, 0.7538461538461538, 0.9538461538461538, 0.964102564102564, 0.9589743589743589, 0.9076923076923077, 0.8871794871794872, 0.9025641025641026, 0.8974358974358975, 0.9435897435897436, 0.9538461538461538, 0.9692307692307691, 0.964102564102564, 0.9435897435897436]}, {\"categories\": [\"0\", \"1\", \"2\", \"3\", \"4\", \"5\", \"6\", \"7\", \"8\", \"9\", \"10\", \"11\", \"12\", \"13\", \"14\", \"15\", \"16\", \"17\", \"18\", \"19\", \"20\", \"21\", \"22\", \"23\", \"24\", \"25\", \"26\", \"27\", \"28\", \"29\", \"30\", \"31\", \"32\", \"33\", \"34\", \"35\", \"36\", \"37\", \"38\", \"39\", \"40\", \"41\", \"42\", \"43\", \"44\", \"45\", \"46\", \"47\"], \"mode\": \"lines\", \"name\": \"recall_score_weighted_max\", \"stepped\": true, \"type\": \"scatter\", \"data\": [0.964102564102564, 0.964102564102564, 0.964102564102564, 0.964102564102564, 0.964102564102564, 0.964102564102564, 0.964102564102564, 0.964102564102564, 0.964102564102564, 0.964102564102564, 0.964102564102564, 0.964102564102564, 0.964102564102564, 0.964102564102564, 0.964102564102564, 0.964102564102564, 0.964102564102564, 0.964102564102564, 0.964102564102564, 0.964102564102564, 0.964102564102564, 0.964102564102564, 0.964102564102564, 0.964102564102564, 0.964102564102564, 0.964102564102564, 0.964102564102564, 0.964102564102564, 0.964102564102564, 0.964102564102564, 0.964102564102564, 0.964102564102564, 0.964102564102564, 0.964102564102564, 0.964102564102564, 0.964102564102564, 0.964102564102564, 0.964102564102564, 0.964102564102564, 0.964102564102564, 0.964102564102564, 0.964102564102564, 0.964102564102564, 0.964102564102564, 0.964102564102564, 0.9692307692307691, 0.9692307692307691, 0.9692307692307691]}], \"balanced_accuracy\": [{\"categories\": [\"0\", \"1\", \"2\", \"3\", \"4\", \"5\", \"6\", \"7\", \"8\", \"9\", \"10\", \"11\", \"12\", \"13\", \"14\", \"15\", \"16\", \"17\", \"18\", \"19\", \"20\", \"21\", \"22\", \"23\", \"24\", \"25\", \"26\", \"27\", \"28\", \"29\", \"30\", \"31\", \"32\", \"33\", \"34\", \"35\", \"36\", \"37\", \"38\", \"39\", \"40\", \"41\", \"42\", \"43\", \"44\", \"45\", \"46\", \"47\"], \"mode\": \"markers\", \"name\": \"balanced_accuracy\", \"stepped\": false, \"type\": \"scatter\", \"data\": [0.9424406130268199, 0.9361666666666666, 0.8464707589561593, 0.7924130824372759, 0.8533591269841271, 0.7616412570404506, 0.8786929811783816, 0.9202662570404506, 0.8837777777777778, 0.8806751240355245, 0.7631215526069532, 0.8904408602150538, 0.7429126984126984, 0.8471448412698412, 0.9002183908045976, 0.8046072796934866, 0.7783714157706093, 0.8126886288998356, 0.8776130952380953, 0.8054126984126985, 0.8936302571640447, 0.8752505208609213, 0.9281666666666666, 0.9047777777777778, 0.8040043522785458, 0.8901831973798048, 0.8629358392040538, 0.8807063492063492, 0.9241666666666666, 0.8715679811783816, 0.7631511776753712, 0.9087777777777777, 0.8321269841269843, 0.6347619047619047, 0.9261666666666667, 0.5, 0.9281666666666666, 0.9361666666666666, 0.9261666666666667, 0.8689707589561593, 0.7797186379928316, 0.8177900665642601, 0.8351269841269842, 0.9098809523809523, 0.9161666666666667, 0.9401666666666666, 0.9301666666666666, 0.9021666666666667]}, {\"categories\": [\"0\", \"1\", \"2\", \"3\", \"4\", \"5\", \"6\", \"7\", \"8\", \"9\", \"10\", \"11\", \"12\", \"13\", \"14\", \"15\", \"16\", \"17\", \"18\", \"19\", \"20\", \"21\", \"22\", \"23\", \"24\", \"25\", \"26\", \"27\", \"28\", \"29\", \"30\", \"31\", \"32\", \"33\", \"34\", \"35\", \"36\", \"37\", \"38\", \"39\", \"40\", \"41\", \"42\", \"43\", \"44\", \"45\", \"46\", \"47\"], \"mode\": \"lines\", \"name\": \"balanced_accuracy_max\", \"stepped\": true, \"type\": \"scatter\", \"data\": [0.9424406130268199, 0.9424406130268199, 0.9424406130268199, 0.9424406130268199, 0.9424406130268199, 0.9424406130268199, 0.9424406130268199, 0.9424406130268199, 0.9424406130268199, 0.9424406130268199, 0.9424406130268199, 0.9424406130268199, 0.9424406130268199, 0.9424406130268199, 0.9424406130268199, 0.9424406130268199, 0.9424406130268199, 0.9424406130268199, 0.9424406130268199, 0.9424406130268199, 0.9424406130268199, 0.9424406130268199, 0.9424406130268199, 0.9424406130268199, 0.9424406130268199, 0.9424406130268199, 0.9424406130268199, 0.9424406130268199, 0.9424406130268199, 0.9424406130268199, 0.9424406130268199, 0.9424406130268199, 0.9424406130268199, 0.9424406130268199, 0.9424406130268199, 0.9424406130268199, 0.9424406130268199, 0.9424406130268199, 0.9424406130268199, 0.9424406130268199, 0.9424406130268199, 0.9424406130268199, 0.9424406130268199, 0.9424406130268199, 0.9424406130268199, 0.9424406130268199, 0.9424406130268199, 0.9424406130268199]}], \"f1_score_macro\": [{\"categories\": [\"0\", \"1\", \"2\", \"3\", \"4\", \"5\", \"6\", \"7\", \"8\", \"9\", \"10\", \"11\", \"12\", \"13\", \"14\", \"15\", \"16\", \"17\", \"18\", \"19\", \"20\", \"21\", \"22\", \"23\", \"24\", \"25\", \"26\", \"27\", \"28\", \"29\", \"30\", \"31\", \"32\", \"33\", \"34\", \"35\", \"36\", \"37\", \"38\", \"39\", \"40\", \"41\", \"42\", \"43\", \"44\", \"45\", \"46\", \"47\"], \"mode\": \"markers\", \"name\": \"f1_score_macro\", \"stepped\": false, \"type\": \"scatter\", \"data\": [0.9507859793154119, 0.9491927205018195, 0.8591348401009684, 0.8075785330261137, 0.8771291208791208, 0.7822638653616915, 0.8949241551459293, 0.9360701142109205, 0.9079395490626222, 0.9015301763954982, 0.7666382664176782, 0.9081912442396313, 0.7818245836711077, 0.8678916494133885, 0.9181051587301587, 0.8423511389030258, 0.8006509462759464, 0.8370826561737845, 0.8964551331285202, 0.8412233599733601, 0.8871727000506022, 0.8876856298968707, 0.9388304016612399, 0.9245785330261136, 0.8344848901098901, 0.8869268717291373, 0.8414666778261972, 0.9036759905203103, 0.9337634275725264, 0.8820838724811393, 0.7901539498237612, 0.9299227741708475, 0.8634355832339702, 0.6443019427320024, 0.9417063492063491, 0.4290879130280404, 0.9388304016612399, 0.9491927205018195, 0.9417063492063491, 0.8748356456515344, 0.811635447885448, 0.845343258891646, 0.8583168216382869, 0.9245326583417572, 0.9335857020403789, 0.9545369616465532, 0.947050590351083, 0.9194721160026582]}, {\"categories\": [\"0\", \"1\", \"2\", \"3\", \"4\", \"5\", \"6\", \"7\", \"8\", \"9\", \"10\", \"11\", \"12\", \"13\", \"14\", \"15\", \"16\", \"17\", \"18\", \"19\", \"20\", \"21\", \"22\", \"23\", \"24\", \"25\", \"26\", \"27\", \"28\", \"29\", \"30\", \"31\", \"32\", \"33\", \"34\", \"35\", \"36\", \"37\", \"38\", \"39\", \"40\", \"41\", \"42\", \"43\", \"44\", \"45\", \"46\", \"47\"], \"mode\": \"lines\", \"name\": \"f1_score_macro_max\", \"stepped\": true, \"type\": \"scatter\", \"data\": [0.9507859793154119, 0.9507859793154119, 0.9507859793154119, 0.9507859793154119, 0.9507859793154119, 0.9507859793154119, 0.9507859793154119, 0.9507859793154119, 0.9507859793154119, 0.9507859793154119, 0.9507859793154119, 0.9507859793154119, 0.9507859793154119, 0.9507859793154119, 0.9507859793154119, 0.9507859793154119, 0.9507859793154119, 0.9507859793154119, 0.9507859793154119, 0.9507859793154119, 0.9507859793154119, 0.9507859793154119, 0.9507859793154119, 0.9507859793154119, 0.9507859793154119, 0.9507859793154119, 0.9507859793154119, 0.9507859793154119, 0.9507859793154119, 0.9507859793154119, 0.9507859793154119, 0.9507859793154119, 0.9507859793154119, 0.9507859793154119, 0.9507859793154119, 0.9507859793154119, 0.9507859793154119, 0.9507859793154119, 0.9507859793154119, 0.9507859793154119, 0.9507859793154119, 0.9507859793154119, 0.9507859793154119, 0.9507859793154119, 0.9507859793154119, 0.9545369616465532, 0.9545369616465532, 0.9545369616465532]}], \"matthews_correlation\": [{\"categories\": [\"0\", \"1\", \"2\", \"3\", \"4\", \"5\", \"6\", \"7\", \"8\", \"9\", \"10\", \"11\", \"12\", \"13\", \"14\", \"15\", \"16\", \"17\", \"18\", \"19\", \"20\", \"21\", \"22\", \"23\", \"24\", \"25\", \"26\", \"27\", \"28\", \"29\", \"30\", \"31\", \"32\", \"33\", \"34\", \"35\", \"36\", \"37\", \"38\", \"39\", \"40\", \"41\", \"42\", \"43\", \"44\", \"45\", \"46\", \"47\"], \"mode\": \"markers\", \"name\": \"matthews_correlation\", \"stepped\": false, \"type\": \"scatter\", \"data\": [0.9059170029620965, 0.9058274526265475, 0.7384955891488201, 0.6370315166746907, 0.7795172573635091, 0.5968612641195626, 0.799680120417419, 0.8838420882979603, 0.8384191858473985, 0.8105683509431645, 0.5568781355610115, 0.8314133100837713, 0.6199918629258727, 0.7653484983795742, 0.8469514771534845, 0.7179840763495119, 0.62932120835302, 0.7098215720238781, 0.8079516875953827, 0.7188749787579527, 0.7840151256796224, 0.7837878789063786, 0.8880419435503791, 0.8633276040406394, 0.7086057278180296, 0.7803392720607576, 0.6984810662343579, 0.825788193652928, 0.8799382473672667, 0.7748589439577593, 0.6230428998416444, 0.8731985726505634, 0.7583967849192639, 0.4139751634747479, 0.8922986100614084, 0.0, 0.8880419435503791, 0.9058274526265475, 0.8922986100614084, 0.7637882840710308, 0.673432359105156, 0.7217058265028443, 0.744094740207059, 0.8622751697026875, 0.8785751947855112, 0.9156984212364716, 0.9021695786713325, 0.8553226997974035]}, {\"categories\": [\"0\", \"1\", \"2\", \"3\", \"4\", \"5\", \"6\", \"7\", \"8\", \"9\", \"10\", \"11\", \"12\", \"13\", \"14\", \"15\", \"16\", \"17\", \"18\", \"19\", \"20\", \"21\", \"22\", \"23\", \"24\", \"25\", \"26\", \"27\", \"28\", \"29\", \"30\", \"31\", \"32\", \"33\", \"34\", \"35\", \"36\", \"37\", \"38\", \"39\", \"40\", \"41\", \"42\", \"43\", \"44\", \"45\", \"46\", \"47\"], \"mode\": \"lines\", \"name\": \"matthews_correlation_max\", \"stepped\": true, \"type\": \"scatter\", \"data\": [0.9059170029620965, 0.9059170029620965, 0.9059170029620965, 0.9059170029620965, 0.9059170029620965, 0.9059170029620965, 0.9059170029620965, 0.9059170029620965, 0.9059170029620965, 0.9059170029620965, 0.9059170029620965, 0.9059170029620965, 0.9059170029620965, 0.9059170029620965, 0.9059170029620965, 0.9059170029620965, 0.9059170029620965, 0.9059170029620965, 0.9059170029620965, 0.9059170029620965, 0.9059170029620965, 0.9059170029620965, 0.9059170029620965, 0.9059170029620965, 0.9059170029620965, 0.9059170029620965, 0.9059170029620965, 0.9059170029620965, 0.9059170029620965, 0.9059170029620965, 0.9059170029620965, 0.9059170029620965, 0.9059170029620965, 0.9059170029620965, 0.9059170029620965, 0.9059170029620965, 0.9059170029620965, 0.9059170029620965, 0.9059170029620965, 0.9059170029620965, 0.9059170029620965, 0.9059170029620965, 0.9059170029620965, 0.9059170029620965, 0.9059170029620965, 0.9156984212364716, 0.9156984212364716, 0.9156984212364716]}], \"average_precision_score_weighted\": [{\"categories\": [\"0\", \"1\", \"2\", \"3\", \"4\", \"5\", \"6\", \"7\", \"8\", \"9\", \"10\", \"11\", \"12\", \"13\", \"14\", \"15\", \"16\", \"17\", \"18\", \"19\", \"20\", \"21\", \"22\", \"23\", \"24\", \"25\", \"26\", \"27\", \"28\", \"29\", \"30\", \"31\", \"32\", \"33\", \"34\", \"35\", \"36\", \"37\", \"38\", \"39\", \"40\", \"41\", \"42\", \"43\", \"44\", \"45\", \"46\", \"47\"], \"mode\": \"markers\", \"name\": \"average_precision_score_weighted\", \"stepped\": false, \"type\": \"scatter\", \"data\": [0.9950476709071372, 0.9958508468385183, 0.9693064521503679, 0.9557468666676783, 0.9741731877990351, 0.9319310989503439, 0.9732545863272797, 0.9893344923166291, 0.9815555433300706, 0.9638922344695267, 0.9334207885110086, 0.981978042684155, 0.9682665703785741, 0.9791060745879318, 0.9905747586309535, 0.9647227664880251, 0.944310755012126, 0.9669382696729478, 0.978762838231898, 0.9696363180721723, 0.9752576076366537, 0.9664317509994202, 0.9860306698148958, 0.9924879367345, 0.9701563819357183, 0.9661092403924227, 0.9690059928339935, 0.9693270735150591, 0.9782348077767347, 0.9713240613574257, 0.914079683778693, 0.9839889150287942, 0.9675406514014325, 0.9693987421441351, 0.9912301721665614, 0.6365548980933596, 0.9940893037680422, 0.9917685035342474, 0.9922348336446266, 0.9805401360315986, 0.8949016565627466, 0.9632213333552622, 0.9688287434755581, 0.9852848344799897, 0.9849602177696427, 0.9927548707713634, 0.9968534245077626, 0.9980011759447244]}, {\"categories\": [\"0\", \"1\", \"2\", \"3\", \"4\", \"5\", \"6\", \"7\", \"8\", \"9\", \"10\", \"11\", \"12\", \"13\", \"14\", \"15\", \"16\", \"17\", \"18\", \"19\", \"20\", \"21\", \"22\", \"23\", \"24\", \"25\", \"26\", \"27\", \"28\", \"29\", \"30\", \"31\", \"32\", \"33\", \"34\", \"35\", \"36\", \"37\", \"38\", \"39\", \"40\", \"41\", \"42\", \"43\", \"44\", \"45\", \"46\", \"47\"], \"mode\": \"lines\", \"name\": \"average_precision_score_weighted_max\", \"stepped\": true, \"type\": \"scatter\", \"data\": [0.9950476709071372, 0.9958508468385183, 0.9958508468385183, 0.9958508468385183, 0.9958508468385183, 0.9958508468385183, 0.9958508468385183, 0.9958508468385183, 0.9958508468385183, 0.9958508468385183, 0.9958508468385183, 0.9958508468385183, 0.9958508468385183, 0.9958508468385183, 0.9958508468385183, 0.9958508468385183, 0.9958508468385183, 0.9958508468385183, 0.9958508468385183, 0.9958508468385183, 0.9958508468385183, 0.9958508468385183, 0.9958508468385183, 0.9958508468385183, 0.9958508468385183, 0.9958508468385183, 0.9958508468385183, 0.9958508468385183, 0.9958508468385183, 0.9958508468385183, 0.9958508468385183, 0.9958508468385183, 0.9958508468385183, 0.9958508468385183, 0.9958508468385183, 0.9958508468385183, 0.9958508468385183, 0.9958508468385183, 0.9958508468385183, 0.9958508468385183, 0.9958508468385183, 0.9958508468385183, 0.9958508468385183, 0.9958508468385183, 0.9958508468385183, 0.9958508468385183, 0.9968534245077626, 0.9980011759447244]}], \"precision_score_micro\": [{\"categories\": [\"0\", \"1\", \"2\", \"3\", \"4\", \"5\", \"6\", \"7\", \"8\", \"9\", \"10\", \"11\", \"12\", \"13\", \"14\", \"15\", \"16\", \"17\", \"18\", \"19\", \"20\", \"21\", \"22\", \"23\", \"24\", \"25\", \"26\", \"27\", \"28\", \"29\", \"30\", \"31\", \"32\", \"33\", \"34\", \"35\", \"36\", \"37\", \"38\", \"39\", \"40\", \"41\", \"42\", \"43\", \"44\", \"45\", \"46\", \"47\"], \"mode\": \"markers\", \"name\": \"precision_score_micro\", \"stepped\": false, \"type\": \"scatter\", \"data\": [0.964102564102564, 0.964102564102564, 0.9025641025641026, 0.8717948717948719, 0.923076923076923, 0.8564102564102564, 0.9333333333333333, 0.9589743589743589, 0.9435897435897436, 0.9333333333333333, 0.8410256410256409, 0.9384615384615385, 0.8615384615384615, 0.9128205128205128, 0.9435897435897436, 0.9025641025641026, 0.8666666666666666, 0.9025641025641026, 0.9282051282051282, 0.8974358974358975, 0.9128205128205129, 0.9230769230769231, 0.9538461538461538, 0.9487179487179487, 0.8974358974358975, 0.9230769230769231, 0.876923076923077, 0.9333333333333333, 0.9487179487179487, 0.9230769230769231, 0.8717948717948717, 0.9538461538461538, 0.9128205128205128, 0.8205128205128206, 0.9589743589743589, 0.7538461538461538, 0.9538461538461538, 0.964102564102564, 0.9589743589743589, 0.9076923076923077, 0.8871794871794872, 0.9025641025641026, 0.8974358974358975, 0.9435897435897436, 0.9538461538461538, 0.9692307692307691, 0.964102564102564, 0.9435897435897436]}, {\"categories\": [\"0\", \"1\", \"2\", \"3\", \"4\", \"5\", \"6\", \"7\", \"8\", \"9\", \"10\", \"11\", \"12\", \"13\", \"14\", \"15\", \"16\", \"17\", \"18\", \"19\", \"20\", \"21\", \"22\", \"23\", \"24\", \"25\", \"26\", \"27\", \"28\", \"29\", \"30\", \"31\", \"32\", \"33\", \"34\", \"35\", \"36\", \"37\", \"38\", \"39\", \"40\", \"41\", \"42\", \"43\", \"44\", \"45\", \"46\", \"47\"], \"mode\": \"lines\", \"name\": \"precision_score_micro_max\", \"stepped\": true, \"type\": \"scatter\", \"data\": [0.964102564102564, 0.964102564102564, 0.964102564102564, 0.964102564102564, 0.964102564102564, 0.964102564102564, 0.964102564102564, 0.964102564102564, 0.964102564102564, 0.964102564102564, 0.964102564102564, 0.964102564102564, 0.964102564102564, 0.964102564102564, 0.964102564102564, 0.964102564102564, 0.964102564102564, 0.964102564102564, 0.964102564102564, 0.964102564102564, 0.964102564102564, 0.964102564102564, 0.964102564102564, 0.964102564102564, 0.964102564102564, 0.964102564102564, 0.964102564102564, 0.964102564102564, 0.964102564102564, 0.964102564102564, 0.964102564102564, 0.964102564102564, 0.964102564102564, 0.964102564102564, 0.964102564102564, 0.964102564102564, 0.964102564102564, 0.964102564102564, 0.964102564102564, 0.964102564102564, 0.964102564102564, 0.964102564102564, 0.964102564102564, 0.964102564102564, 0.964102564102564, 0.9692307692307691, 0.9692307692307691, 0.9692307692307691]}], \"f1_score_weighted\": [{\"categories\": [\"0\", \"1\", \"2\", \"3\", \"4\", \"5\", \"6\", \"7\", \"8\", \"9\", \"10\", \"11\", \"12\", \"13\", \"14\", \"15\", \"16\", \"17\", \"18\", \"19\", \"20\", \"21\", \"22\", \"23\", \"24\", \"25\", \"26\", \"27\", \"28\", \"29\", \"30\", \"31\", \"32\", \"33\", \"34\", \"35\", \"36\", \"37\", \"38\", \"39\", \"40\", \"41\", \"42\", \"43\", \"44\", \"45\", \"46\", \"47\"], \"mode\": \"markers\", \"name\": \"f1_score_weighted\", \"stepped\": false, \"type\": \"scatter\", \"data\": [0.9635496298140946, 0.9628368745273296, 0.8987700789870511, 0.8648262534956084, 0.9170561347484425, 0.8444606058193015, 0.9296134152585764, 0.9565473647959273, 0.93845063115284, 0.9306772959314887, 0.8346678357952866, 0.9351244633502699, 0.8449864748672079, 0.9070929774734122, 0.9411757224257224, 0.8931092383937088, 0.8584567248990327, 0.8928731838593867, 0.9252567384825449, 0.8881320602474447, 0.9131676224332368, 0.9208485382875224, 0.9528424486633383, 0.9458958111780692, 0.8866430684699915, 0.9209131940804541, 0.8785700920445599, 0.9305159836786766, 0.9478420545325095, 0.9197838140989262, 0.8590273236681073, 0.9509318998841086, 0.905930153386729, 0.7743468235456019, 0.9574013024013025, 0.6495164816362269, 0.9528424486633383, 0.9628368745273296, 0.9574013024013025, 0.9053267595923739, 0.8732644919183381, 0.894448686136031, 0.8920784280985036, 0.9425560584772826, 0.9516928018229851, 0.967872963233369, 0.9624373911073418, 0.9406383621208605]}, {\"categories\": [\"0\", \"1\", \"2\", \"3\", \"4\", \"5\", \"6\", \"7\", \"8\", \"9\", \"10\", \"11\", \"12\", \"13\", \"14\", \"15\", \"16\", \"17\", \"18\", \"19\", \"20\", \"21\", \"22\", \"23\", \"24\", \"25\", \"26\", \"27\", \"28\", \"29\", \"30\", \"31\", \"32\", \"33\", \"34\", \"35\", \"36\", \"37\", \"38\", \"39\", \"40\", \"41\", \"42\", \"43\", \"44\", \"45\", \"46\", \"47\"], \"mode\": \"lines\", \"name\": \"f1_score_weighted_max\", \"stepped\": true, \"type\": \"scatter\", \"data\": [0.9635496298140946, 0.9635496298140946, 0.9635496298140946, 0.9635496298140946, 0.9635496298140946, 0.9635496298140946, 0.9635496298140946, 0.9635496298140946, 0.9635496298140946, 0.9635496298140946, 0.9635496298140946, 0.9635496298140946, 0.9635496298140946, 0.9635496298140946, 0.9635496298140946, 0.9635496298140946, 0.9635496298140946, 0.9635496298140946, 0.9635496298140946, 0.9635496298140946, 0.9635496298140946, 0.9635496298140946, 0.9635496298140946, 0.9635496298140946, 0.9635496298140946, 0.9635496298140946, 0.9635496298140946, 0.9635496298140946, 0.9635496298140946, 0.9635496298140946, 0.9635496298140946, 0.9635496298140946, 0.9635496298140946, 0.9635496298140946, 0.9635496298140946, 0.9635496298140946, 0.9635496298140946, 0.9635496298140946, 0.9635496298140946, 0.9635496298140946, 0.9635496298140946, 0.9635496298140946, 0.9635496298140946, 0.9635496298140946, 0.9635496298140946, 0.967872963233369, 0.967872963233369, 0.967872963233369]}], \"recall_score_micro\": [{\"categories\": [\"0\", \"1\", \"2\", \"3\", \"4\", \"5\", \"6\", \"7\", \"8\", \"9\", \"10\", \"11\", \"12\", \"13\", \"14\", \"15\", \"16\", \"17\", \"18\", \"19\", \"20\", \"21\", \"22\", \"23\", \"24\", \"25\", \"26\", \"27\", \"28\", \"29\", \"30\", \"31\", \"32\", \"33\", \"34\", \"35\", \"36\", \"37\", \"38\", \"39\", \"40\", \"41\", \"42\", \"43\", \"44\", \"45\", \"46\", \"47\"], \"mode\": \"markers\", \"name\": \"recall_score_micro\", \"stepped\": false, \"type\": \"scatter\", \"data\": [0.964102564102564, 0.964102564102564, 0.9025641025641026, 0.8717948717948719, 0.923076923076923, 0.8564102564102564, 0.9333333333333333, 0.9589743589743589, 0.9435897435897436, 0.9333333333333333, 0.8410256410256409, 0.9384615384615385, 0.8615384615384615, 0.9128205128205128, 0.9435897435897436, 0.9025641025641026, 0.8666666666666666, 0.9025641025641026, 0.9282051282051282, 0.8974358974358975, 0.9128205128205129, 0.9230769230769231, 0.9538461538461538, 0.9487179487179487, 0.8974358974358975, 0.9230769230769231, 0.876923076923077, 0.9333333333333333, 0.9487179487179487, 0.9230769230769231, 0.8717948717948717, 0.9538461538461538, 0.9128205128205128, 0.8205128205128206, 0.9589743589743589, 0.7538461538461538, 0.9538461538461538, 0.964102564102564, 0.9589743589743589, 0.9076923076923077, 0.8871794871794872, 0.9025641025641026, 0.8974358974358975, 0.9435897435897436, 0.9538461538461538, 0.9692307692307691, 0.964102564102564, 0.9435897435897436]}, {\"categories\": [\"0\", \"1\", \"2\", \"3\", \"4\", \"5\", \"6\", \"7\", \"8\", \"9\", \"10\", \"11\", \"12\", \"13\", \"14\", \"15\", \"16\", \"17\", \"18\", \"19\", \"20\", \"21\", \"22\", \"23\", \"24\", \"25\", \"26\", \"27\", \"28\", \"29\", \"30\", \"31\", \"32\", \"33\", \"34\", \"35\", \"36\", \"37\", \"38\", \"39\", \"40\", \"41\", \"42\", \"43\", \"44\", \"45\", \"46\", \"47\"], \"mode\": \"lines\", \"name\": \"recall_score_micro_max\", \"stepped\": true, \"type\": \"scatter\", \"data\": [0.964102564102564, 0.964102564102564, 0.964102564102564, 0.964102564102564, 0.964102564102564, 0.964102564102564, 0.964102564102564, 0.964102564102564, 0.964102564102564, 0.964102564102564, 0.964102564102564, 0.964102564102564, 0.964102564102564, 0.964102564102564, 0.964102564102564, 0.964102564102564, 0.964102564102564, 0.964102564102564, 0.964102564102564, 0.964102564102564, 0.964102564102564, 0.964102564102564, 0.964102564102564, 0.964102564102564, 0.964102564102564, 0.964102564102564, 0.964102564102564, 0.964102564102564, 0.964102564102564, 0.964102564102564, 0.964102564102564, 0.964102564102564, 0.964102564102564, 0.964102564102564, 0.964102564102564, 0.964102564102564, 0.964102564102564, 0.964102564102564, 0.964102564102564, 0.964102564102564, 0.964102564102564, 0.964102564102564, 0.964102564102564, 0.964102564102564, 0.964102564102564, 0.9692307692307691, 0.9692307692307691, 0.9692307692307691]}], \"AUC_macro\": [{\"categories\": [\"0\", \"1\", \"2\", \"3\", \"4\", \"5\", \"6\", \"7\", \"8\", \"9\", \"10\", \"11\", \"12\", \"13\", \"14\", \"15\", \"16\", \"17\", \"18\", \"19\", \"20\", \"21\", \"22\", \"23\", \"24\", \"25\", \"26\", \"27\", \"28\", \"29\", \"30\", \"31\", \"32\", \"33\", \"34\", \"35\", \"36\", \"37\", \"38\", \"39\", \"40\", \"41\", \"42\", \"43\", \"44\", \"45\", \"46\", \"47\"], \"mode\": \"markers\", \"name\": \"AUC_macro\", \"stepped\": false, \"type\": \"scatter\", \"data\": [0.9929244427965228, 0.9948905956647891, 0.95743276038632, 0.9465591118291341, 0.964760389262614, 0.9311543594882027, 0.9617171489779943, 0.9846232439335887, 0.9751130650752453, 0.9490649928491977, 0.9161417418530877, 0.977620548404753, 0.9635813322857262, 0.9754507448016903, 0.9892694322321687, 0.9552350892526087, 0.9309451300975216, 0.9530447469557591, 0.9748362422091565, 0.9642316698153739, 0.9717528044093673, 0.9506362227872238, 0.9841567879654644, 0.9903497595800154, 0.9632349700725674, 0.953810946613227, 0.9587649857866765, 0.9627954487937803, 0.9716338318296049, 0.9604096218020022, 0.8729910732677697, 0.977298827032976, 0.9544001727374919, 0.9636583711472477, 0.9885201075857359, 0.5, 0.9926026625704045, 0.9903155181241944, 0.9912255710342472, 0.9767632466408884, 0.85419964054711, 0.9481468018550888, 0.9646902378303936, 0.9812053251408092, 0.9845479280329114, 0.9902490186038573, 0.9961648745519713, 0.9977120669056152]}, {\"categories\": [\"0\", \"1\", \"2\", \"3\", \"4\", \"5\", \"6\", \"7\", \"8\", \"9\", \"10\", \"11\", \"12\", \"13\", \"14\", \"15\", \"16\", \"17\", \"18\", \"19\", \"20\", \"21\", \"22\", \"23\", \"24\", \"25\", \"26\", \"27\", \"28\", \"29\", \"30\", \"31\", \"32\", \"33\", \"34\", \"35\", \"36\", \"37\", \"38\", \"39\", \"40\", \"41\", \"42\", \"43\", \"44\", \"45\", \"46\", \"47\"], \"mode\": \"lines\", \"name\": \"AUC_macro_max\", \"stepped\": true, \"type\": \"scatter\", \"data\": [0.9929244427965228, 0.9948905956647891, 0.9948905956647891, 0.9948905956647891, 0.9948905956647891, 0.9948905956647891, 0.9948905956647891, 0.9948905956647891, 0.9948905956647891, 0.9948905956647891, 0.9948905956647891, 0.9948905956647891, 0.9948905956647891, 0.9948905956647891, 0.9948905956647891, 0.9948905956647891, 0.9948905956647891, 0.9948905956647891, 0.9948905956647891, 0.9948905956647891, 0.9948905956647891, 0.9948905956647891, 0.9948905956647891, 0.9948905956647891, 0.9948905956647891, 0.9948905956647891, 0.9948905956647891, 0.9948905956647891, 0.9948905956647891, 0.9948905956647891, 0.9948905956647891, 0.9948905956647891, 0.9948905956647891, 0.9948905956647891, 0.9948905956647891, 0.9948905956647891, 0.9948905956647891, 0.9948905956647891, 0.9948905956647891, 0.9948905956647891, 0.9948905956647891, 0.9948905956647891, 0.9948905956647891, 0.9948905956647891, 0.9948905956647891, 0.9948905956647891, 0.9961648745519713, 0.9977120669056152]}], \"f1_score_micro\": [{\"categories\": [\"0\", \"1\", \"2\", \"3\", \"4\", \"5\", \"6\", \"7\", \"8\", \"9\", \"10\", \"11\", \"12\", \"13\", \"14\", \"15\", \"16\", \"17\", \"18\", \"19\", \"20\", \"21\", \"22\", \"23\", \"24\", \"25\", \"26\", \"27\", \"28\", \"29\", \"30\", \"31\", \"32\", \"33\", \"34\", \"35\", \"36\", \"37\", \"38\", \"39\", \"40\", \"41\", \"42\", \"43\", \"44\", \"45\", \"46\", \"47\"], \"mode\": \"markers\", \"name\": \"f1_score_micro\", \"stepped\": false, \"type\": \"scatter\", \"data\": [0.964102564102564, 0.964102564102564, 0.9025641025641026, 0.8717948717948719, 0.923076923076923, 0.8564102564102564, 0.9333333333333333, 0.9589743589743589, 0.9435897435897436, 0.9333333333333333, 0.8410256410256409, 0.9384615384615385, 0.8615384615384615, 0.9128205128205128, 0.9435897435897436, 0.9025641025641026, 0.8666666666666666, 0.9025641025641026, 0.9282051282051282, 0.8974358974358975, 0.9128205128205129, 0.9230769230769231, 0.9538461538461538, 0.9487179487179487, 0.8974358974358975, 0.9230769230769231, 0.876923076923077, 0.9333333333333333, 0.9487179487179487, 0.9230769230769231, 0.8717948717948717, 0.9538461538461538, 0.9128205128205128, 0.8205128205128206, 0.9589743589743589, 0.7538461538461538, 0.9538461538461538, 0.964102564102564, 0.9589743589743589, 0.9076923076923077, 0.8871794871794872, 0.9025641025641026, 0.8974358974358975, 0.9435897435897436, 0.9538461538461538, 0.9692307692307691, 0.964102564102564, 0.9435897435897436]}, {\"categories\": [\"0\", \"1\", \"2\", \"3\", \"4\", \"5\", \"6\", \"7\", \"8\", \"9\", \"10\", \"11\", \"12\", \"13\", \"14\", \"15\", \"16\", \"17\", \"18\", \"19\", \"20\", \"21\", \"22\", \"23\", \"24\", \"25\", \"26\", \"27\", \"28\", \"29\", \"30\", \"31\", \"32\", \"33\", \"34\", \"35\", \"36\", \"37\", \"38\", \"39\", \"40\", \"41\", \"42\", \"43\", \"44\", \"45\", \"46\", \"47\"], \"mode\": \"lines\", \"name\": \"f1_score_micro_max\", \"stepped\": true, \"type\": \"scatter\", \"data\": [0.964102564102564, 0.964102564102564, 0.964102564102564, 0.964102564102564, 0.964102564102564, 0.964102564102564, 0.964102564102564, 0.964102564102564, 0.964102564102564, 0.964102564102564, 0.964102564102564, 0.964102564102564, 0.964102564102564, 0.964102564102564, 0.964102564102564, 0.964102564102564, 0.964102564102564, 0.964102564102564, 0.964102564102564, 0.964102564102564, 0.964102564102564, 0.964102564102564, 0.964102564102564, 0.964102564102564, 0.964102564102564, 0.964102564102564, 0.964102564102564, 0.964102564102564, 0.964102564102564, 0.964102564102564, 0.964102564102564, 0.964102564102564, 0.964102564102564, 0.964102564102564, 0.964102564102564, 0.964102564102564, 0.964102564102564, 0.964102564102564, 0.964102564102564, 0.964102564102564, 0.964102564102564, 0.964102564102564, 0.964102564102564, 0.964102564102564, 0.964102564102564, 0.9692307692307691, 0.9692307692307691, 0.9692307692307691]}], \"recall_score_macro\": [{\"categories\": [\"0\", \"1\", \"2\", \"3\", \"4\", \"5\", \"6\", \"7\", \"8\", \"9\", \"10\", \"11\", \"12\", \"13\", \"14\", \"15\", \"16\", \"17\", \"18\", \"19\", \"20\", \"21\", \"22\", \"23\", \"24\", \"25\", \"26\", \"27\", \"28\", \"29\", \"30\", \"31\", \"32\", \"33\", \"34\", \"35\", \"36\", \"37\", \"38\", \"39\", \"40\", \"41\", \"42\", \"43\", \"44\", \"45\", \"46\", \"47\"], \"mode\": \"markers\", \"name\": \"recall_score_macro\", \"stepped\": false, \"type\": \"scatter\", \"data\": [0.9424406130268199, 0.9361666666666666, 0.8464707589561593, 0.7924130824372759, 0.8533591269841271, 0.7616412570404506, 0.8786929811783816, 0.9202662570404506, 0.8837777777777778, 0.8806751240355245, 0.7631215526069532, 0.8904408602150538, 0.7429126984126984, 0.8471448412698412, 0.9002183908045976, 0.8046072796934866, 0.7783714157706093, 0.8126886288998356, 0.8776130952380953, 0.8054126984126985, 0.8936302571640447, 0.8752505208609213, 0.9281666666666666, 0.9047777777777778, 0.8040043522785458, 0.8901831973798048, 0.8629358392040538, 0.8807063492063492, 0.9241666666666666, 0.8715679811783816, 0.7631511776753712, 0.9087777777777777, 0.8321269841269843, 0.6347619047619047, 0.9261666666666667, 0.5, 0.9281666666666666, 0.9361666666666666, 0.9261666666666667, 0.8689707589561593, 0.7797186379928316, 0.8177900665642601, 0.8351269841269842, 0.9098809523809523, 0.9161666666666667, 0.9401666666666666, 0.9301666666666666, 0.9021666666666667]}, {\"categories\": [\"0\", \"1\", \"2\", \"3\", \"4\", \"5\", \"6\", \"7\", \"8\", \"9\", \"10\", \"11\", \"12\", \"13\", \"14\", \"15\", \"16\", \"17\", \"18\", \"19\", \"20\", \"21\", \"22\", \"23\", \"24\", \"25\", \"26\", \"27\", \"28\", \"29\", \"30\", \"31\", \"32\", \"33\", \"34\", \"35\", \"36\", \"37\", \"38\", \"39\", \"40\", \"41\", \"42\", \"43\", \"44\", \"45\", \"46\", \"47\"], \"mode\": \"lines\", \"name\": \"recall_score_macro_max\", \"stepped\": true, \"type\": \"scatter\", \"data\": [0.9424406130268199, 0.9424406130268199, 0.9424406130268199, 0.9424406130268199, 0.9424406130268199, 0.9424406130268199, 0.9424406130268199, 0.9424406130268199, 0.9424406130268199, 0.9424406130268199, 0.9424406130268199, 0.9424406130268199, 0.9424406130268199, 0.9424406130268199, 0.9424406130268199, 0.9424406130268199, 0.9424406130268199, 0.9424406130268199, 0.9424406130268199, 0.9424406130268199, 0.9424406130268199, 0.9424406130268199, 0.9424406130268199, 0.9424406130268199, 0.9424406130268199, 0.9424406130268199, 0.9424406130268199, 0.9424406130268199, 0.9424406130268199, 0.9424406130268199, 0.9424406130268199, 0.9424406130268199, 0.9424406130268199, 0.9424406130268199, 0.9424406130268199, 0.9424406130268199, 0.9424406130268199, 0.9424406130268199, 0.9424406130268199, 0.9424406130268199, 0.9424406130268199, 0.9424406130268199, 0.9424406130268199, 0.9424406130268199, 0.9424406130268199, 0.9424406130268199, 0.9424406130268199, 0.9424406130268199]}]}, \"metricName\": null, \"primaryMetricName\": \"accuracy\", \"showLegend\": false}, \"run_metrics\": [{\"name\": \"experiment_status\", \"run_id\": \"AutoML_52fec94b-7a74-459f-a9f9-315d832f9817\", \"categories\": [0, 1, 2, 3, 4, 5, 6, 7, 8, 9, 10, 11, 12, 13], \"series\": [{\"data\": [\"DatasetEvaluation\", \"FeaturesGeneration\", \"DatasetFeaturization\", \"DatasetFeaturizationCompleted\", \"DatasetCrossValidationSplit\", \"ModelSelection\", \"BestRunExplainModel\", \"ModelExplanationDataSetSetup\", \"PickSurrogateModel\", \"EngineeredFeatureExplanations\", \"EngineeredFeatureExplanations\", \"RawFeaturesExplanations\", \"RawFeaturesExplanations\", \"BestRunExplainModel\"]}]}, {\"name\": \"experiment_status_description\", \"run_id\": \"AutoML_52fec94b-7a74-459f-a9f9-315d832f9817\", \"categories\": [0, 1, 2, 3, 4, 5, 6, 7, 8, 9, 10, 11, 12, 13], \"series\": [{\"data\": [\"Gathering dataset statistics.\", \"Generating features for the dataset.\", \"Beginning to fit featurizers and featurize the dataset.\", \"Completed fit featurizers and featurizing the dataset.\", \"Generating individually featurized CV splits.\", \"Beginning model selection.\", \"Best run model explanations started\", \"Model explanations data setup completed\", \"Choosing LightGBM as the surrogate model for explanations\", \"Computation of engineered features started\", \"Computation of engineered features completed\", \"Computation of raw features started\", \"Computation of raw features completed\", \"Best run model explanations completed\"]}]}, {\"name\": \"AUC_macro\", \"run_id\": \"AutoML_52fec94b-7a74-459f-a9f9-315d832f9817\", \"categories\": [0], \"series\": [{\"data\": [0.9929244427965228]}]}, {\"name\": \"precision_score_macro\", \"run_id\": \"AutoML_52fec94b-7a74-459f-a9f9-315d832f9817\", \"categories\": [0], \"series\": [{\"data\": [0.9647653116257121]}]}, {\"name\": \"f1_score_weighted\", \"run_id\": \"AutoML_52fec94b-7a74-459f-a9f9-315d832f9817\", \"categories\": [0], \"series\": [{\"data\": [0.9635496298140946]}]}, {\"name\": \"recall_score_macro\", \"run_id\": \"AutoML_52fec94b-7a74-459f-a9f9-315d832f9817\", \"categories\": [0], \"series\": [{\"data\": [0.9424406130268199]}]}, {\"name\": \"recall_score_micro\", \"run_id\": \"AutoML_52fec94b-7a74-459f-a9f9-315d832f9817\", \"categories\": [0], \"series\": [{\"data\": [0.964102564102564]}]}, {\"name\": \"accuracy\", \"run_id\": \"AutoML_52fec94b-7a74-459f-a9f9-315d832f9817\", \"categories\": [0], \"series\": [{\"data\": [0.964102564102564]}]}, {\"name\": \"average_precision_score_macro\", \"run_id\": \"AutoML_52fec94b-7a74-459f-a9f9-315d832f9817\", \"categories\": [0], \"series\": [{\"data\": [0.9911416177596116]}]}, {\"name\": \"precision_score_micro\", \"run_id\": \"AutoML_52fec94b-7a74-459f-a9f9-315d832f9817\", \"categories\": [0], \"series\": [{\"data\": [0.964102564102564]}]}, {\"name\": \"AUC_weighted\", \"run_id\": \"AutoML_52fec94b-7a74-459f-a9f9-315d832f9817\", \"categories\": [0], \"series\": [{\"data\": [0.9929244427965228]}]}, {\"name\": \"balanced_accuracy\", \"run_id\": \"AutoML_52fec94b-7a74-459f-a9f9-315d832f9817\", \"categories\": [0], \"series\": [{\"data\": [0.9424406130268199]}]}, {\"name\": \"recall_score_weighted\", \"run_id\": \"AutoML_52fec94b-7a74-459f-a9f9-315d832f9817\", \"categories\": [0], \"series\": [{\"data\": [0.964102564102564]}]}, {\"name\": \"norm_macro_recall\", \"run_id\": \"AutoML_52fec94b-7a74-459f-a9f9-315d832f9817\", \"categories\": [0], \"series\": [{\"data\": [0.8848812260536398]}]}, {\"name\": \"matthews_correlation\", \"run_id\": \"AutoML_52fec94b-7a74-459f-a9f9-315d832f9817\", \"categories\": [0], \"series\": [{\"data\": [0.9059170029620965]}]}, {\"name\": \"weighted_accuracy\", \"run_id\": \"AutoML_52fec94b-7a74-459f-a9f9-315d832f9817\", \"categories\": [0], \"series\": [{\"data\": [0.9745738642316095]}]}, {\"name\": \"f1_score_micro\", \"run_id\": \"AutoML_52fec94b-7a74-459f-a9f9-315d832f9817\", \"categories\": [0], \"series\": [{\"data\": [0.964102564102564]}]}, {\"name\": \"average_precision_score_micro\", \"run_id\": \"AutoML_52fec94b-7a74-459f-a9f9-315d832f9817\", \"categories\": [0], \"series\": [{\"data\": [0.993843075058092]}]}, {\"name\": \"f1_score_macro\", \"run_id\": \"AutoML_52fec94b-7a74-459f-a9f9-315d832f9817\", \"categories\": [0], \"series\": [{\"data\": [0.9507859793154119]}]}, {\"name\": \"log_loss\", \"run_id\": \"AutoML_52fec94b-7a74-459f-a9f9-315d832f9817\", \"categories\": [0], \"series\": [{\"data\": [0.09697701271279814]}]}, {\"name\": \"average_precision_score_weighted\", \"run_id\": \"AutoML_52fec94b-7a74-459f-a9f9-315d832f9817\", \"categories\": [0], \"series\": [{\"data\": [0.9950476709071372]}]}, {\"name\": \"AUC_micro\", \"run_id\": \"AutoML_52fec94b-7a74-459f-a9f9-315d832f9817\", \"categories\": [0], \"series\": [{\"data\": [0.9935568704799473]}]}, {\"name\": \"precision_score_weighted\", \"run_id\": \"AutoML_52fec94b-7a74-459f-a9f9-315d832f9817\", \"categories\": [0], \"series\": [{\"data\": [0.9661716419780937]}]}], \"run_logs\": \"\\nRun is completed.\", \"graph\": {}, \"widget_settings\": {\"childWidgetDisplay\": \"popup\", \"send_telemetry\": false, \"log_level\": \"INFO\", \"sdk_version\": \"1.20.0\"}, \"loading\": false}"
     },
     "metadata": {},
     "output_type": "display_data"
    },
    {
     "name": "stdout",
     "output_type": "stream",
     "text": [
      "\n",
      "\n",
      "****************************************************************************************************\n",
      "DATA GUARDRAILS: \n",
      "\n",
      "TYPE:         Class balancing detection\n",
      "STATUS:       PASSED\n",
      "DESCRIPTION:  Your inputs were analyzed, and all classes are balanced in your training data.\n",
      "              Learn more about imbalanced data: https://aka.ms/AutomatedMLImbalancedData\n",
      "\n",
      "****************************************************************************************************\n",
      "\n",
      "TYPE:         Missing feature values imputation\n",
      "STATUS:       PASSED\n",
      "DESCRIPTION:  No feature missing values were detected in the training data.\n",
      "              Learn more about missing value imputation: https://aka.ms/AutomatedMLFeaturization\n",
      "\n",
      "****************************************************************************************************\n",
      "\n",
      "TYPE:         High cardinality feature detection\n",
      "STATUS:       PASSED\n",
      "DESCRIPTION:  Your inputs were analyzed, and no high cardinality features were detected.\n",
      "              Learn more about high cardinality feature handling: https://aka.ms/AutomatedMLFeaturization\n",
      "\n",
      "****************************************************************************************************\n",
      "\n",
      "****************************************************************************************************\n",
      "ITERATION: The iteration being evaluated.\n",
      "PIPELINE: A summary description of the pipeline being evaluated.\n",
      "DURATION: Time taken for the current iteration.\n",
      "METRIC: The result of computing score on the fitted pipeline.\n",
      "BEST: The best observed score thus far.\n",
      "****************************************************************************************************\n",
      "\n",
      " ITERATION   PIPELINE                                       DURATION      METRIC      BEST\n",
      "         0   MaxAbsScaler LightGBM                          0:02:18       0.9641    0.9641\n",
      "         1   MaxAbsScaler XGBoostClassifier                 0:00:56       0.9641    0.9641\n",
      "         2   MinMaxScaler RandomForest                      0:00:57       0.9026    0.9641\n",
      "         3   MinMaxScaler RandomForest                      0:02:05       0.8718    0.9641\n",
      "         4   MinMaxScaler RandomForest                      0:02:01       0.9231    0.9641\n",
      "         5   RobustScaler KNN                               0:00:49       0.8564    0.9641\n",
      "         6   SparseNormalizer XGBoostClassifier             0:01:07       0.9333    0.9641\n",
      "         7   RobustScaler SVM                               0:00:52       0.9590    0.9641\n",
      "        10   StandardScalerWrapper LogisticRegression       0:00:55       0.8410    0.9641\n",
      "        11   StandardScalerWrapper RandomForest             0:01:03       0.9385    0.9641\n",
      "         8   SparseNormalizer XGBoostClassifier             0:00:54       0.9436    0.9641\n",
      "         9   SparseNormalizer XGBoostClassifier             0:01:05       0.9333    0.9641\n",
      "        12   MaxAbsScaler LightGBM                          0:00:55       0.8615    0.9641\n",
      "        13   MaxAbsScaler LightGBM                          0:00:53       0.9128    0.9641\n",
      "        14   MaxAbsScaler ExtremeRandomTrees                0:00:53       0.9436    0.9641\n",
      "        15   StandardScalerWrapper LightGBM                 0:00:55       0.9026    0.9641\n",
      "        16   StandardScalerWrapper LightGBM                 0:00:53       0.8667    0.9641\n",
      "        17   SparseNormalizer XGBoostClassifier             0:00:52       0.9026    0.9641\n",
      "        18   StandardScalerWrapper LightGBM                 0:00:55       0.9282    0.9641\n",
      "        19   MaxAbsScaler LightGBM                          0:00:51       0.8974    0.9641\n",
      "        20   MinMaxScaler RandomForest                      0:01:17       0.9128    0.9641\n",
      "        21   SparseNormalizer XGBoostClassifier             0:00:53       0.9231    0.9641\n",
      "        22   MaxAbsScaler RandomForest                      0:00:55       0.9538    0.9641\n",
      "        23   RobustScaler LightGBM                          0:01:01       0.9487    0.9641\n",
      "        24   MaxAbsScaler ExtremeRandomTrees                0:01:01       0.8974    0.9641\n",
      "        25   SparseNormalizer XGBoostClassifier             0:00:55       0.9231    0.9641\n",
      "        26   MaxAbsScaler RandomForest                      0:01:06       0.8769    0.9641\n",
      "        27   StandardScalerWrapper XGBoostClassifier        0:00:56       0.9333    0.9641\n",
      "        28   StandardScalerWrapper XGBoostClassifier        0:00:52       0.9487    0.9641\n",
      "        29   SparseNormalizer XGBoostClassifier             0:00:44       0.9231    0.9641\n",
      "        30   SparseNormalizer XGBoostClassifier             0:00:55       0.8718    0.9641\n",
      "        31   SparseNormalizer XGBoostClassifier             0:00:55       0.9538    0.9641\n",
      "        32   SparseNormalizer XGBoostClassifier             0:00:52       0.9128    0.9641\n",
      "        33   StandardScalerWrapper LightGBM                 0:00:49       0.8205    0.9641\n",
      "        34   StandardScalerWrapper XGBoostClassifier        0:00:52       0.9590    0.9641\n",
      "        35   PCA XGBoostClassifier                          0:00:59       0.7538    0.9641\n",
      "        36   StandardScalerWrapper XGBoostClassifier        0:00:53       0.9538    0.9641\n",
      "        37   StandardScalerWrapper XGBoostClassifier        0:00:52       0.9641    0.9641\n",
      "        38   StandardScalerWrapper XGBoostClassifier        0:00:54       0.9590    0.9641\n",
      "        39   StandardScalerWrapper XGBoostClassifier        0:00:51       0.9077    0.9641\n",
      "        40   SparseNormalizer XGBoostClassifier             0:00:52       0.8872    0.9641\n",
      "        41   SparseNormalizer XGBoostClassifier             0:00:49       0.9026    0.9641\n",
      "        42   StandardScalerWrapper XGBoostClassifier        0:00:55       0.8974    0.9641\n",
      "        43   StandardScalerWrapper XGBoostClassifier        0:00:53       0.9436    0.9641\n",
      "ERROR: {\n",
      "    \"additional_properties\": {},\n",
      "    \"error\": {\n",
      "        \"additional_properties\": {\n",
      "            \"debugInfo\": null\n",
      "        },\n",
      "        \"code\": \"UserError\",\n",
      "        \"severity\": null,\n",
      "        \"message\": \"Experiment timeout reached, please consider increasing your experiment timeout.\",\n",
      "        \"message_format\": \"Experiment timeout reached, please consider increasing your experiment timeout.\",\n",
      "        \"message_parameters\": {},\n",
      "        \"reference_code\": null,\n",
      "        \"details_uri\": null,\n",
      "        \"target\": null,\n",
      "        \"details\": [],\n",
      "        \"inner_error\": {\n",
      "            \"additional_properties\": {},\n",
      "            \"code\": \"ResourceExhausted\",\n",
      "            \"inner_error\": {\n",
      "                \"additional_properties\": {},\n",
      "                \"code\": \"Timeout\",\n",
      "                \"inner_error\": {\n",
      "                    \"additional_properties\": {},\n",
      "                    \"code\": \"ExperimentTimeoutForIterations\",\n",
      "                    \"inner_error\": null\n",
      "                }\n",
      "            }\n",
      "        }\n",
      "    },\n",
      "    \"correlation\": null,\n",
      "    \"environment\": null,\n",
      "    \"location\": null,\n",
      "    \"time\": {},\n",
      "    \"component_name\": null\n",
      "}\n",
      "        44   StandardScalerWrapper XGBoostClassifier        0:00:46       0.9538    0.9641\n",
      "ERROR: {\n",
      "    \"additional_properties\": {},\n",
      "    \"error\": {\n",
      "        \"additional_properties\": {\n",
      "            \"debugInfo\": null\n",
      "        },\n",
      "        \"code\": \"UserError\",\n",
      "        \"severity\": null,\n",
      "        \"message\": \"Experiment timeout reached, please consider increasing your experiment timeout.\",\n",
      "        \"message_format\": \"Experiment timeout reached, please consider increasing your experiment timeout.\",\n",
      "        \"message_parameters\": {},\n",
      "        \"reference_code\": null,\n",
      "        \"details_uri\": null,\n",
      "        \"target\": null,\n",
      "        \"details\": [],\n",
      "        \"inner_error\": {\n",
      "            \"additional_properties\": {},\n",
      "            \"code\": \"ResourceExhausted\",\n",
      "            \"inner_error\": {\n",
      "                \"additional_properties\": {},\n",
      "                \"code\": \"Timeout\",\n",
      "                \"inner_error\": {\n",
      "                    \"additional_properties\": {},\n",
      "                    \"code\": \"ExperimentTimeoutForIterations\",\n",
      "                    \"inner_error\": null\n",
      "                }\n",
      "            }\n",
      "        }\n",
      "    },\n",
      "    \"correlation\": null,\n",
      "    \"environment\": null,\n",
      "    \"location\": null,\n",
      "    \"time\": {},\n",
      "    \"component_name\": null\n",
      "}\n",
      "        45   StandardScalerWrapper XGBoostClassifier        0:00:41       0.9692    0.9692\n",
      "ERROR: {\n",
      "    \"additional_properties\": {},\n",
      "    \"error\": {\n",
      "        \"additional_properties\": {\n",
      "            \"debugInfo\": null\n",
      "        },\n",
      "        \"code\": \"UserError\",\n",
      "        \"severity\": null,\n",
      "        \"message\": \"Experiment timeout reached, please consider increasing your experiment timeout.\",\n",
      "        \"message_format\": \"Experiment timeout reached, please consider increasing your experiment timeout.\",\n",
      "        \"message_parameters\": {},\n",
      "        \"reference_code\": null,\n",
      "        \"details_uri\": null,\n",
      "        \"target\": null,\n",
      "        \"details\": [],\n",
      "        \"inner_error\": {\n",
      "            \"additional_properties\": {},\n",
      "            \"code\": \"ResourceExhausted\",\n",
      "            \"inner_error\": {\n",
      "                \"additional_properties\": {},\n",
      "                \"code\": \"Timeout\",\n",
      "                \"inner_error\": {\n",
      "                    \"additional_properties\": {},\n",
      "                    \"code\": \"ExperimentTimeoutForIterations\",\n",
      "                    \"inner_error\": null\n",
      "                }\n",
      "            }\n",
      "        }\n",
      "    },\n",
      "    \"correlation\": null,\n",
      "    \"environment\": null,\n",
      "    \"location\": null,\n",
      "    \"time\": {},\n",
      "    \"component_name\": null\n",
      "}\n"
     ]
    },
    {
     "name": "stdout",
     "output_type": "stream",
     "text": [
      "        46    VotingEnsemble                                0:01:50       0.9641    0.9692\n",
      "        47    StackEnsemble                                 0:01:55       0.9436    0.9692\n"
     ]
    },
    {
     "data": {
      "text/plain": [
       "{'runId': 'AutoML_52fec94b-7a74-459f-a9f9-315d832f9817',\n",
       " 'target': 'cpu-cluster',\n",
       " 'status': 'Completed',\n",
       " 'startTimeUtc': '2021-02-05T23:38:11.339523Z',\n",
       " 'endTimeUtc': '2021-02-06T00:03:41.838678Z',\n",
       " 'properties': {'num_iterations': '1000',\n",
       "  'training_type': 'TrainFull',\n",
       "  'acquisition_function': 'EI',\n",
       "  'primary_metric': 'accuracy',\n",
       "  'train_split': '0',\n",
       "  'acquisition_parameter': '0',\n",
       "  'num_cross_validation': '5',\n",
       "  'target': 'cpu-cluster',\n",
       "  'AMLSettingsJsonString': '{\"path\":null,\"name\":\"Parkinson-classification\",\"subscription_id\":\"3e42d11f-d64d-4173-af9b-12ecaa1030b3\",\"resource_group\":\"aml-quickstarts-137376\",\"workspace_name\":\"quick-starts-ws-137376\",\"region\":\"southcentralus\",\"compute_target\":\"cpu-cluster\",\"spark_service\":null,\"azure_service\":\"remote\",\"many_models\":false,\"pipeline_fetch_max_batch_size\":1,\"iterations\":1000,\"primary_metric\":\"accuracy\",\"task_type\":\"classification\",\"data_script\":null,\"validation_size\":0.0,\"n_cross_validations\":5,\"y_min\":null,\"y_max\":null,\"num_classes\":null,\"featurization\":\"auto\",\"_ignore_package_version_incompatibilities\":false,\"is_timeseries\":false,\"max_cores_per_iteration\":1,\"max_concurrent_iterations\":4,\"iteration_timeout_minutes\":null,\"mem_in_mb\":null,\"enforce_time_on_windows\":false,\"experiment_timeout_minutes\":15,\"experiment_exit_score\":null,\"whitelist_models\":null,\"blacklist_algos\":[\"TensorFlowLinearClassifier\",\"TensorFlowDNN\"],\"supported_models\":[\"TensorFlowDNN\",\"KNN\",\"RandomForest\",\"LogisticRegression\",\"GradientBoosting\",\"LinearSVM\",\"DecisionTree\",\"TensorFlowLinearClassifier\",\"MultinomialNaiveBayes\",\"ExtremeRandomTrees\",\"SGD\",\"AveragedPerceptronClassifier\",\"XGBoostClassifier\",\"BernoulliNaiveBayes\",\"LightGBM\",\"SVM\"],\"auto_blacklist\":true,\"blacklist_samples_reached\":false,\"exclude_nan_labels\":true,\"verbosity\":20,\"_debug_log\":\"azureml_automl.log\",\"show_warnings\":false,\"model_explainability\":true,\"service_url\":null,\"sdk_url\":null,\"sdk_packages\":null,\"enable_onnx_compatible_models\":false,\"enable_split_onnx_featurizer_estimator_models\":false,\"vm_type\":\"STANDARD_DS3_V2\",\"telemetry_verbosity\":20,\"send_telemetry\":true,\"enable_dnn\":false,\"scenario\":\"SDK-1.13.0\",\"environment_label\":null,\"force_text_dnn\":false,\"enable_feature_sweeping\":true,\"enable_early_stopping\":false,\"early_stopping_n_iters\":10,\"metrics\":null,\"enable_ensembling\":true,\"enable_stack_ensembling\":true,\"ensemble_iterations\":15,\"enable_tf\":false,\"enable_subsampling\":null,\"subsample_seed\":null,\"enable_nimbusml\":false,\"enable_streaming\":false,\"force_streaming\":false,\"track_child_runs\":true,\"allowed_private_models\":[],\"label_column_name\":\"status\",\"weight_column_name\":null,\"cv_split_column_names\":null,\"enable_local_managed\":false,\"_local_managed_run_id\":null,\"cost_mode\":1,\"lag_length\":0,\"metric_operation\":\"maximize\",\"preprocess\":true}',\n",
       "  'DataPrepJsonString': '{\\\\\"training_data\\\\\": \\\\\"{\\\\\\\\\\\\\"blocks\\\\\\\\\\\\\": [{\\\\\\\\\\\\\"id\\\\\\\\\\\\\": \\\\\\\\\\\\\"656caccf-e846-41e1-9568-1f0289674bb8\\\\\\\\\\\\\", \\\\\\\\\\\\\"type\\\\\\\\\\\\\": \\\\\\\\\\\\\"Microsoft.DPrep.GetDatastoreFilesBlock\\\\\\\\\\\\\", \\\\\\\\\\\\\"arguments\\\\\\\\\\\\\": {\\\\\\\\\\\\\"datastores\\\\\\\\\\\\\": [{\\\\\\\\\\\\\"datastoreName\\\\\\\\\\\\\": \\\\\\\\\\\\\"workspaceblobstore\\\\\\\\\\\\\", \\\\\\\\\\\\\"path\\\\\\\\\\\\\": \\\\\\\\\\\\\"data/training_data.csv\\\\\\\\\\\\\", \\\\\\\\\\\\\"resourceGroup\\\\\\\\\\\\\": \\\\\\\\\\\\\"aml-quickstarts-137376\\\\\\\\\\\\\", \\\\\\\\\\\\\"subscription\\\\\\\\\\\\\": \\\\\\\\\\\\\"3e42d11f-d64d-4173-af9b-12ecaa1030b3\\\\\\\\\\\\\", \\\\\\\\\\\\\"workspaceName\\\\\\\\\\\\\": \\\\\\\\\\\\\"quick-starts-ws-137376\\\\\\\\\\\\\"}]}, \\\\\\\\\\\\\"localData\\\\\\\\\\\\\": {}, \\\\\\\\\\\\\"isEnabled\\\\\\\\\\\\\": true, \\\\\\\\\\\\\"name\\\\\\\\\\\\\": null, \\\\\\\\\\\\\"annotation\\\\\\\\\\\\\": null}, {\\\\\\\\\\\\\"id\\\\\\\\\\\\\": \\\\\\\\\\\\\"938e5fb7-8283-4c9e-815d-c98d40a36842\\\\\\\\\\\\\", \\\\\\\\\\\\\"type\\\\\\\\\\\\\": \\\\\\\\\\\\\"Microsoft.DPrep.ParseDelimitedBlock\\\\\\\\\\\\\", \\\\\\\\\\\\\"arguments\\\\\\\\\\\\\": {\\\\\\\\\\\\\"columnHeadersMode\\\\\\\\\\\\\": 3, \\\\\\\\\\\\\"fileEncoding\\\\\\\\\\\\\": 0, \\\\\\\\\\\\\"handleQuotedLineBreaks\\\\\\\\\\\\\": false, \\\\\\\\\\\\\"preview\\\\\\\\\\\\\": false, \\\\\\\\\\\\\"separator\\\\\\\\\\\\\": \\\\\\\\\\\\\",\\\\\\\\\\\\\", \\\\\\\\\\\\\"skipRows\\\\\\\\\\\\\": 0, \\\\\\\\\\\\\"skipRowsMode\\\\\\\\\\\\\": 0}, \\\\\\\\\\\\\"localData\\\\\\\\\\\\\": {}, \\\\\\\\\\\\\"isEnabled\\\\\\\\\\\\\": true, \\\\\\\\\\\\\"name\\\\\\\\\\\\\": null, \\\\\\\\\\\\\"annotation\\\\\\\\\\\\\": null}, {\\\\\\\\\\\\\"id\\\\\\\\\\\\\": \\\\\\\\\\\\\"d6dabf95-eceb-470d-80fd-6aad60d1be62\\\\\\\\\\\\\", \\\\\\\\\\\\\"type\\\\\\\\\\\\\": \\\\\\\\\\\\\"Microsoft.DPrep.DropColumnsBlock\\\\\\\\\\\\\", \\\\\\\\\\\\\"arguments\\\\\\\\\\\\\": {\\\\\\\\\\\\\"columns\\\\\\\\\\\\\": {\\\\\\\\\\\\\"type\\\\\\\\\\\\\": 0, \\\\\\\\\\\\\"details\\\\\\\\\\\\\": {\\\\\\\\\\\\\"selectedColumns\\\\\\\\\\\\\": [\\\\\\\\\\\\\"Path\\\\\\\\\\\\\"]}}}, \\\\\\\\\\\\\"localData\\\\\\\\\\\\\": {}, \\\\\\\\\\\\\"isEnabled\\\\\\\\\\\\\": true, \\\\\\\\\\\\\"name\\\\\\\\\\\\\": null, \\\\\\\\\\\\\"annotation\\\\\\\\\\\\\": null}, {\\\\\\\\\\\\\"id\\\\\\\\\\\\\": \\\\\\\\\\\\\"d2602c08-d38f-49d2-8922-1f2f4685a887\\\\\\\\\\\\\", \\\\\\\\\\\\\"type\\\\\\\\\\\\\": \\\\\\\\\\\\\"Microsoft.DPrep.SetColumnTypesBlock\\\\\\\\\\\\\", \\\\\\\\\\\\\"arguments\\\\\\\\\\\\\": {\\\\\\\\\\\\\"columnConversion\\\\\\\\\\\\\": [{\\\\\\\\\\\\\"column\\\\\\\\\\\\\": {\\\\\\\\\\\\\"type\\\\\\\\\\\\\": 2, \\\\\\\\\\\\\"details\\\\\\\\\\\\\": {\\\\\\\\\\\\\"selectedColumn\\\\\\\\\\\\\": \\\\\\\\\\\\\"Column1\\\\\\\\\\\\\"}}, \\\\\\\\\\\\\"typeProperty\\\\\\\\\\\\\": 2}, {\\\\\\\\\\\\\"column\\\\\\\\\\\\\": {\\\\\\\\\\\\\"type\\\\\\\\\\\\\": 2, \\\\\\\\\\\\\"details\\\\\\\\\\\\\": {\\\\\\\\\\\\\"selectedColumn\\\\\\\\\\\\\": \\\\\\\\\\\\\"MDVP:Fo(Hz)\\\\\\\\\\\\\"}}, \\\\\\\\\\\\\"typeProperty\\\\\\\\\\\\\": 3}, {\\\\\\\\\\\\\"column\\\\\\\\\\\\\": {\\\\\\\\\\\\\"type\\\\\\\\\\\\\": 2, \\\\\\\\\\\\\"details\\\\\\\\\\\\\": {\\\\\\\\\\\\\"selectedColumn\\\\\\\\\\\\\": \\\\\\\\\\\\\"MDVP:Fhi(Hz)\\\\\\\\\\\\\"}}, \\\\\\\\\\\\\"typeProperty\\\\\\\\\\\\\": 3}, {\\\\\\\\\\\\\"column\\\\\\\\\\\\\": {\\\\\\\\\\\\\"type\\\\\\\\\\\\\": 2, \\\\\\\\\\\\\"details\\\\\\\\\\\\\": {\\\\\\\\\\\\\"selectedColumn\\\\\\\\\\\\\": \\\\\\\\\\\\\"MDVP:Flo(Hz)\\\\\\\\\\\\\"}}, \\\\\\\\\\\\\"typeProperty\\\\\\\\\\\\\": 3}, {\\\\\\\\\\\\\"column\\\\\\\\\\\\\": {\\\\\\\\\\\\\"type\\\\\\\\\\\\\": 2, \\\\\\\\\\\\\"details\\\\\\\\\\\\\": {\\\\\\\\\\\\\"selectedColumn\\\\\\\\\\\\\": \\\\\\\\\\\\\"MDVP:Jitter(%)\\\\\\\\\\\\\"}}, \\\\\\\\\\\\\"typeProperty\\\\\\\\\\\\\": 3}, {\\\\\\\\\\\\\"column\\\\\\\\\\\\\": {\\\\\\\\\\\\\"type\\\\\\\\\\\\\": 2, \\\\\\\\\\\\\"details\\\\\\\\\\\\\": {\\\\\\\\\\\\\"selectedColumn\\\\\\\\\\\\\": \\\\\\\\\\\\\"MDVP:Jitter(Abs)\\\\\\\\\\\\\"}}, \\\\\\\\\\\\\"typeProperty\\\\\\\\\\\\\": 3}, {\\\\\\\\\\\\\"column\\\\\\\\\\\\\": {\\\\\\\\\\\\\"type\\\\\\\\\\\\\": 2, \\\\\\\\\\\\\"details\\\\\\\\\\\\\": {\\\\\\\\\\\\\"selectedColumn\\\\\\\\\\\\\": \\\\\\\\\\\\\"MDVP:RAP\\\\\\\\\\\\\"}}, \\\\\\\\\\\\\"typeProperty\\\\\\\\\\\\\": 3}, {\\\\\\\\\\\\\"column\\\\\\\\\\\\\": {\\\\\\\\\\\\\"type\\\\\\\\\\\\\": 2, \\\\\\\\\\\\\"details\\\\\\\\\\\\\": {\\\\\\\\\\\\\"selectedColumn\\\\\\\\\\\\\": \\\\\\\\\\\\\"MDVP:PPQ\\\\\\\\\\\\\"}}, \\\\\\\\\\\\\"typeProperty\\\\\\\\\\\\\": 3}, {\\\\\\\\\\\\\"column\\\\\\\\\\\\\": {\\\\\\\\\\\\\"type\\\\\\\\\\\\\": 2, \\\\\\\\\\\\\"details\\\\\\\\\\\\\": {\\\\\\\\\\\\\"selectedColumn\\\\\\\\\\\\\": \\\\\\\\\\\\\"Jitter:DDP\\\\\\\\\\\\\"}}, \\\\\\\\\\\\\"typeProperty\\\\\\\\\\\\\": 3}, {\\\\\\\\\\\\\"column\\\\\\\\\\\\\": {\\\\\\\\\\\\\"type\\\\\\\\\\\\\": 2, \\\\\\\\\\\\\"details\\\\\\\\\\\\\": {\\\\\\\\\\\\\"selectedColumn\\\\\\\\\\\\\": \\\\\\\\\\\\\"MDVP:Shimmer\\\\\\\\\\\\\"}}, \\\\\\\\\\\\\"typeProperty\\\\\\\\\\\\\": 3}, {\\\\\\\\\\\\\"column\\\\\\\\\\\\\": {\\\\\\\\\\\\\"type\\\\\\\\\\\\\": 2, \\\\\\\\\\\\\"details\\\\\\\\\\\\\": {\\\\\\\\\\\\\"selectedColumn\\\\\\\\\\\\\": \\\\\\\\\\\\\"MDVP:Shimmer(dB)\\\\\\\\\\\\\"}}, \\\\\\\\\\\\\"typeProperty\\\\\\\\\\\\\": 3}, {\\\\\\\\\\\\\"column\\\\\\\\\\\\\": {\\\\\\\\\\\\\"type\\\\\\\\\\\\\": 2, \\\\\\\\\\\\\"details\\\\\\\\\\\\\": {\\\\\\\\\\\\\"selectedColumn\\\\\\\\\\\\\": \\\\\\\\\\\\\"Shimmer:APQ3\\\\\\\\\\\\\"}}, \\\\\\\\\\\\\"typeProperty\\\\\\\\\\\\\": 3}, {\\\\\\\\\\\\\"column\\\\\\\\\\\\\": {\\\\\\\\\\\\\"type\\\\\\\\\\\\\": 2, \\\\\\\\\\\\\"details\\\\\\\\\\\\\": {\\\\\\\\\\\\\"selectedColumn\\\\\\\\\\\\\": \\\\\\\\\\\\\"Shimmer:APQ5\\\\\\\\\\\\\"}}, \\\\\\\\\\\\\"typeProperty\\\\\\\\\\\\\": 3}, {\\\\\\\\\\\\\"column\\\\\\\\\\\\\": {\\\\\\\\\\\\\"type\\\\\\\\\\\\\": 2, \\\\\\\\\\\\\"details\\\\\\\\\\\\\": {\\\\\\\\\\\\\"selectedColumn\\\\\\\\\\\\\": \\\\\\\\\\\\\"MDVP:APQ\\\\\\\\\\\\\"}}, \\\\\\\\\\\\\"typeProperty\\\\\\\\\\\\\": 3}, {\\\\\\\\\\\\\"column\\\\\\\\\\\\\": {\\\\\\\\\\\\\"type\\\\\\\\\\\\\": 2, \\\\\\\\\\\\\"details\\\\\\\\\\\\\": {\\\\\\\\\\\\\"selectedColumn\\\\\\\\\\\\\": \\\\\\\\\\\\\"Shimmer:DDA\\\\\\\\\\\\\"}}, \\\\\\\\\\\\\"typeProperty\\\\\\\\\\\\\": 3}, {\\\\\\\\\\\\\"column\\\\\\\\\\\\\": {\\\\\\\\\\\\\"type\\\\\\\\\\\\\": 2, \\\\\\\\\\\\\"details\\\\\\\\\\\\\": {\\\\\\\\\\\\\"selectedColumn\\\\\\\\\\\\\": \\\\\\\\\\\\\"NHR\\\\\\\\\\\\\"}}, \\\\\\\\\\\\\"typeProperty\\\\\\\\\\\\\": 3}, {\\\\\\\\\\\\\"column\\\\\\\\\\\\\": {\\\\\\\\\\\\\"type\\\\\\\\\\\\\": 2, \\\\\\\\\\\\\"details\\\\\\\\\\\\\": {\\\\\\\\\\\\\"selectedColumn\\\\\\\\\\\\\": \\\\\\\\\\\\\"HNR\\\\\\\\\\\\\"}}, \\\\\\\\\\\\\"typeProperty\\\\\\\\\\\\\": 3}, {\\\\\\\\\\\\\"column\\\\\\\\\\\\\": {\\\\\\\\\\\\\"type\\\\\\\\\\\\\": 2, \\\\\\\\\\\\\"details\\\\\\\\\\\\\": {\\\\\\\\\\\\\"selectedColumn\\\\\\\\\\\\\": \\\\\\\\\\\\\"status\\\\\\\\\\\\\"}}, \\\\\\\\\\\\\"typeProperty\\\\\\\\\\\\\": 2}, {\\\\\\\\\\\\\"column\\\\\\\\\\\\\": {\\\\\\\\\\\\\"type\\\\\\\\\\\\\": 2, \\\\\\\\\\\\\"details\\\\\\\\\\\\\": {\\\\\\\\\\\\\"selectedColumn\\\\\\\\\\\\\": \\\\\\\\\\\\\"RPDE\\\\\\\\\\\\\"}}, \\\\\\\\\\\\\"typeProperty\\\\\\\\\\\\\": 3}, {\\\\\\\\\\\\\"column\\\\\\\\\\\\\": {\\\\\\\\\\\\\"type\\\\\\\\\\\\\": 2, \\\\\\\\\\\\\"details\\\\\\\\\\\\\": {\\\\\\\\\\\\\"selectedColumn\\\\\\\\\\\\\": \\\\\\\\\\\\\"DFA\\\\\\\\\\\\\"}}, \\\\\\\\\\\\\"typeProperty\\\\\\\\\\\\\": 3}, {\\\\\\\\\\\\\"column\\\\\\\\\\\\\": {\\\\\\\\\\\\\"type\\\\\\\\\\\\\": 2, \\\\\\\\\\\\\"details\\\\\\\\\\\\\": {\\\\\\\\\\\\\"selectedColumn\\\\\\\\\\\\\": \\\\\\\\\\\\\"spread1\\\\\\\\\\\\\"}}, \\\\\\\\\\\\\"typeProperty\\\\\\\\\\\\\": 3}, {\\\\\\\\\\\\\"column\\\\\\\\\\\\\": {\\\\\\\\\\\\\"type\\\\\\\\\\\\\": 2, \\\\\\\\\\\\\"details\\\\\\\\\\\\\": {\\\\\\\\\\\\\"selectedColumn\\\\\\\\\\\\\": \\\\\\\\\\\\\"spread2\\\\\\\\\\\\\"}}, \\\\\\\\\\\\\"typeProperty\\\\\\\\\\\\\": 3}, {\\\\\\\\\\\\\"column\\\\\\\\\\\\\": {\\\\\\\\\\\\\"type\\\\\\\\\\\\\": 2, \\\\\\\\\\\\\"details\\\\\\\\\\\\\": {\\\\\\\\\\\\\"selectedColumn\\\\\\\\\\\\\": \\\\\\\\\\\\\"D2\\\\\\\\\\\\\"}}, \\\\\\\\\\\\\"typeProperty\\\\\\\\\\\\\": 3}, {\\\\\\\\\\\\\"column\\\\\\\\\\\\\": {\\\\\\\\\\\\\"type\\\\\\\\\\\\\": 2, \\\\\\\\\\\\\"details\\\\\\\\\\\\\": {\\\\\\\\\\\\\"selectedColumn\\\\\\\\\\\\\": \\\\\\\\\\\\\"PPE\\\\\\\\\\\\\"}}, \\\\\\\\\\\\\"typeProperty\\\\\\\\\\\\\": 3}]}, \\\\\\\\\\\\\"localData\\\\\\\\\\\\\": {}, \\\\\\\\\\\\\"isEnabled\\\\\\\\\\\\\": true, \\\\\\\\\\\\\"name\\\\\\\\\\\\\": null, \\\\\\\\\\\\\"annotation\\\\\\\\\\\\\": null}], \\\\\\\\\\\\\"inspectors\\\\\\\\\\\\\": [], \\\\\\\\\\\\\"meta\\\\\\\\\\\\\": {\\\\\\\\\\\\\"savedDatasetId\\\\\\\\\\\\\": \\\\\\\\\\\\\"36b0d706-f642-442e-813a-4ac68c3da8b4\\\\\\\\\\\\\", \\\\\\\\\\\\\"datasetType\\\\\\\\\\\\\": \\\\\\\\\\\\\"tabular\\\\\\\\\\\\\", \\\\\\\\\\\\\"subscriptionId\\\\\\\\\\\\\": \\\\\\\\\\\\\"3e42d11f-d64d-4173-af9b-12ecaa1030b3\\\\\\\\\\\\\", \\\\\\\\\\\\\"workspaceId\\\\\\\\\\\\\": \\\\\\\\\\\\\"25723a3a-4c82-4dae-84f2-db3c24853bf3\\\\\\\\\\\\\", \\\\\\\\\\\\\"workspaceLocation\\\\\\\\\\\\\": \\\\\\\\\\\\\"southcentralus\\\\\\\\\\\\\"}}\\\\\", \\\\\"activities\\\\\": 0}',\n",
       "  'EnableSubsampling': None,\n",
       "  'runTemplate': 'AutoML',\n",
       "  'azureml.runsource': 'automl',\n",
       "  'display_task_type': 'classification',\n",
       "  'dependencies_versions': '{\"azureml-widgets\": \"1.20.0\", \"azureml-train\": \"1.20.0\", \"azureml-train-restclients-hyperdrive\": \"1.20.0\", \"azureml-train-core\": \"1.20.0\", \"azureml-train-automl\": \"1.20.0\", \"azureml-train-automl-runtime\": \"1.20.0\", \"azureml-train-automl-client\": \"1.20.0\", \"azureml-tensorboard\": \"1.20.0\", \"azureml-telemetry\": \"1.20.0\", \"azureml-sdk\": \"1.20.0\", \"azureml-samples\": \"0+unknown\", \"azureml-pipeline\": \"1.20.0\", \"azureml-pipeline-steps\": \"1.20.0\", \"azureml-pipeline-core\": \"1.20.0\", \"azureml-opendatasets\": \"1.20.0\", \"azureml-model-management-sdk\": \"1.0.1b6.post1\", \"azureml-mlflow\": \"1.20.0.post1\", \"azureml-interpret\": \"1.20.0\", \"azureml-explain-model\": \"1.20.0\", \"azureml-defaults\": \"1.20.0\", \"azureml-dataset-runtime\": \"1.20.0\", \"azureml-dataprep\": \"2.7.3\", \"azureml-dataprep-rslex\": \"1.5.0\", \"azureml-dataprep-native\": \"27.0.0\", \"azureml-datadrift\": \"1.20.0\", \"azureml-core\": \"1.20.0\", \"azureml-contrib-services\": \"1.20.0\", \"azureml-contrib-server\": \"1.20.0\", \"azureml-contrib-reinforcementlearning\": \"1.20.0\", \"azureml-contrib-pipeline-steps\": \"1.20.0\", \"azureml-contrib-notebook\": \"1.20.0\", \"azureml-contrib-interpret\": \"1.20.0\", \"azureml-contrib-gbdt\": \"1.20.0\", \"azureml-contrib-fairness\": \"1.20.0\", \"azureml-contrib-dataset\": \"1.20.0\", \"azureml-cli-common\": \"1.20.0\", \"azureml-automl-runtime\": \"1.20.0\", \"azureml-automl-core\": \"1.20.0\", \"azureml-accel-models\": \"1.20.0\"}',\n",
       "  '_aml_system_scenario_identification': 'Remote.Parent',\n",
       "  'ClientType': 'SDK',\n",
       "  'environment_cpu_name': 'AzureML-AutoML',\n",
       "  'environment_cpu_label': 'prod',\n",
       "  'environment_gpu_name': 'AzureML-AutoML-GPU',\n",
       "  'environment_gpu_label': 'prod',\n",
       "  'root_attribution': 'automl',\n",
       "  'attribution': 'AutoML',\n",
       "  'Orchestrator': 'AutoML',\n",
       "  'CancelUri': 'https://southcentralus.experiments.azureml.net/jasmine/v1.0/subscriptions/3e42d11f-d64d-4173-af9b-12ecaa1030b3/resourceGroups/aml-quickstarts-137376/providers/Microsoft.MachineLearningServices/workspaces/quick-starts-ws-137376/experimentids/efc6f414-30be-427b-8cb5-9e0fc1587271/cancel/AutoML_52fec94b-7a74-459f-a9f9-315d832f9817',\n",
       "  'ClientSdkVersion': '1.21.0',\n",
       "  'snapshotId': '00000000-0000-0000-0000-000000000000',\n",
       "  'SetupRunId': 'AutoML_52fec94b-7a74-459f-a9f9-315d832f9817_setup',\n",
       "  'SetupRunContainerId': 'dcid.AutoML_52fec94b-7a74-459f-a9f9-315d832f9817_setup',\n",
       "  'FeaturizationRunJsonPath': 'featurizer_container.json',\n",
       "  'FeaturizationRunId': 'AutoML_52fec94b-7a74-459f-a9f9-315d832f9817_featurize',\n",
       "  'ProblemInfoJsonString': '{\"dataset_num_categorical\": 0, \"is_sparse\": false, \"subsampling\": false, \"dataset_classes\": 2, \"dataset_features\": 23, \"dataset_samples\": 195, \"single_frequency_class_detected\": false}',\n",
       "  'ModelExplainRunId': 'AutoML_52fec94b-7a74-459f-a9f9-315d832f9817_ModelExplain'},\n",
       " 'inputDatasets': [{'dataset': {'id': '36b0d706-f642-442e-813a-4ac68c3da8b4'}, 'consumptionDetails': {'type': 'RunInput', 'inputName': 'training_data', 'mechanism': 'Direct'}}],\n",
       " 'outputDatasets': [],\n",
       " 'logFiles': {},\n",
       " 'submittedBy': 'ODL_User 137376'}"
      ]
     },
     "execution_count": 9,
     "metadata": {},
     "output_type": "execute_result"
    }
   ],
   "source": [
    "RunDetails(auto_ml_run).show()\n",
    "auto_ml_run.wait_for_completion(show_output=True)"
   ]
  },
  {
   "cell_type": "markdown",
   "metadata": {},
   "source": [
    "## Best Model\n",
    "\n",
    "TODO: In the cell below, get the best model from the automl experiments and display all the properties of the model.\n",
    "\n"
   ]
  },
  {
   "cell_type": "code",
   "execution_count": 10,
   "metadata": {
    "gather": {
     "logged": 1598431425670
    },
    "jupyter": {
     "outputs_hidden": false,
     "source_hidden": false
    },
    "nteract": {
     "transient": {
      "deleting": false
     }
    }
   },
   "outputs": [
    {
     "name": "stderr",
     "output_type": "stream",
     "text": [
      "WARNING:root:The version of the SDK does not match the version the model was trained on.\n",
      "WARNING:root:The consistency in the result may not be guaranteed.\n",
      "WARNING:root:Package:azureml-automl-core, training version:1.21.0, current version:1.20.0\n",
      "Package:azureml-automl-runtime, training version:1.21.0, current version:1.20.0\n",
      "Package:azureml-core, training version:1.21.0.post1, current version:1.20.0\n",
      "Package:azureml-dataprep, training version:2.8.2, current version:2.7.3\n",
      "Package:azureml-dataprep-native, training version:28.0.0, current version:27.0.0\n",
      "Package:azureml-dataprep-rslex, training version:1.6.0, current version:1.5.0\n",
      "Package:azureml-dataset-runtime, training version:1.21.0, current version:1.20.0\n",
      "Package:azureml-defaults, training version:1.21.0, current version:1.20.0\n",
      "Package:azureml-interpret, training version:1.21.0, current version:1.20.0\n",
      "Package:azureml-pipeline-core, training version:1.21.0, current version:1.20.0\n",
      "Package:azureml-telemetry, training version:1.21.0, current version:1.20.0\n",
      "Package:azureml-train-automl-client, training version:1.21.0, current version:1.20.0\n",
      "Package:azureml-train-automl-runtime, training version:1.21.0, current version:1.20.0\n",
      "WARNING:root:Please ensure the version of your local conda dependencies match the version on which your model was trained in order to properly retrieve your model.\n"
     ]
    },
    {
     "name": "stdout",
     "output_type": "stream",
     "text": [
      "Run(Experiment: Parkinson-classification,\n",
      "Id: AutoML_52fec94b-7a74-459f-a9f9-315d832f9817_0,\n",
      "Type: azureml.scriptrun,\n",
      "Status: Completed)\n",
      "Pipeline(memory=None,\n",
      "         steps=[('datatransformer',\n",
      "                 DataTransformer(enable_dnn=None, enable_feature_sweeping=None,\n",
      "                                 feature_sweeping_config=None,\n",
      "                                 feature_sweeping_timeout=None,\n",
      "                                 featurization_config=None, force_text_dnn=None,\n",
      "                                 is_cross_validation=None,\n",
      "                                 is_onnx_compatible=None, logger=None,\n",
      "                                 observer=None, task=None, working_dir=None)),\n",
      "                ('MaxAbsScaler', MaxAbsScaler(copy...\n",
      "                 LightGBMClassifier(boosting_type='gbdt', class_weight=None,\n",
      "                                    colsample_bytree=1.0,\n",
      "                                    importance_type='split', learning_rate=0.1,\n",
      "                                    max_depth=-1, min_child_samples=20,\n",
      "                                    min_child_weight=0.001, min_split_gain=0.0,\n",
      "                                    n_estimators=100, n_jobs=1, num_leaves=31,\n",
      "                                    objective=None, random_state=None,\n",
      "                                    reg_alpha=0.0, reg_lambda=0.0, silent=True,\n",
      "                                    subsample=1.0, subsample_for_bin=200000,\n",
      "                                    subsample_freq=0, verbose=-10))],\n",
      "         verbose=False)\n",
      "Parkinson-detection-automl\n"
     ]
    }
   ],
   "source": [
    "# Retrieve the best automl model.\n",
    "best_run, fitted_model = auto_ml_run.get_output()\n",
    "print(best_run)\n",
    "print(fitted_model)\n",
    "\n",
    "#Register the model\n",
    "description ='Parkinson detection classification '\n",
    "model_name='Parkinson-detection-automl'\n",
    "model_path='./'\n",
    "tags = None\n",
    "model = auto_ml_run.register_model(model_name = model_name, description = description , tags = tags)\n",
    "print(auto_ml_run.model_id)"
   ]
  },
  {
   "cell_type": "code",
   "execution_count": 11,
   "metadata": {
    "gather": {
     "logged": 1598431426111
    },
    "jupyter": {
     "outputs_hidden": false,
     "source_hidden": false
    },
    "nteract": {
     "transient": {
      "deleting": false
     }
    }
   },
   "outputs": [
    {
     "name": "stdout",
     "output_type": "stream",
     "text": [
      "Downloading from outputs/conda_env_v_1_0_0.yml to ./amlmodel/conda_env_v_1_0_0.yml ...\n",
      "Downloading from outputs/env_dependencies.json to ./amlmodel/env_dependencies.json ...\n",
      "Downloading from outputs/internal_cross_validated_models.pkl to ./amlmodel/internal_cross_validated_models.pkl ...\n",
      "Downloading from outputs/model.pkl to ./amlmodel/model.pkl ...\n",
      "Downloading from outputs/pipeline_graph.json to ./amlmodel/pipeline_graph.json ...\n",
      "Downloading from outputs/scoring_file_v_1_0_0.py to ./amlmodel/scoring_file_v_1_0_0.py ...\n"
     ]
    }
   ],
   "source": [
    "#TODO: Save the best modelimport os\n",
    "os.makedirs('./amlmodel', exist_ok=True)\n",
    "\n",
    "best_run.download_file('/outputs/model.pkl',os.path.join('./amlmodel','automl_best_model_park.pkl'))\n",
    "\n",
    "for f in best_run.get_file_names():\n",
    "    if f.startswith('outputs'):\n",
    "        output_file_path = os.path.join('./amlmodel', f.split('/')[-1])\n",
    "        print(f'Downloading from {f} to {output_file_path} ...')\n",
    "        best_run.download_file(name=f, output_file_path=output_file_path)"
   ]
  },
  {
   "cell_type": "code",
   "execution_count": 12,
   "metadata": {},
   "outputs": [],
   "source": [
    "#Register the best model for the deployement\n",
    "\n",
    "model=best_run.register_model(\n",
    "            model_name = 'automl-bestmodel-parkinson', \n",
    "            model_path = './outputs/model.pkl',\n",
    "            model_framework=Model.Framework.SCIKITLEARN,\n",
    "            description='Parkinson detection'\n",
    ")"
   ]
  },
  {
   "cell_type": "code",
   "execution_count": 13,
   "metadata": {},
   "outputs": [],
   "source": [
    "# Download the conda environment file and define the environement\n",
    "best_run.download_file('outputs/conda_env_v_1_0_0.yml', 'conda_env.yml')\n",
    "myenv = Environment.from_conda_specification(name = 'myenv',\n",
    "                                             file_path = 'conda_env.yml')"
   ]
  },
  {
   "cell_type": "code",
   "execution_count": 14,
   "metadata": {},
   "outputs": [],
   "source": [
    "# download the scoring file produced by AutoML\n",
    "best_run.download_file('outputs/scoring_file_v_1_0_0.py', 'score_auto_park.py')\n",
    "\n",
    "# set inference config\n",
    "inference_config = InferenceConfig(entry_script= 'score_auto_park.py',\n",
    "                                    environment=myenv)"
   ]
  },
  {
   "cell_type": "code",
   "execution_count": 15,
   "metadata": {},
   "outputs": [],
   "source": [
    "# set Aci Webservice config\n",
    "aci_config = AciWebservice.deploy_configuration(cpu_cores=1, memory_gb=1, auth_enabled=True)"
   ]
  },
  {
   "cell_type": "code",
   "execution_count": 16,
   "metadata": {},
   "outputs": [],
   "source": [
    "# deploye the model as a web service \n",
    "service = Model.deploy(workspace=ws, \n",
    "                       name='automl-bestmodel-parkinso', \n",
    "                       models=[model], \n",
    "                       inference_config=inference_config,\n",
    "                       deployment_config=aci_config,\n",
    "                       overwrite=True)"
   ]
  },
  {
   "cell_type": "code",
   "execution_count": 17,
   "metadata": {},
   "outputs": [
    {
     "data": {
      "text/plain": [
       "AciWebservice(workspace=Workspace.create(name='quick-starts-ws-137376', subscription_id='3e42d11f-d64d-4173-af9b-12ecaa1030b3', resource_group='aml-quickstarts-137376'), name=automl-bestmodel-parkinso, image_id=None, compute_type=None, state=ACI, scoring_uri=Transitioning, tags=None, properties={}, created_by={})"
      ]
     },
     "execution_count": 17,
     "metadata": {},
     "output_type": "execute_result"
    }
   ],
   "source": [
    "service"
   ]
  },
  {
   "cell_type": "code",
   "execution_count": 18,
   "metadata": {},
   "outputs": [
    {
     "name": "stdout",
     "output_type": "stream",
     "text": [
      "Tips: You can try get_logs(): https://aka.ms/debugimage#dockerlog or local deployment: https://aka.ms/debugimage#debug-locally to debug if deployment takes longer than 10 minutes.\n",
      "Running.............................................................................................................................................................................\n",
      "Succeeded\n",
      "ACI service creation operation finished, operation \"Succeeded\"\n",
      "Service state:\n",
      "Healthy\n",
      "Scoring URI:\n",
      "http://062121d3-2bb3-4486-a3ed-fc8e8092724c.southcentralus.azurecontainer.io/score\n",
      "Swagger URI:\n",
      "http://062121d3-2bb3-4486-a3ed-fc8e8092724c.southcentralus.azurecontainer.io/swagger.json\n"
     ]
    }
   ],
   "source": [
    "# wait for deployment to finish and display the scoring uri and swagger uri\n",
    "service.wait_for_deployment(show_output=True)\n",
    "\n",
    "print('Service state:')\n",
    "print(service.state)\n",
    "\n",
    "print('Scoring URI:')\n",
    "print(service.scoring_uri)\n",
    "\n",
    "print('Swagger URI:')\n",
    "print(service.swagger_uri)"
   ]
  },
  {
   "cell_type": "code",
   "execution_count": 19,
   "metadata": {},
   "outputs": [
    {
     "name": "stdout",
     "output_type": "stream",
     "text": [
      "{\"data\": [{\"MDVP:Fo(Hz)\": 240.301, \"MDVP:Fhi(Hz)\": 245.135, \"MDVP:Flo(Hz)\": 219.783, \"MDVP:Jitter(%)\": 0.00517, \"MDVP:Jitter(Abs)\": 2e-05, \"MDVP:RAP\": 0.00316, \"MDVP:PPQ\": 0.00283, \"Jitter:DDP\": 0.00949, \"MDVP:Shimmer\": 0.02018, \"MDVP:Shimmer(dB)\": 0.212, \"Shimmer:APQ3\": 0.01176, \"Shimmer:APQ5\": 0.01191, \"MDVP:APQ\": 0.01344, \"Shimmer:DDA\": 0.03529, \"NHR\": 0.00965, \"HNR\": 21.02, \"RPDE\": 0.371837, \"DFA\": 0.646167, \"spread1\": -7.169701, \"spread2\": 0.073298, \"D2\": 2.266432, \"PPE\": 0.100881, \"Column1\": 0.0}, {\"MDVP:Fo(Hz)\": 260.105, \"MDVP:Fhi(Hz)\": 264.919, \"MDVP:Flo(Hz)\": 237.303, \"MDVP:Jitter(%)\": 0.00339, \"MDVP:Jitter(Abs)\": 1e-05, \"MDVP:RAP\": 0.00205, \"MDVP:PPQ\": 0.00186, \"Jitter:DDP\": 0.00616, \"MDVP:Shimmer\": 0.0203, \"MDVP:Shimmer(dB)\": 0.197, \"Shimmer:APQ3\": 0.01186, \"Shimmer:APQ5\": 0.0123, \"MDVP:APQ\": 0.01367, \"Shimmer:DDA\": 0.03557, \"NHR\": 0.0091, \"HNR\": 21.083, \"RPDE\": 0.440988, \"DFA\": 0.628058, \"spread1\": -7.517934, \"spread2\": 0.160414, \"D2\": 1.881767, \"PPE\": 0.075587, \"Column1\": 0.0}, {\"MDVP:Fo(Hz)\": 126.512, \"MDVP:Fhi(Hz)\": 141.756, \"MDVP:Flo(Hz)\": 99.77, \"MDVP:Jitter(%)\": 0.01936, \"MDVP:Jitter(Abs)\": 0.00015, \"MDVP:RAP\": 0.01159, \"MDVP:PPQ\": 0.0099, \"Jitter:DDP\": 0.03476, \"MDVP:Shimmer\": 0.06734, \"MDVP:Shimmer(dB)\": 0.659, \"Shimmer:APQ3\": 0.03611, \"Shimmer:APQ5\": 0.03963, \"MDVP:APQ\": 0.05783, \"Shimmer:DDA\": 0.10833, \"NHR\": 0.16744, \"HNR\": 12.435, \"RPDE\": 0.638545, \"DFA\": 0.674953, \"spread1\": -3.760348, \"spread2\": 0.242861, \"D2\": 2.634633, \"PPE\": 0.378483, \"Column1\": 0.0}]}\n"
     ]
    }
   ],
   "source": [
    "x_df=df.sample(3)\n",
    "y_df = x_df.pop('status')\n",
    "\n",
    "x_df['Column1'] = 0.0\n",
    "\n",
    "# convert the records to a json data file\n",
    "recored=x_df.to_dict(orient='records')\n",
    "\n",
    "scoring_json = json.dumps({'data': recored})\n",
    "print(scoring_json)"
   ]
  },
  {
   "cell_type": "code",
   "execution_count": 20,
   "metadata": {},
   "outputs": [],
   "source": [
    "output = service.run(scoring_json)"
   ]
  },
  {
   "cell_type": "code",
   "execution_count": 21,
   "metadata": {},
   "outputs": [
    {
     "name": "stdout",
     "output_type": "stream",
     "text": [
      "{\"result\": [0, 0, 1]}\n"
     ]
    }
   ],
   "source": [
    "print (output)"
   ]
  },
  {
   "cell_type": "code",
   "execution_count": 22,
   "metadata": {},
   "outputs": [
    {
     "name": "stdout",
     "output_type": "stream",
     "text": [
      "169    0\n",
      "167    0\n",
      "99     1\n",
      "Name: status, dtype: int64\n"
     ]
    }
   ],
   "source": [
    "print(y_df)"
   ]
  },
  {
   "cell_type": "code",
   "execution_count": 23,
   "metadata": {},
   "outputs": [
    {
     "name": "stdout",
     "output_type": "stream",
     "text": [
      "2021-02-06T00:27:41,342368253+00:00 - gunicorn/run \n",
      "2021-02-06T00:27:41,342920878+00:00 - iot-server/run \n",
      "2021-02-06T00:27:41,344877767+00:00 - rsyslog/run \n",
      "2021-02-06T00:27:41,345354289+00:00 - nginx/run \n",
      "/usr/sbin/nginx: /azureml-envs/azureml_7785023fceb74e4facc1b1a577b1faf9/lib/libcrypto.so.1.0.0: no version information available (required by /usr/sbin/nginx)\n",
      "/usr/sbin/nginx: /azureml-envs/azureml_7785023fceb74e4facc1b1a577b1faf9/lib/libcrypto.so.1.0.0: no version information available (required by /usr/sbin/nginx)\n",
      "/usr/sbin/nginx: /azureml-envs/azureml_7785023fceb74e4facc1b1a577b1faf9/lib/libssl.so.1.0.0: no version information available (required by /usr/sbin/nginx)\n",
      "/usr/sbin/nginx: /azureml-envs/azureml_7785023fceb74e4facc1b1a577b1faf9/lib/libssl.so.1.0.0: no version information available (required by /usr/sbin/nginx)\n",
      "/usr/sbin/nginx: /azureml-envs/azureml_7785023fceb74e4facc1b1a577b1faf9/lib/libssl.so.1.0.0: no version information available (required by /usr/sbin/nginx)\n",
      "rsyslogd: /azureml-envs/azureml_7785023fceb74e4facc1b1a577b1faf9/lib/libuuid.so.1: no version information available (required by rsyslogd)\n",
      "EdgeHubConnectionString and IOTEDGE_IOTHUBHOSTNAME are not set. Exiting...\n",
      "2021-02-06T00:27:41,554675447+00:00 - iot-server/finish 1 0\n",
      "2021-02-06T00:27:41,555928904+00:00 - Exit code 1 is normal. Not restarting iot-server.\n",
      "Starting gunicorn 19.9.0\n",
      "Listening at: http://127.0.0.1:31311 (14)\n",
      "Using worker: sync\n",
      "worker timeout is set to 300\n",
      "Booting worker with pid: 42\n",
      "SPARK_HOME not set. Skipping PySpark Initialization.\n",
      "Generating new fontManager, this may take some time...\n",
      "Initializing logger\n",
      "2021-02-06 00:27:42,878 | root | INFO | Starting up app insights client\n",
      "2021-02-06 00:27:42,878 | root | INFO | Starting up request id generator\n",
      "2021-02-06 00:27:42,878 | root | INFO | Starting up app insight hooks\n",
      "2021-02-06 00:27:42,878 | root | INFO | Invoking user's init function\n",
      "2021-02-06 00:27:45,199 | root | INFO | Users's init has completed successfully\n",
      "2021-02-06 00:27:45,202 | root | INFO | Skipping middleware: dbg_model_info as it's not enabled.\n",
      "2021-02-06 00:27:45,202 | root | INFO | Skipping middleware: dbg_resource_usage as it's not enabled.\n",
      "2021-02-06 00:27:45,241 | root | INFO | Scoring timeout is found from os.environ: 60000 ms\n",
      "2021-02-06 00:27:56,906 | root | INFO | 200\n",
      "127.0.0.1 - - [06/Feb/2021:00:27:56 +0000] \"GET /swagger.json HTTP/1.0\" 200 3605 \"-\" \"Go-http-client/1.1\"\n",
      "2021-02-06 00:28:01,529 | root | INFO | 200\n",
      "127.0.0.1 - - [06/Feb/2021:00:28:01 +0000] \"GET /swagger.json HTTP/1.0\" 200 3605 \"-\" \"Go-http-client/1.1\"\n",
      "2021-02-06 00:30:08,080 | root | INFO | Validation Request Content-Type\n",
      "2021-02-06 00:30:08,080 | root | INFO | Scoring Timer is set to 60.0 seconds\n",
      "2021-02-06 00:30:08,169 | root | INFO | 200\n",
      "127.0.0.1 - - [06/Feb/2021:00:30:08 +0000] \"POST /score HTTP/1.0\" 200 25 \"-\" \"python-requests/2.25.1\"\n",
      "\n"
     ]
    }
   ],
   "source": [
    "print(service.get_logs())"
   ]
  },
  {
   "cell_type": "code",
   "execution_count": null,
   "metadata": {
    "jupyter": {
     "outputs_hidden": false,
     "source_hidden": false
    },
    "nteract": {
     "transient": {
      "deleting": false
     }
    }
   },
   "outputs": [],
   "source": [
    "service.delete()\n",
    "aml_compute.delete()"
   ]
  }
 ],
 "metadata": {
  "kernel_info": {
   "name": "python3-azureml"
  },
  "kernelspec": {
   "display_name": "Python 3",
   "language": "python",
   "name": "python3"
  },
  "language_info": {
   "codemirror_mode": {
    "name": "ipython",
    "version": 3
   },
   "file_extension": ".py",
   "mimetype": "text/x-python",
   "name": "python",
   "nbconvert_exporter": "python",
   "pygments_lexer": "ipython3",
   "version": "3.6.9"
  },
  "nteract": {
   "version": "nteract-front-end@1.0.0"
  }
 },
 "nbformat": 4,
 "nbformat_minor": 2
}
